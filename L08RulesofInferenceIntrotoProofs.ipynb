{
 "cells": [
  {
   "cell_type": "markdown",
   "metadata": {
    "slideshow": {
     "slide_type": "slide"
    }
   },
   "source": [
    "# Lecture 8"
   ]
  },
  {
   "cell_type": "markdown",
   "metadata": {
    "slideshow": {
     "slide_type": "slide"
    }
   },
   "source": [
    "# Midterm Post Mortem\n",
    "\n",
    "\n",
    "STATISTIC | Q1 (18) |Q2 (22) | Q3 (22) | Q4 (18)| TOTAL (80)\n",
    "----------|---------|--------|---------|---------|----\n",
    "AVERAGE |11.9|16.8|13.3|5|47.0\n",
    "MAX|18|22|22|18|71\n",
    "MEDIAN|13|17|14|3|46\n",
    "STDEV|2.9|3.7|5.3|5.4|11.1"
   ]
  },
  {
   "cell_type": "markdown",
   "metadata": {
    "slideshow": {
     "slide_type": "fragment"
    }
   },
   "source": [
    "Let $Q$ be the set of questions and $S$ the set of students. Let the predicate $C(q,s)$ mean:   \n",
    "\"Question q was answered correctly by student s\".   \n",
    "\n",
    "Then, the following is true:  \n",
    "\n",
    "$$ \\forall q \\in Q, \\exists s \\in S, C(q,s)$$"
   ]
  },
  {
   "cell_type": "markdown",
   "metadata": {
    "slideshow": {
     "slide_type": "fragment"
    }
   },
   "source": [
    "Unfortunately, this was not true:\n",
    "$$\\exists s \\in S, \\forall q \\in Q, C(q,s)$$"
   ]
  },
  {
   "cell_type": "markdown",
   "metadata": {
    "slideshow": {
     "slide_type": "slide"
    }
   },
   "source": [
    "# Midterm Post Mortem\n",
    "\n",
    "\n",
    "STATISTIC | Q1 (18) |Q2 (22) | Q3 (22) | Q4 (18)| TOTAL (80)\n",
    "----------|---------|--------|---------|---------|----\n",
    "AVERAGE |11.9|16.8|13.3|5|47.0\n",
    "MAX|18|22|22|18|71\n",
    "MEDIAN|13|17|14|3|46\n",
    "STDEV|2.9|3.7|5.3|5.4|11.1\n",
    "\n",
    "\n",
    "My take-aways:\n",
    "1) Students found question 4 very hard.\n",
    "   Probably because it was the most different from questions in homework.   \n",
    "   \n",
    "2) Students found question 3 harder than I thought. \n",
    "   This was mostly due to problems understanding what the question asked. It was also different from homework questions.\n",
    "   \n",
    "3) Many points were lost because of lack of formality:\n",
    "   (P(x) \\implies B(X)) \\land (B(x) \\implies F(x)) is not the same as $P(x) \\implies B(x) \\implies F(x)$.\n",
    "   \n",
    "   Notice however that $P(x) \\implies F(x)$ is a valid conclusion given the premise.\n",
    "   "
   ]
  },
  {
   "cell_type": "markdown",
   "metadata": {
    "slideshow": {
     "slide_type": "slide"
    }
   },
   "source": [
    "## Going forward\n",
    "\n",
    "**Projected Grades**:    \n",
    "\n",
    "Range  |   Letter Grade\n",
    "-------|-------------\n",
    "0-10   |   F  \n",
    "10-20  |   D  \n",
    "20-25  |   C-  \n",
    "25-30  |   C  \n",
    "30-35  |   C+  \n",
    "35-40  |   B-  \n",
    "40-50  |   B  \n",
    "50-55  |   B+  \n",
    "55-60  |   A-  \n",
    "60-80  |   A  \n",
    "\n",
    "**Class Trajectory**: Class material will become harder, but more fun, as we begin to work on proofs.\n",
    "\n",
    "**Homework Trajectory**: I will start adding some harder questions in the homework, so that you see a larger variety of problems besides those in the book.\n",
    "\n"
   ]
  },
  {
   "cell_type": "markdown",
   "metadata": {
    "slideshow": {
     "slide_type": "slide"
    }
   },
   "source": [
    "## Back to Work: Logical Arguments and Rules of Inferences\n"
   ]
  },
  {
   "cell_type": "markdown",
   "metadata": {
    "slideshow": {
     "slide_type": "-"
    }
   },
   "source": [
    "\n",
    "Last formal topic in logic. From next week, we'll talk about how to use our understanding of logic to write correct and clear **mathematical proofs.**\n",
    "\n",
    "In order to write correct mathematical proof, we need to understand what a **valid logical argument** is.\n",
    "\n",
    "**Definition**: A (logical) _argument_ is a sequence of statements, ending with a _conclusion_.\n",
    "  \n",
    "  \n",
    "**Definition**: An argument is _valid_ if its conclusion must logically follow from the prececeding statements, which are known as _premises_. \n"
   ]
  },
  {
   "cell_type": "markdown",
   "metadata": {
    "slideshow": {
     "slide_type": "fragment"
    }
   },
   "source": [
    "Equivalently, an argument is valid if and only if it is impossible for the premises to be true and the conclusion to be false, i.e., it is true that the premises __imply_ the conclusion.\n",
    "\n",
    "For propositions, we have:\n",
    "Premises: P_1, P_2, P_3,...., P_m\n",
    "Conclusion: Q\n",
    "This is a valid argument if and only if:\n",
    "$$\n",
    "P_1 \\land P_2 \\land \\ldots \\land P_m \\implies Q\n",
    "$$\n",
    "is a **tautology.**"
   ]
  },
  {
   "cell_type": "markdown",
   "metadata": {
    "slideshow": {
     "slide_type": "slide"
    }
   },
   "source": [
    "## Rules of Inference \n",
    "\n",
    "**What are they?**: Logica shortcuts: Simple rules that allow us to _generate a conclusion from a set of premises_ to form a valid argument.\n"
   ]
  },
  {
   "cell_type": "markdown",
   "metadata": {
    "slideshow": {
     "slide_type": "fragment"
    }
   },
   "source": [
    "### Two simple rules of inference:\n",
    "1) _Modus Ponens_\n",
    "\\begin{align*}\n",
    "P\\\\\n",
    "P \\implies Q\\\\\n",
    "\\therefore Q\n",
    "\\end{align*}"
   ]
  },
  {
   "cell_type": "markdown",
   "metadata": {
    "slideshow": {
     "slide_type": "fragment"
    }
   },
   "source": [
    "2) _Modus Tollens_\n",
    "\\begin{align*}\n",
    "\\neg Q\\\\\n",
    "P \\implies Q\\\\\n",
    "\\therefore \\neg P\n",
    "\\end{align*}"
   ]
  },
  {
   "cell_type": "markdown",
   "metadata": {
    "slideshow": {
     "slide_type": "slide"
    }
   },
   "source": [
    "## Rules of Inference\n",
    "\n",
    "![Rules of Inference](images/L07/rulesofinf.png)"
   ]
  },
  {
   "cell_type": "markdown",
   "metadata": {
    "slideshow": {
     "slide_type": "slide"
    }
   },
   "source": [
    "## Application of Rules of Inference\n",
    "\n",
    "**Premises you may know**:  \n",
    "1) No one, who is going to a party, ever fails to brush his or her hair.  \n",
    "$$ \\forall x, P(x) \\implies B(x)$$\n",
    "2) No one looks fascinating, if he or she is untidy.  \n",
    "$$ \\forall x, U(x) \\implies \\neg F(x)$$\n",
    "3) Everyone who has brushed his or her hair looks fascinating.  \n",
    "$$ \\forall x, B(x)\\implies F(x)$$\n",
    "4) A person is always untidy if he or she has no self-command.  \n",
    "$$\\forall x, N(x) \\implies U(x)$$\n"
   ]
  },
  {
   "cell_type": "markdown",
   "metadata": {
    "slideshow": {
     "slide_type": "fragment"
    }
   },
   "source": [
    "**Additional premise**:\n",
    "5) Everyone is going to a party.  \n",
    "$$\\forall x, P(x)$$"
   ]
  },
  {
   "cell_type": "markdown",
   "metadata": {
    "slideshow": {
     "slide_type": "slide"
    }
   },
   "source": [
    "## Building an argument:\n",
    "\n",
    "**Premises:**  Take $\\land$ of premises to form single premise\n",
    "$$\n",
    "\\left( \\forall x, P(x) \\implies B(x)\\right) \\; \\land \\; \\left(\\forall  x, U(x) \\implies \\neg F(x)\\right)  \n",
    "\\; \\land \\; \\left(\\forall x, B(x)\\implies F(x)\\right)   \n",
    "\\; \\land \\; \\left(\\forall x, N(x) \\implies U(x)\\right) \\; \\land \\; (\\forall x, P(x))\n",
    "$$"
   ]
  },
  {
   "cell_type": "markdown",
   "metadata": {
    "slideshow": {
     "slide_type": "fragment"
    }
   },
   "source": [
    "**Apply equivalences**: Take quantifier out  \n",
    "  \n",
    "$$\n",
    "\\forall x, [\\left( P(x) \\implies B(x)\\right) \\; \\land \\; \\left( U(x) \\implies \\neg F(x)\\right)  \n",
    "\\; \\land \\; \\left( B(x)\\implies F(x)\\right)   \n",
    "\\; \\land \\; \\left( N(x) \\implies U(x)\\right) \\; \\land \\; P(x)]\n",
    "$$"
   ]
  },
  {
   "cell_type": "markdown",
   "metadata": {
    "slideshow": {
     "slide_type": "fragment"
    }
   },
   "source": [
    "**Apply Rule of Inference**: _Simplification_\n",
    "\\begin{align*}\n",
    "P \\land Q\\\\\n",
    "\\therefore P\n",
    "\\end{align*}\n",
    "\n",
    "Simplification allows us to keep only two terms in the conjunction:\n",
    "$$\n",
    "\\forall x, [(P(x) \\implies  B(x)) \\; \\land \\; P(x)]\n",
    "$$"
   ]
  },
  {
   "cell_type": "markdown",
   "metadata": {
    "slideshow": {
     "slide_type": "fragment"
    }
   },
   "source": [
    "**Argument Over?**: We already finished the argument. We applied simplication to obtain: \n",
    "$$\n",
    "\\left( \\forall x, P(x) \\implies B(x)\\right) \\; \\land \\; \\left(\\forall  x, U(x) \\implies \\neg F(x)\\right)  \n",
    "\\; \\land \\; \\left(\\forall x, B(x)\\implies F(x)\\right)   \n",
    "\\; \\land \\; \\left(\\forall x, N(x) \\implies U(x)\\right) \\; \\land \\; (\\forall x, P(x))\\\\\n",
    "\\therefore \n",
    "\\forall x, [(P(x) \\implies  B(x)) \\; \\land \\; P(x)]\n",
    "$$"
   ]
  },
  {
   "cell_type": "markdown",
   "metadata": {
    "slideshow": {
     "slide_type": "fragment"
    }
   },
   "source": [
    "**Note:** This was not a very interesting argument. To get more interesting conclusions, we _keep the argument going by including our conclusion as a new premise_. "
   ]
  },
  {
   "cell_type": "markdown",
   "metadata": {
    "slideshow": {
     "slide_type": "slide"
    }
   },
   "source": [
    "## Applying Modus Ponens\n",
    "\n",
    "**Premise:** \n",
    "$$\n",
    "\\forall x, [(P(x) \\implies  B(x)) \\; \\land \\; P(x)]\n",
    "$$\n",
    "\n",
    "**Apply Modus Ponens**: \n",
    "\\begin{align*}\n",
    "P\\\\\n",
    "P \\implies B\\\\\n",
    "\\therefore B\n",
    "\\end{align*}\n",
    "\n",
    "**Conclusion**:\n",
    "$$\n",
    "\\forall x, B(x)\n",
    "$$"
   ]
  },
  {
   "cell_type": "markdown",
   "metadata": {
    "slideshow": {
     "slide_type": "slide"
    }
   },
   "source": [
    "## Keep the argument going\n",
    "\n",
    "We have a growing set of available premises we can use.  \n",
    "The original premises:\n",
    "1) \n",
    "$$ \\forall x, P(x) \\implies B(x)$$\n",
    "2)\n",
    "$$ \\forall x, U(x) \\implies \\neg F(x)$$\n",
    "3)\n",
    "$$ \\forall x, B(x)\\implies F(x)$$\n",
    "4)\n",
    "$$\\forall x, N(x) \\implies U(x)$$\n",
    "5)\n",
    "$$\n",
    "\\forall x, P(x)\n",
    "$$"
   ]
  },
  {
   "cell_type": "markdown",
   "metadata": {
    "slideshow": {
     "slide_type": "fragment"
    }
   },
   "source": [
    "And the conclusions to our previous arguments, which we can now use as premises:  \n",
    "6)\n",
    "$$\n",
    "\\forall x, [(P(x) \\implies  B(x)) \\; \\land \\; P(x)]\n",
    "$$\n",
    "7)\n",
    "$$\n",
    "\\forall x, B(x)\n",
    "$$"
   ]
  },
  {
   "cell_type": "markdown",
   "metadata": {
    "slideshow": {
     "slide_type": "fragment"
    }
   },
   "source": [
    "**Let's make another step:**\n",
    "\n",
    "**Premises:** 3 and 7\n",
    "$$ \\forall x, B(x) \\land  B(x) \\implies F(x)$$"
   ]
  },
  {
   "cell_type": "markdown",
   "metadata": {
    "slideshow": {
     "slide_type": "fragment"
    }
   },
   "source": [
    "**Conclusion**:\n",
    "$$\\therefore \\forall x, F(x)$$\n",
    "by modus ponens again."
   ]
  },
  {
   "cell_type": "markdown",
   "metadata": {},
   "source": [
    "## Question: Apply Modus Tollens\n",
    "\n",
    "**Recall**: _Modus Tollens_\n",
    "\\begin{align*}\n",
    "\\neg Q\\\\\n",
    "P \\implies Q\\\\\n",
    "\\therefore \\neg P\n",
    "\\end{align*}\n",
    "\n",
    "**Question**: To which of the following two premises should we apply modus tollens to conclude that\n",
    "$$\n",
    "\\forall x, \\neg U(x)?\n",
    "$$\n",
    "\n",
    "**Premises:** Click two  \n",
    "1) \n",
    "$$ \\forall x, P(x) \\implies B(x)$$\n",
    "2)\n",
    "$$ \\forall x, U(x) \\implies \\neg F(x)$$\n",
    "3)\n",
    "$$ \\forall x, B(x)\\implies F(x)$$\n",
    "4)\n",
    "$$\\forall x, N(x) \\implies U(x)$$\n",
    "5)\n",
    "$$\n",
    "\\forall x, P(x)\n",
    "$$\n",
    "6)\n",
    "$$\n",
    "\\forall x, B(x)\n",
    "$$\n",
    "7)\n",
    "$$\n",
    "\\forall x, F(x)\n",
    "$$\n"
   ]
  },
  {
   "cell_type": "markdown",
   "metadata": {
    "slideshow": {
     "slide_type": "subslide"
    }
   },
   "source": [
    "**Answer**: 2 and 7."
   ]
  },
  {
   "cell_type": "markdown",
   "metadata": {
    "slideshow": {
     "slide_type": "slide"
    }
   },
   "source": [
    "## Other Rules of Inference\n",
    "\n",
    "![Rules of Inference](images/L07/rulesofinf.png)"
   ]
  },
  {
   "cell_type": "markdown",
   "metadata": {
    "slideshow": {
     "slide_type": "slide"
    }
   },
   "source": [
    "## Hypothetical Syllogism\n",
    "\n",
    "**Premises:**\n",
    "$$\n",
    "P \\implies Q  \\\\\n",
    "Q \\implies R \\\\\n",
    "$$\n",
    "**Conclusion**: \n",
    "$$\n",
    "\\therefore P \\implies R\n",
    "$$\n"
   ]
  },
  {
   "cell_type": "markdown",
   "metadata": {
    "slideshow": {
     "slide_type": "slide"
    }
   },
   "source": [
    "## Application of Hypothetical Syllogism\n",
    "\n",
    "Hypothetical syllogism is useful in cases when we have a number of implications:\n",
    "1) \n",
    "$$ \\forall x, P(x) \\implies B(x)$$\n",
    "2)\n",
    "$$ \\forall x, U(x) \\implies \\neg F(x) \\equiv \\forall x, F(X) \\implies \\neg U(x)$$ by contrapositive\n",
    "3)\n",
    "$$ \\forall x, B(x)\\implies F(x)$$\n",
    "4)\n",
    "$$\\forall x, N(x) \\implies U(x) \\equiv \\forall x, \\neg U(x)  \\implies \\neg N(x)$$\n",
    "\n"
   ]
  },
  {
   "cell_type": "markdown",
   "metadata": {
    "slideshow": {
     "slide_type": "fragment"
    }
   },
   "source": [
    "By repeatedly applying hypothetical conclusions, we can get the following conclusions:\n",
    "$$\n",
    "\\therefore P(x) \\implies F(x)\\\\\n",
    "\\therefore P(x) \\implies \\neg U(x)\\\\\n",
    "\\therefore P(x) \\implies \\neg N(x)\\\\\n",
    "$$"
   ]
  },
  {
   "cell_type": "markdown",
   "metadata": {
    "slideshow": {
     "slide_type": "slide"
    }
   },
   "source": [
    "## Rules of Inference involving Quantified Statements\n",
    "\n",
    "![Rules of Inference with Quantifiers](images/L07/qrules.png)"
   ]
  },
  {
   "cell_type": "markdown",
   "metadata": {
    "slideshow": {
     "slide_type": "slide"
    }
   },
   "source": [
    "## Example\n",
    "\n",
    "Recall our usual premises:\n",
    "\n",
    "1) \n",
    "$$ \\forall x, P(x) \\implies B(x)$$  \n",
    "2)\n",
    "$$\\forall x, F(x) \\implies \\neg U(x)$$   \n",
    "3)\n",
    "$$ \\forall x, B(x)\\implies F(x)$$  \n",
    "4)\n",
    "$$ \\forall x, \\neg U(x)  \\implies \\neg N(x)$$  "
   ]
  },
  {
   "cell_type": "markdown",
   "metadata": {
    "slideshow": {
     "slide_type": "fragment"
    }
   },
   "source": [
    "Suppose we have the additional premise:\n",
    "$$\n",
    "P(\\mbox{John})\n",
    "$$\n",
    "stating that John is going to a party.\n"
   ]
  },
  {
   "cell_type": "markdown",
   "metadata": {},
   "source": [
    "Using **universal instantiation**, we can turn our premises into the conclusions:\n",
    "\n",
    "1) \n",
    "$$  P(\\mbox{John}) \\implies B(\\mbox{John})$$  \n",
    "2)\n",
    "$$F(\\mbox{John}) \\implies \\neg U(\\mbox{John})$$   \n",
    "3)\n",
    "$$  B(\\mbox{John})\\implies F(\\mbox{John})$$  \n",
    "4)\n",
    "$$ \\neg U(\\mbox{John})  \\implies \\neg N(\\mbox{John})$$  "
   ]
  },
  {
   "cell_type": "markdown",
   "metadata": {},
   "source": [
    "Now, by using hypothetical syllogism, we conclude that:\n",
    "$$\n",
    "\\therefore P(\\mbox{John}) \\implies \\neg N(\\mbox{John})\n",
    "$$\n",
    "  \n",
    "Finally, using $P(\\mbox{John})$ together with the previous statement and applying modus ponens, we have:\n",
    "$$\n",
    "\\therefore \\neg N(\\mbox{John})\n",
    "$$"
   ]
  },
  {
   "cell_type": "markdown",
   "metadata": {
    "slideshow": {
     "slide_type": "slide"
    }
   },
   "source": [
    "## Introduction to Proofs\n",
    "\n",
    "**Definition**: A proof is a valid argument that establishes the truth of a statement.\n",
    "\n",
    "**Informal Proofs**: In math, CS,  and other disciplines, we generally use __informal proofs__.  \n",
    "    1) More than one rule of inference are often used in a step.   \n",
    "    2) Steps may be skipped.  \n",
    "    3) The rules of inference used are not explicitly stated. \n",
    "    4) Easier for to understand and to explain to people. \n",
    "    5) But it is also easier to introduce errors. \n",
    "\n",
    "**Importance**: Proofs have many practical applications:\n",
    "    1) verification that computer programs and algorithms are correct \n",
    "    2) establishing that operating systems are secure \n",
    "    3) enabling programs to make inferences in artificial intelligence \n",
    "    4) showing properties of algorithms\n",
    "\n"
   ]
  },
  {
   "cell_type": "markdown",
   "metadata": {
    "slideshow": {
     "slide_type": "slide"
    }
   },
   "source": [
    "## Definitions\n",
    "\n",
    "* A **theorem** is a statement that can be proved to be true starting from the premises:  \n",
    "    1) definitions  \n",
    "    2) other theorems  \n",
    "    3) **axioms** (statements which are given as true, aka postulates)   \n",
    "   \n",
    "* A **lemma** is a ‘helping theorem’ or a result which is needed to prove a theorem.  \n",
    "  \n",
    "* A **corollary**  is a result which follows directly from a theorem.\n",
    "\n",
    "\n"
   ]
  },
  {
   "cell_type": "markdown",
   "metadata": {
    "slideshow": {
     "slide_type": "slide"
    }
   },
   "source": [
    "## Example of an informal proof\n",
    "\n",
    "**Theorem:** If $x \\geq y$, where $x$ and $y$ are positive real numbers, then $x^2 \\geq y^2$.\n"
   ]
  },
  {
   "cell_type": "markdown",
   "metadata": {
    "slideshow": {
     "slide_type": "slide"
    }
   },
   "source": [
    "## What are the axioms?\n",
    "\n",
    "Peano-Dedekind axioms from Wikipedia:\n",
    "https://en.wikipedia.org/wiki/Peano_axioms\n",
    "\n",
    "Zermelo-Fraenkel axioms from Wikipedia:\n",
    "https://en.wikipedia.org/wiki/Zermelo%E2%80%93Fraenkel_set_theory"
   ]
  },
  {
   "cell_type": "markdown",
   "metadata": {
    "slideshow": {
     "slide_type": "slide"
    }
   },
   "source": [
    "## Goedel's Incompleteness Theorem\n",
    "\n",
    "![Incompleteness](images/L07/godelincompleteness.jpg)"
   ]
  },
  {
   "cell_type": "markdown",
   "metadata": {
    "slideshow": {
     "slide_type": "fragment"
    }
   },
   "source": [
    "**IDEA**: It is possible to write a statement P whose meaning is:   \n",
    " >   P is not provable."
   ]
  },
  {
   "cell_type": "markdown",
   "metadata": {
    "slideshow": {
     "slide_type": "fragment"
    }
   },
   "source": [
    "What happens if P is true? If P is false?"
   ]
  },
  {
   "cell_type": "code",
   "execution_count": null,
   "metadata": {
    "collapsed": true
   },
   "outputs": [],
   "source": []
  }
 ],
 "metadata": {
  "anaconda-cloud": {},
  "celltoolbar": "Slideshow",
  "kernelspec": {
   "display_name": "Python [conda root]",
   "language": "python",
   "name": "conda-root-py"
  },
  "language_info": {
   "codemirror_mode": {
    "name": "ipython",
    "version": 3
   },
   "file_extension": ".py",
   "mimetype": "text/x-python",
   "name": "python",
   "nbconvert_exporter": "python",
   "pygments_lexer": "ipython3",
   "version": "3.5.2"
  }
 },
 "nbformat": 4,
 "nbformat_minor": 0
}
