{
 "cells": [
  {
   "cell_type": "markdown",
   "metadata": {
    "slideshow": {
     "slide_type": "slide"
    }
   },
   "source": [
    "# Lecture 15: More Strong Induction"
   ]
  },
  {
   "cell_type": "markdown",
   "metadata": {
    "slideshow": {
     "slide_type": "slide"
    }
   },
   "source": [
    "## Recap of Previous Lectures\n",
    "\n",
    "* Principle of Mathematical Induction:\n",
    "\n",
    "![PMI](images/L13/pmi.png)\n"
   ]
  },
  {
   "cell_type": "markdown",
   "metadata": {
    "slideshow": {
     "slide_type": "slide"
    }
   },
   "source": [
    "## Strong Induction\n",
    "\n",
    "![Strong PMI](images/L13/strong.png)\n"
   ]
  },
  {
   "cell_type": "markdown",
   "metadata": {
    "slideshow": {
     "slide_type": "fragment"
    }
   },
   "source": [
    "**Question**: When to choose weak vs strong induction?"
   ]
  },
  {
   "cell_type": "markdown",
   "metadata": {
    "slideshow": {
     "slide_type": "fragment"
    }
   },
   "source": [
    "**Answer**: depends on the problem, i.e., depends on what inductive step we can prove."
   ]
  },
  {
   "cell_type": "markdown",
   "metadata": {
    "slideshow": {
     "slide_type": "slide"
    }
   },
   "source": [
    "## Examples"
   ]
  },
  {
   "cell_type": "markdown",
   "metadata": {
    "slideshow": {
     "slide_type": "slide"
    }
   },
   "source": [
    "## Let's try one\n",
    "\n",
    "**Exercise 9 from Rosen 5.2**: Show that $\\sqrt{2}$ is irrational by strong induction, using the hypothesis:\n",
    "  \n",
    "$$\n",
    "P(n):\\;\\forall b \\in \\mathbb{Z_{\\geq 0}}, \\; \\sqrt{2} \\neq \\frac{n}{b}\n",
    "$$\n"
   ]
  },
  {
   "cell_type": "markdown",
   "metadata": {},
   "source": [
    "## Question\n",
    "\n",
    "Suppose than $P(n)$ is a predicate. Determine for which non-negative integers $n$ the statement $P(n)$ must be true if\n",
    "\n",
    "a) $P(0)$ is true; for all $n \\geq 0$, $P(n) \\implies P(n+2)$;  \n",
    "  \n",
    "b) $P(1)$ is true; for all $n \\geq 1$, $P(n) \\implies P(2n)$;  \n",
    "  \n",
    "c) $P(0) \\land P(1)$ is true; for all $n \\geq 0$, $(P(n)\\land P(n+1) \\implies P(n+2)$;  \n",
    "\n",
    "d) $P(0)$ is true; for all $n \\geq 0,$ $P(n) \\implies P(n+2) \\land P(n+3))$ .  "
   ]
  },
  {
   "cell_type": "markdown",
   "metadata": {},
   "source": [
    "## Recurrence Relations\n"
   ]
  },
  {
   "cell_type": "markdown",
   "metadata": {
    "slideshow": {
     "slide_type": "slide"
    }
   },
   "source": [
    "## Back to Tromino Tiling\n",
    "\n",
    "A tiling board:\n",
    "![tiling](images/L13/tiling.png)\n"
   ]
  },
  {
   "cell_type": "markdown",
   "metadata": {
    "slideshow": {
     "slide_type": "fragment"
    }
   },
   "source": [
    "A tromino:\n",
    "![tromino](images/L13/tromino.png)"
   ]
  },
  {
   "cell_type": "code",
   "execution_count": null,
   "metadata": {
    "collapsed": true
   },
   "outputs": [],
   "source": []
  },
  {
   "cell_type": "markdown",
   "metadata": {
    "slideshow": {
     "slide_type": "fragment"
    }
   },
   "source": [
    "**Question**: can you remove a central square from the board and still  tile the board with trominoes?"
   ]
  }
 ],
 "metadata": {
  "anaconda-cloud": {},
  "celltoolbar": "Slideshow",
  "kernelspec": {
   "display_name": "Python [conda root]",
   "language": "python",
   "name": "conda-root-py"
  },
  "language_info": {
   "codemirror_mode": {
    "name": "ipython",
    "version": 3
   },
   "file_extension": ".py",
   "mimetype": "text/x-python",
   "name": "python",
   "nbconvert_exporter": "python",
   "pygments_lexer": "ipython3",
   "version": "3.5.2"
  },
  "latex_envs": {
   "LaTeX_envs_menu_present": true,
   "autocomplete": true,
   "bibliofile": "biblio.bib",
   "cite_by": "apalike",
   "current_citInitial": 1,
   "eqLabelWithNumbers": true,
   "eqNumInitial": 1,
   "hotkeys": {
    "equation": "Ctrl-E",
    "itemize": "Ctrl-I"
   },
   "labels_anchors": false,
   "latex_user_defs": false,
   "report_style_numbering": false,
   "user_envs_cfg": false
  }
 },
 "nbformat": 4,
 "nbformat_minor": 0
}
