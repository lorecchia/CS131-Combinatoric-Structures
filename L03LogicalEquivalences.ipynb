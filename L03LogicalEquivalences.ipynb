{
 "cells": [
  {
   "cell_type": "markdown",
   "metadata": {
    "slideshow": {
     "slide_type": "slide"
    }
   },
   "source": [
    "# Lecture 3"
   ]
  },
  {
   "cell_type": "code",
   "execution_count": 1,
   "metadata": {
    "collapsed": true,
    "slideshow": {
     "slide_type": "skip"
    }
   },
   "outputs": [],
   "source": [
    "%matplotlib inline\n",
    "%config InlineBackend.figure_format='retina'\n",
    "# import libraries\n",
    "import numpy as np\n",
    "import matplotlib as mp\n",
    "import pandas as pd\n",
    "import matplotlib.pyplot as plt\n",
    "import laUtilities as ut\n",
    "import slideUtilities as sl\n",
    "import demoUtilities as dm\n",
    "import prettytable\n",
    "from IPython.display import Image\n",
    "from IPython.display import display_html\n",
    "from IPython.display import display\n",
    "from IPython.display import Math\n",
    "from IPython.display import Latex\n",
    "from truths import Truths\n",
    "#reload(dm)\n",
    "#reload(ut)\n",
    "#print('')"
   ]
  },
  {
   "cell_type": "code",
   "execution_count": 2,
   "metadata": {
    "collapsed": false,
    "slideshow": {
     "slide_type": "skip"
    }
   },
   "outputs": [
    {
     "data": {
      "text/html": [
       "<style>\n",
       " .container.slides .celltoolbar, .container.slides .hide-in-slideshow {\n",
       "    display: None ! important;\n",
       "}\n",
       "</style>"
      ],
      "text/plain": [
       "<IPython.core.display.HTML object>"
      ]
     },
     "metadata": {},
     "output_type": "display_data"
    }
   ],
   "source": [
    "%%html\n",
    "<style>\n",
    " .container.slides .celltoolbar, .container.slides .hide-in-slideshow {\n",
    "    display: None ! important;\n",
    "}\n",
    "</style>"
   ]
  },
  {
   "cell_type": "markdown",
   "metadata": {
    "slideshow": {
     "slide_type": "slide"
    }
   },
   "source": [
    "## Recap of Lecture 2\n",
    "\n",
    "- introduction to propositional logic\n",
    "- propositions: can take T or F value\n",
    "- logical operators (aka logical connectives): used to build propositions from other propositions\n",
    "- truth tables: express truth values of compound propositions\n"
   ]
  },
  {
   "cell_type": "markdown",
   "metadata": {
    "slideshow": {
     "slide_type": "fragment"
    }
   },
   "source": [
    "- common logical operators\n",
    "\n",
    "    * NEGATION: $\\neg P$,     \n",
    "    * DISJUNCTION: $P \\lor Q$,    \n",
    "    * CONJUNCTION: $P \\land Q$.  \n",
    "    \n",
    "- operators for conditional statements  \n",
    "\n",
    "    * IMPLICATION: $P \\implies Q$\n",
    "    * EQUIVALENCE: $P \\iff Q$"
   ]
  },
  {
   "cell_type": "markdown",
   "metadata": {
    "slideshow": {
     "slide_type": "slide"
    }
   },
   "source": [
    "##  Recognizing conditional statements\n",
    "\n",
    "Many different ways of expressing the implication $P \\implies Q$ in English. Familiarize yourself. \n",
    "\n",
    "List in the textbook:\n",
    "- if P, then Q\n",
    "- P implies Q \n",
    "- if P, Q\n",
    "- P only if Q         \n",
    "- Q unless  $\\neg P$\n",
    "- Q when P\n",
    "- Q if P                                     \n",
    "- Q whenever P\n",
    "- P is sufficient for Q \n",
    "- Q follows from P\n",
    "- Q is necessary for P\n",
    "- a necessary condition for P is Q\n",
    "- a sufficient condition for Q is P\n"
   ]
  },
  {
   "cell_type": "markdown",
   "metadata": {
    "slideshow": {
     "slide_type": "slide"
    }
   },
   "source": [
    "**Clicker Question 1:**\n",
    "\n",
    "Match each English sentence to its logical meaning:\n",
    "\n",
    "English sentences: \n",
    "\n",
    "  1. $Q$ only if $P$\n",
    "  2. $P$ is a necessary and sufficient condition for $Q$\n",
    "  3. $Q$ holds whenever $\\neg P$  \n",
    "  4. unless $P$, $\\neg Q$ holds  \n",
    "  \n",
    "Possible logical meanings (same can repeat!):  \n",
    "  \n",
    "  * a) $Q \\implies P$  \n",
    "  * b) $P \\implies Q$  \n",
    "  * c) $P \\iff Q$  \n",
    "  * d) $\\neg P \\implies Q$  \n"
   ]
  },
  {
   "cell_type": "markdown",
   "metadata": {
    "slideshow": {
     "slide_type": "subslide"
    }
   },
   "source": [
    "Answer:  \n",
    "    1 --> a  \n",
    "    2 --> c  \n",
    "    3 --> d  \n",
    "    4 --> a  \n",
    "    \n",
    "\n"
   ]
  },
  {
   "cell_type": "markdown",
   "metadata": {
    "slideshow": {
     "slide_type": "slide"
    }
   },
   "source": [
    "## Operators and Truth Tables\n",
    "\n",
    "\n",
    "** Clicker Question 2**:\n",
    "Suppose we are writing down, the truth table for a compound proposition of the propositional variables $P$ and $Q$.\n",
    "How many rows does it have?\n",
    "* a) 1 rows\n",
    "* b) 2 rows\n",
    "* c) 4 rows\n",
    "* d) 8 rows\n",
    "* e) it depends on the number of operators in the compound proposition\n",
    "\n"
   ]
  },
  {
   "cell_type": "markdown",
   "metadata": {
    "slideshow": {
     "slide_type": "subslide"
    }
   },
   "source": [
    "** Answer **: 4 rows, as there are two truth assignments for $P$ and true for $Q$, yielding $4$ possible cases."
   ]
  },
  {
   "cell_type": "markdown",
   "metadata": {
    "slideshow": {
     "slide_type": "fragment"
    }
   },
   "source": [
    "**Clicker Question 3)**:\n",
    "\n",
    "How many distinct binary logical operators are there? _Hint_: each operator corresponds to a different truth table.\n",
    "* a) 4 operators\n",
    "* b) 8 operators\n",
    "* c) 16 operators\n",
    "* d) 64 operators\n",
    "* e) infinitely many"
   ]
  },
  {
   "cell_type": "markdown",
   "metadata": {
    "slideshow": {
     "slide_type": "subslide"
    }
   },
   "source": [
    "**Answer**: 16 operators.\n",
    "\n",
    "Each operator corresponds to a truth table with 4 rows and is completely specified by the truth assignment to these rows. For each row, there are 2 choices. Hence, there are $2^4 = 16$ possible operators.  \n"
   ]
  },
  {
   "cell_type": "markdown",
   "metadata": {
    "slideshow": {
     "slide_type": "fragment"
    }
   },
   "source": [
    "**How many binary operators have we seen so far?**:\n",
    "List compiled by students\n",
    "    - $\\lor$\n",
    "    - $\\land$\n",
    "    - $\\implies$\n",
    "    - exclusive or\n",
    "    - $\\iff$\n",
    "    - false \n",
    "    -the negations of the above operators\n",
    "Total: 12"
   ]
  },
  {
   "cell_type": "markdown",
   "metadata": {
    "slideshow": {
     "slide_type": "fragment"
    }
   },
   "source": [
    "The remaining ones are:\n",
    "- the operator that just returns the first term.\n",
    "- the operator that just returns the second term.\n",
    "- their negations\n",
    "\n",
    "Check out the whole list here:\n",
    "https://en.wikipedia.org/wiki/Truth_table#Binary_operations"
   ]
  },
  {
   "cell_type": "markdown",
   "metadata": {
    "slideshow": {
     "slide_type": "slide"
    }
   },
   "source": [
    "## A Little Formal Detail: Precedence of Operators\n",
    "\n",
    "Last lecture I have tried to be careful and avoid writing things like\n",
    "$$\n",
    "\\neg P \\lor Q\n",
    "$$\n",
    "because they are ambiguous."
   ]
  },
  {
   "cell_type": "markdown",
   "metadata": {
    "slideshow": {
     "slide_type": "fragment"
    }
   },
   "source": [
    "Does it mean\n",
    "$$(\\neg P) \\lor Q$$\n",
    "or\n",
    "$$\\neg (P \\lor Q)  ?$$"
   ]
  },
  {
   "cell_type": "markdown",
   "metadata": {
    "slideshow": {
     "slide_type": "fragment"
    }
   },
   "source": [
    "**Precedence of Operators**: negation beats dis/conjunction beats conditionals"
   ]
  },
  {
   "cell_type": "code",
   "execution_count": 3,
   "metadata": {
    "collapsed": false,
    "slideshow": {
     "slide_type": "-"
    }
   },
   "outputs": [
    {
     "data": {
      "text/html": [
       "<div id=\"e94707c6a89a15bc\"></div>\n",
       "    <script type=\"text/javascript\">\n",
       "        $(function(){\n",
       "            var p = $(\"#e94707c6a89a15bc\");\n",
       "            if (p.length==0) return;\n",
       "\n",
       "            while (!p.hasClass(\"cell\")) {\n",
       "                p=p.parent();\n",
       "\n",
       "                if (p.prop(\"tagName\") ==\"body\") return;\n",
       "            }\n",
       "            var cell = p;\n",
       "            cell.find(\".input\").addClass(\"hide-in-slideshow\")\n",
       "        });\n",
       "    </script>"
      ]
     },
     "metadata": {},
     "output_type": "display_data"
    },
    {
     "data": {
      "image/png": "[encoded data removed]",
      "text/plain": [
       "<IPython.core.display.Image object>"
      ]
     },
     "metadata": {
      "image/png": {
       "width": 350
      }
     },
     "output_type": "display_data"
    }
   ],
   "source": [
    "# image credit: Kenneth Rosen \"Discrete Mathematics and Its Applications 7th ed\"\n",
    "sl.hide_code_in_slideshow()\n",
    "display(Image(\"images/L03/opprecedence.png\", width=350))"
   ]
  },
  {
   "cell_type": "markdown",
   "metadata": {
    "slideshow": {
     "slide_type": "slide"
    }
   },
   "source": [
    "# Logical Equivalences\n",
    "\n",
    "**Last time**: Two compound propositions are logically equivalent if they take the same truth value under all truth settings of the propositional variables, i.e., they have the same truth table.\n"
   ]
  },
  {
   "cell_type": "markdown",
   "metadata": {
    "slideshow": {
     "slide_type": "fragment"
    }
   },
   "source": [
    "**Example**: $P \\implies Q$ is logically equivalent to $\\neg P \\lor Q$.  \n",
    "\n",
    "We established this by computing the truth tables of both compound propositions."
   ]
  },
  {
   "cell_type": "markdown",
   "metadata": {
    "slideshow": {
     "slide_type": "slide"
    }
   },
   "source": [
    "#  Logical Equivalences\n",
    "\n",
    "**Last time**: Two compound propositions are logically equivalent if they take the same truth value under all truth settings of the propositional variables, i.e., they have the same truth table.\n",
    "\n",
    "**Different definition**: Two propositions $R$ and $S$ are logically equivalent if\n",
    "$$\n",
    "R \\iff S\n",
    "$$\n",
    "is a tautology (always true)."
   ]
  },
  {
   "cell_type": "markdown",
   "metadata": {},
   "source": [
    "**Example**:  \n",
    "$$[(\\neg P) \\lor Q] \\iff [P \\implies Q] $$\n",
    "is a tautology\n"
   ]
  },
  {
   "cell_type": "markdown",
   "metadata": {
    "slideshow": {
     "slide_type": "slide"
    }
   },
   "source": [
    "## L02's ending question\n",
    "\n",
    "**Clicker Question**: How many T's are there in the truth table for the compound proposition:\n",
    "$$\n",
    "[(\\neg P) \\lor Q] \\iff [P \\implies Q] \n",
    "$$\n",
    "\n",
    "a. 0  \n",
    "b. 1  \n",
    "c. 2  \n",
    "d. 3  \n",
    "e. 4  "
   ]
  },
  {
   "cell_type": "markdown",
   "metadata": {
    "slideshow": {
     "slide_type": "subslide"
    }
   },
   "source": [
    "**Answer**: Statement is a tautology, so all 4 rows will be true."
   ]
  },
  {
   "cell_type": "markdown",
   "metadata": {
    "slideshow": {
     "slide_type": "slide"
    }
   },
   "source": [
    "## Why Logical Equivalences?"
   ]
  },
  {
   "cell_type": "markdown",
   "metadata": {},
   "source": [
    "1. simplify expressions\n",
    "2. develop boolean algebra and boolean calculus\n",
    "3. reason about logic formally"
   ]
  },
  {
   "cell_type": "markdown",
   "metadata": {
    "slideshow": {
     "slide_type": "slide"
    }
   },
   "source": [
    "## Important Logical Equivalences\n",
    "\n",
    "1. Basic equivalences\n",
    "    - Identity laws\n",
    "    - domination laws\n",
    "    - idempotent laws\n",
    "    - negation laws\n",
    "    - double negation laws\n",
    "\n",
    "2. Properties of conjunctions and disjunctions\n",
    "* Commutative Laws\n",
    "* Associative Laws\n",
    "* Distributive Laws"
   ]
  },
  {
   "cell_type": "markdown",
   "metadata": {
    "slideshow": {
     "slide_type": "slide"
    }
   },
   "source": [
    "## Next Lecture: More Logical Equivalences\n",
    "\n",
    "- De Morgan's Laws\n",
    "\n",
    "- Equivalences Involving Conditional Statemetns\n",
    "\n"
   ]
  }
 ],
 "metadata": {
  "anaconda-cloud": {},
  "celltoolbar": "Slideshow",
  "kernelspec": {
   "display_name": "Python [conda root]",
   "language": "python",
   "name": "conda-root-py"
  },
  "language_info": {
   "codemirror_mode": {
    "name": "ipython",
    "version": 3
   },
   "file_extension": ".py",
   "mimetype": "text/x-python",
   "name": "python",
   "nbconvert_exporter": "python",
   "pygments_lexer": "ipython3",
   "version": "3.5.2"
  }
 },
 "nbformat": 4,
 "nbformat_minor": 0
}
