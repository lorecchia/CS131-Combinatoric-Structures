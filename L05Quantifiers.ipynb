{
 "cells": [
  {
   "cell_type": "markdown",
   "metadata": {
    "slideshow": {
     "slide_type": "slide"
    }
   },
   "source": [
    "# Lecture 5"
   ]
  },
  {
   "cell_type": "markdown",
   "metadata": {},
   "source": [
    "## Last Lecture: Predicates\n",
    "\n",
    "_Informal Definition_: Predicates are propositions that contain variables.\n",
    "\n",
    "\n"
   ]
  },
  {
   "cell_type": "markdown",
   "metadata": {
    "slideshow": {
     "slide_type": "fragment"
    }
   },
   "source": [
    "__Examples__: \n",
    "- P(x): The integer $x$ is prime.\n",
    "- Q(z): $z \\geq 0.$\n",
    "\n",
    "The truth value of these propositions depends on the setting of the variables:\n",
    "    - P(10) is false, but P(11) is true.\n",
    "    - Q(1) is true, but Q(-1) is false.\n",
    "    "
   ]
  },
  {
   "cell_type": "markdown",
   "metadata": {
    "slideshow": {
     "slide_type": "fragment"
    }
   },
   "source": [
    "_Formal Definition_: $P(x)$ is a function that maps a universe $U$ to the set of propositions.\n",
    "    \n",
    "$P$ takes as input an element $x$ from a _universe_ $U$ and returns a proposition $P(x).$\n",
    "\n",
    "\n",
    "__Note__: Be careful that you understand which universe $P(x)$ operates over.\n"
   ]
  },
  {
   "cell_type": "markdown",
   "metadata": {
    "slideshow": {
     "slide_type": "slide"
    }
   },
   "source": [
    "## Last Lecture: Truth Sets\n",
    "\n",
    "Given a predicate $P(x)$ over a universe $U$, we can define a corresponding **truth set**, i.e., the set of elements $x$ in $U$ that make $P(x)$ true.\n",
    "\n",
    "**Example**:  \n",
    "- For $P(x)$: \"The integer $x$ is prime\" over the universe of integers, the truth set is exactly the set of prime integers.\n",
    "- For $Q(z)$: \"$x^2 \\leq 1$\" over the universe of reals, the truth set is the interval$[-1,1].$\n"
   ]
  },
  {
   "cell_type": "markdown",
   "metadata": {
    "slideshow": {
     "slide_type": "fragment"
    }
   },
   "source": [
    "**Formal Definition**: The _truth set_ of a predicate $P(x)$ over a universe $U$ is defined as\n",
    "$$\n",
    "T_P = \\{ x \\in U | P(x)\\}.\n",
    "$$"
   ]
  },
  {
   "cell_type": "markdown",
   "metadata": {
    "collapsed": true,
    "slideshow": {
     "slide_type": "slide"
    }
   },
   "source": [
    "## Compound Predicates\n",
    "\n",
    "Because predicates map to propositions, it is easy to construct new predicates by combining existing predicates using _logical operators_. \n",
    "\n",
    "**Example**:   \n",
    "P(x): $x \\geq 2.$  \n",
    "Q(x): $x \\leq 3.$\n",
    "\n",
    "Compound proposition: \n",
    "$$\n",
    "P(x) \\land Q(x): x \\geq 2 \\land x \\leq 3.\n",
    "$$\n",
    "\n",
    "**Question:** what is the truth set of the compound proposition? \n",
    "**Answer**: It is the set of reals that satisfy both $P(x)$ **and** $Q(x)$. This set is called the **intersection** of the truth sets of $P(x)$ and $Q(x). $\n",
    "\n"
   ]
  },
  {
   "cell_type": "markdown",
   "metadata": {
    "slideshow": {
     "slide_type": "fragment"
    }
   },
   "source": [
    "![Truth Sets of $P(x), Q(x)$ and $P(x) \\land Q(x)$](images/L04/truthset.png)"
   ]
  },
  {
   "cell_type": "markdown",
   "metadata": {
    "slideshow": {
     "slide_type": "slide"
    }
   },
   "source": [
    "## Logical Connectives and Set Operations\n",
    "\n",
    "- Suppose we have predicates $A(x)$ and $B(x)$ over universe $U$ with truth sets $A$ and $B$ respectively (Figure 1).   \n",
    "\n",
    "- The truth set of $A(x) \\land B(x)$ is the _intersection_ $A \\cap B \\;$ (Figure 2),   \n",
    "  \n",
    "- The truth set of $A(x) \\lor B(x)$ is the _union_ $A \\cup B\\;$ (Figure 3),\n",
    "  \n",
    "- The truth set of $A(x) \\land \\neg B(x)$ is the _difference_ $A \\setminus B\\;$  (Figure 4). \n",
    "\n",
    "\n",
    "\n",
    "![Set Operations](images/L04/setops.png)\n"
   ]
  },
  {
   "cell_type": "markdown",
   "metadata": {
    "slideshow": {
     "slide_type": "fragment"
    }
   },
   "source": [
    "**Upshot**: \n",
    "- It also reveals the completely analogous structure of logical connectives and set operations.\n",
    "- This is a formal way of introducing set operations using propositional logic. \n",
    "        GOAL: Prove theorems about sets formally using logic."
   ]
  },
  {
   "cell_type": "markdown",
   "metadata": {
    "slideshow": {
     "slide_type": "slide"
    }
   },
   "source": [
    "## Review Question\n",
    "\n",
    "**Question**: Assume that for all $x$ in the universe $P(x) \\implies Q(x)$ is a tautology. Which one of the following statement about the truth sets $T_P$ and $T_Q$ is true?\n",
    "\n",
    "a. $T_P = T_Q,$   \n",
    "b. $T_P \\in T_Q,$  \n",
    "c. $T_Q \\subseteq T_P,$   \n",
    "d. $T_P \\subseteq T_Q,$  \n",
    "e. None of the above"
   ]
  },
  {
   "cell_type": "markdown",
   "metadata": {
    "slideshow": {
     "slide_type": "subslide"
    }
   },
   "source": [
    "**Answer**: d.\n",
    "\n",
    "The implication can be written as $x \\in T_P \\implies x \\in T_Q.$ When this is true for all $x$, it must be the case that $T_P \\subset T_Q.$"
   ]
  },
  {
   "cell_type": "markdown",
   "metadata": {
    "slideshow": {
     "slide_type": "slide"
    }
   },
   "source": [
    "## Quantifiers\n",
    "\n",
    "As in the previous example, it is often useful to express the following ideas _quantifying_ the truth set of a predicate $P(x)$:  \n",
    "  \n",
    "1) (Universal Quantification) Predicate $P(x)$ has truth set equal to the whole universe $U$.\n",
    "$$\n",
    "T_P = U.\n",
    "$$\n",
    "\n",
    "This is the same as saying that _for all_ $x \\in U,$ $P(x)$ is true.\n",
    "\n",
    "**Notation**: \n",
    "$$\n",
    "\\forall x, P(x)\n",
    "$$\n",
    "\n",
    "$\\forall$ is known as the __universal__ quantifier. "
   ]
  },
  {
   "cell_type": "markdown",
   "metadata": {
    "slideshow": {
     "slide_type": "fragment"
    }
   },
   "source": [
    "2) (Existential Quantification) Predicate $P(x)$ has non-empty truth set\n",
    "$$\n",
    "T_P \\neq \\emptyset.\n",
    "$$\n",
    "\n",
    "This is the same as saying that _there exists_ $x \\in U$ such that $P(x)$ is true.\n",
    "\n",
    "**Notation**: \n",
    "$$\n",
    "\\exists x, P(x)\n",
    "$$\n",
    "\n",
    "$\\exists$ is known as the __existential__ quantifier. \n"
   ]
  },
  {
   "cell_type": "markdown",
   "metadata": {
    "slideshow": {
     "slide_type": "slide"
    }
   },
   "source": [
    "## Practice Question\n",
    "\n",
    "Which of the following formulae are true?\n",
    "\n",
    "a. $\\forall x \\; (x^2 \\geq 0),$ where the universe is $\\mathbb{R}$.  \n",
    "b. $\\exists x \\; (x^2 - 2x + 3 = 0),$ where the universe is $\\mathbb{R}$.  \n",
    "c. $\\exists x \\; 3 + x = 0,$ where the universe is $\\mathbb{Z}$.   \n",
    "d. $\\exists x \\; 3 \\cdot x = 1,$ where the universe is $\\mathbb{Z}$.  \n",
    "e. $\\forall y \\; (y \\mbox{ is even }) \\implies (y+1 \\mbox{ is odd }),$ where the universe is $\\mathbb{Z}.$ "
   ]
  },
  {
   "cell_type": "markdown",
   "metadata": {
    "slideshow": {
     "slide_type": "subslide"
    }
   },
   "source": [
    "**Answers**:\n",
    "a. True.  \n",
    "b. False. Check discriminant.  \n",
    "c. True. $x=-3.$  \n",
    "d. False because the universe is $\\mathbb{Z}.$  \n",
    "e. True.   "
   ]
  },
  {
   "cell_type": "markdown",
   "metadata": {
    "slideshow": {
     "slide_type": "slide"
    }
   },
   "source": [
    "## Exercise\n",
    "\n",
    "Recall the last example in the question:  \n",
    "$\\forall y \\; (y \\mbox{ is even }) \\implies (y+1 \\mbox{ is odd }),$ where the universe is $\\mathbb{Z}.$ \n",
    "\n",
    "Notice that I have used plain English to define the concepts of even and odd. \n",
    "**Exercise**: Use quantifiers to construct a predicate whose truth sets is the set of even integers.\n",
    "\n",
    "**Answer**: \n",
    "$$E(x): \\exists k, x=2k.$$   \n",
    "Indeed, $x$ is even if and only if it is divisible by $2$, i.e., it can be expressed as $2*k$ for some integer $k.$\n",
    "\n",
    "**Note**: One can define the set of odd integers similarly:\n",
    "$$O(x): \\exists k, x=2k+1$$\n",
    "\n",
    "Notice that, once we introduce $E$ and $O$, it is very simple to prove the truth of our starting example. Here is a proof. We will discuss some of the details of this proof once we start discussing proofs in the coming lectures.\n",
    "\n",
    "**Proof**: As we want to show a universal statement over the integers, we start by considering a _generic_ integer $x.$ If $x$ is even, we know that \n",
    "$$\n",
    "\\exists k, x =2k.\n",
    "$$\n",
    "But this is equivalent to:\n",
    "$$\n",
    "\\exists k, x+1 = 2k+1,\n",
    "$$\n",
    "which is equivalent to saying that $x+1$ is odd. This completes the proof.\n",
    "\n",
    "**Note**: Notice that, as we were trying to show an implication, we only had to check the case in which the premise of the implication was true, i.e., $x$ is even.\n"
   ]
  },
  {
   "cell_type": "markdown",
   "metadata": {
    "slideshow": {
     "slide_type": "slide"
    }
   },
   "source": [
    "## Quantification over a Set\n",
    "\n",
    "Sometimes we wish to quantify over a set $S \\subset U$, rather than over all the universe $U.$\n",
    "In the previous question, the meaning of the last answer was:   \n",
    "\n",
    "For all even integers $y,$ we have that $y+1$ is odd.\n",
    "\n",
    "In general, we may want to write:\n",
    "$$\n",
    "\\forall x \\in S, P(x).\n",
    "$$\n",
    "\n",
    "\n",
    "Fortunately, we can write this as a universal quantification. \n",
    "**Question**: Can you see how?\n",
    "**Answer**: Just like in the previous example regarding even and odd numbers.\n",
    "$$\n",
    "\\forall x, x \\in S \\implies P(x)\n",
    "$$\n",
    "\n",
    "\n",
    "       "
   ]
  },
  {
   "cell_type": "markdown",
   "metadata": {
    "slideshow": {
     "slide_type": "slide"
    }
   },
   "source": [
    "## Expressing Set Concepts\n",
    "\n",
    "Using quantifiers, we can write logical formulae to express two important set concepts:\n",
    "\n",
    "1. Containment: $A \\subseteq B$.\n",
    "2. Disjointness: $A \\cap B = \\emptyset.$"
   ]
  },
  {
   "cell_type": "markdown",
   "metadata": {
    "slideshow": {
     "slide_type": "slide"
    }
   },
   "source": [
    "## Question 1\n",
    "\n",
    "Let $A$ and $B$ be the truth sets for predicates $A(x)$ and $B(x).$\n",
    "Identify which of the following formulae is equivalent to $A \\subseteq B.$\n",
    "\n",
    "a. $\\exists x, (x \\notin A) \\land x \\in B,$  \n",
    "b. $\\forall x, (x \\notin B) \\implies (x \\in A),$  \n",
    "c. $\\forall x, (x \\in A) \\implies (x \\in B),$   \n",
    "d. $\\exists x, (x \\in A) \\lor (x \\in B).$  "
   ]
  },
  {
   "cell_type": "markdown",
   "metadata": {
    "slideshow": {
     "slide_type": "subslide"
    }
   },
   "source": [
    "**Answer**: c."
   ]
  },
  {
   "cell_type": "markdown",
   "metadata": {
    "slideshow": {
     "slide_type": "slide"
    }
   },
   "source": [
    "## Question 2\n",
    "\n",
    "Let $A$ and $B$ be the truth sets for predicates $A(x)$ and $B(x).$\n",
    "Identify which of the following formulae is equivalent to $A \\cap B = 0.$\n",
    "\n",
    "a. $\\exists x, (x \\notin A) \\land (x \\notin B),$  \n",
    "b. $\\forall x, ( x \\notin A) \\lor (x \\notin B),$  \n",
    "c. $\\forall x, (x \\in A) \\implies (x \\in A \\land x \\in B),$  \n",
    "d. $\\forall x, \\neg(x \\in A) \\land \\neg(x \\in B).$   "
   ]
  },
  {
   "cell_type": "markdown",
   "metadata": {
    "slideshow": {
     "slide_type": "subslide"
    }
   },
   "source": [
    "**Answer**: b."
   ]
  }
 ],
 "metadata": {
  "anaconda-cloud": {},
  "celltoolbar": "Slideshow",
  "kernelspec": {
   "display_name": "Python [conda root]",
   "language": "python",
   "name": "conda-root-py"
  },
  "language_info": {
   "codemirror_mode": {
    "name": "ipython",
    "version": 3
   },
   "file_extension": ".py",
   "mimetype": "text/x-python",
   "name": "python",
   "nbconvert_exporter": "python",
   "pygments_lexer": "ipython3",
   "version": "3.5.2"
  }
 },
 "nbformat": 4,
 "nbformat_minor": 0
}
