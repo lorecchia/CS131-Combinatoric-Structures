{
 "cells": [
  {
   "cell_type": "markdown",
   "metadata": {
    "slideshow": {
     "slide_type": "slide"
    }
   },
   "source": [
    "# Lecture 6"
   ]
  },
  {
   "cell_type": "markdown",
   "metadata": {},
   "source": [
    "## Last Lecture: Quantifiers\n",
    "\n",
    "Universal quantifier: $\\forall$\n",
    "Existential quantifier: $\\exists$\n",
    "\n",
    "![Quantifiers](images/L06/quantifiers.png)\n",
    "\n",
    "\n"
   ]
  },
  {
   "cell_type": "markdown",
   "metadata": {
    "slideshow": {
     "slide_type": "fragment"
    }
   },
   "source": [
    "_Remarks_:  \n",
    "\n",
    "- Quantifiers range over the the _universe_ $U$ (also known as _domain of discourse_).  \n",
    "This is the same universe on which predicates are defined.\n",
    "        \n",
    "- It is extremely important to specify what the universe is when using quantifiers, as different universes will give different truth values. For instance, consider:\n",
    "$$\\forall x, \\; (x^4 \\geq x)$$"
   ]
  },
  {
   "cell_type": "markdown",
   "metadata": {
    "slideshow": {
     "slide_type": "fragment"
    }
   },
   "source": [
    "This is True when $U=\\mathbb{Z}$,  \n",
    "But it is false when $U=\\mathbb{R}$."
   ]
  },
  {
   "cell_type": "markdown",
   "metadata": {
    "slideshow": {
     "slide_type": "fragment"
    }
   },
   "source": [
    "- See Rosen 1.4 for more details about quantifiers, including precedence rules and binding variables."
   ]
  },
  {
   "cell_type": "markdown",
   "metadata": {
    "slideshow": {
     "slide_type": "slide"
    }
   },
   "source": [
    "## Last Lecture: Restricted Quantifiers\n",
    "\n",
    "- Quantification over sets, i.e., quantification with restricted domains (Rosen 1.4):\n",
    "  \n",
    "  Let $U = \\mathbb{Z}$.  \n",
    "  We may want to say that for all non-negative integers $x,$ $$x^3 \\geq x.$$  \n",
    "\n"
   ]
  },
  {
   "cell_type": "markdown",
   "metadata": {
    "slideshow": {
     "slide_type": "fragment"
    }
   },
   "source": [
    "We have a special notation for this. Letting $\\mathbb{Z}_{\\geq 0}$ be the set of nonnegative integers, we write:  \n",
    "  \n",
    "$$\n",
    "\\forall x \\in \\mathbb{Z}_{\\geq 0},\\; x^3 \\geq x.\n",
    "$$\n"
   ]
  },
  {
   "cell_type": "markdown",
   "metadata": {
    "slideshow": {
     "slide_type": "fragment"
    }
   },
   "source": [
    "Note that the quantification is __NOT__ over all integers, but just the set of nonnegative ones.  \n"
   ]
  },
  {
   "cell_type": "markdown",
   "metadata": {
    "slideshow": {
     "slide_type": "fragment"
    }
   },
   "source": [
    "In general, for a subset $S$ of the universe $U$, we write $\\forall x \\in S, P(x)$ to __restrict__ the universal quantification to elements of the subset $S.$ \n",
    "\n",
    "Allowing this notation does not change the expressive power of quantification. Indeed, one can define $\\forall x \\in S, P(x)$ as:\n",
    "$$\n",
    "\\forall x, (x \\in S) \\implies P(x).\n",
    "$$\n",
    "\n",
    "\n",
    "\n"
   ]
  },
  {
   "cell_type": "markdown",
   "metadata": {
    "slideshow": {
     "slide_type": "fragment"
    }
   },
   "source": [
    "__Example__: The formula $\\forall x \\in \\mathbb{Z}_{\\geq 0},\\; x^3 \\geq x$ can be written as:\n",
    "$$\n",
    "\\forall x, (x \\in \\mathbb{Z_{\\geq 0}}) \\implies (x^3 \\geq x)\n",
    "$$"
   ]
  },
  {
   "cell_type": "markdown",
   "metadata": {
    "slideshow": {
     "slide_type": "slide"
    }
   },
   "source": [
    "## Question 1: Restricted Existential Quantifiers\n",
    "\n",
    "In the same way that we restricted the universal quantifier $\\forall$ to a set , we can restrict the existential quantifier. What do you think the notation\n",
    "$$\n",
    "\\exists x \\in S, P(x),\n",
    "$$\n",
    "should correspond to?\n",
    "\n",
    "a. $\\exists x, (x \\in S) \\implies P(x),$  \n",
    "b. $\\exists x, (x \\in S) \\lor P(x),$  \n",
    "c. $\\exists x, (x \\in S) \\land P(x),$  \n",
    "d. $\\exists x, (x \\in S) \\iff P(x).$  \n",
    "e. We cannot express this concept using quantification over the universe.  "
   ]
  },
  {
   "cell_type": "markdown",
   "metadata": {
    "slideshow": {
     "slide_type": "subslide"
    }
   },
   "source": [
    "**Answer**: c.\n",
    "$$\n",
    "\\exists x, (x \\in S) \\land P(x).\n",
    "$$  \n",
    "\n",
    "This formula means that there exists $x$ in the universe such that $x$ belongs to $S$ and $P(x)$ is true. This is exactly the intended meaning of $\\exists x \\in S, P(x).$"
   ]
  },
  {
   "cell_type": "markdown",
   "metadata": {
    "slideshow": {
     "slide_type": "slide"
    }
   },
   "source": [
    "## Expressing Set Concepts Using Quantifiers\n",
    "\n",
    "Using quantifiers, we can write logical formulae to express two important set concepts:\n",
    "\n",
    "1. Containment: $A \\subseteq B$.\n",
    "2. Disjointness: $A \\cap B = \\emptyset.$"
   ]
  },
  {
   "cell_type": "markdown",
   "metadata": {
    "slideshow": {
     "slide_type": "fragment"
    }
   },
   "source": [
    "### Last Lecture: Containment\n",
    "\n",
    "For two sets $A$ and $B,$ the statement about sets\n",
    "$$\n",
    "A \\subseteq B,\n",
    "$$\n",
    "is equivalent to the logical formula\n",
    "$$\n",
    "\\forall x, (x \\in A) \\implies (x \\in B).\n",
    "$$"
   ]
  },
  {
   "cell_type": "markdown",
   "metadata": {
    "slideshow": {
     "slide_type": "slide"
    }
   },
   "source": [
    "## Question 2: Disjointness\n",
    "\n",
    "Let $A$ and $B$ be the truth sets for predicates $A(x)$ and $B(x).$\n",
    "Identify which of the following formulae is equivalent to $A \\cap B = 0.$\n",
    "\n",
    "a. $\\exists x, (x \\notin A) \\land (x \\notin B),$  \n",
    "b. $\\forall x, ( x \\notin A) \\lor (x \\notin B),$  \n",
    "c. $\\forall x, (x \\in A) \\implies (x \\in A \\land x \\in B),$  \n",
    "d. $\\forall x, \\neg(x \\in A) \\land \\neg(x \\in B).$   "
   ]
  },
  {
   "cell_type": "markdown",
   "metadata": {
    "slideshow": {
     "slide_type": "subslide"
    }
   },
   "source": [
    "**Answer**: b."
   ]
  },
  {
   "cell_type": "markdown",
   "metadata": {
    "slideshow": {
     "slide_type": "slide"
    }
   },
   "source": [
    "## More Advanced Formulae Involving Quantifiers\n",
    "\n",
    "Quantifiers and logical operators can be mixed together. Consider for instance the following formula.  \n",
    "\n",
    "$$\n",
    "\\forall x, (x < 10) \\implies (\\forall y, y < x \\implies y <9)\n",
    "$$\n",
    "\n",
    "You have a similar exercise in the homework involving prime numbers.\n",
    " "
   ]
  },
  {
   "cell_type": "markdown",
   "metadata": {
    "slideshow": {
     "slide_type": "fragment"
    }
   },
   "source": [
    "Note the **structure** of this formula:\n",
    "$$\n",
    "\\forall x, [P(x) \\implies (\\forall y, Q(x,y))]\n",
    "$$\n",
    "\n"
   ]
  },
  {
   "cell_type": "markdown",
   "metadata": {
    "slideshow": {
     "slide_type": "fragment"
    }
   },
   "source": [
    "**Note**:\n",
    "1. $\\forall y, Q(x,y)$ is a predicate over $x$, as $y$ is bound by the quantifier.  \n",
    "\n",
    "2. Hence $P(x) \\implies (\\forall y, Q(x,y)$ is also a predicated over $x.$"
   ]
  },
  {
   "cell_type": "markdown",
   "metadata": {
    "slideshow": {
     "slide_type": "slide"
    }
   },
   "source": [
    "## Practice Question\n",
    "\n",
    "Consider the statement $S$ below over a universe $U$\n",
    "$$\n",
    "S: \\forall x, (x < 10) \\implies (\\forall y, y < x \\implies y <9)\n",
    "$$  \n",
    "Which one of the following is true?\n",
    "\n",
    "a. $S$ is true when $U = \\mathbb{N},$ but false when $U = \\mathbb{Z}$;  \n",
    "b. $S$ is true when $U = \\mathbb{Z},$ but false when $U = \\mathbb{Q}$;  \n",
    "c. $S$ is true on $\\mathbb{R}$.  \n",
    "d. $S$ is false on $\\mathbb{Z}$.  \n",
    "\n",
    "\n"
   ]
  },
  {
   "cell_type": "markdown",
   "metadata": {
    "slideshow": {
     "slide_type": "subslide"
    }
   },
   "source": [
    "**Answer**: a. "
   ]
  },
  {
   "cell_type": "markdown",
   "metadata": {
    "slideshow": {
     "slide_type": "slide"
    }
   },
   "source": [
    "## Logical Equivalences Involving Quantifiers\n",
    "\n",
    "**EXAMPLE**: Distributing the existential quantifier over a disjunction.\n",
    "\n",
    "$$\\exists x, P(x) \\lor Q(x)$$  \n",
    "\n",
    "is logically equivalent to  \n",
    "\n",
    "$$(\\exists x, P(x) ) \\lor (\\exists x, Q(x))$$\n",
    "\n",
    "\n",
    "\n",
    "\n"
   ]
  },
  {
   "cell_type": "markdown",
   "metadata": {
    "slideshow": {
     "slide_type": "fragment"
    }
   },
   "source": [
    "**Question**: What does logical equivalence means for statements involving quantifiers?  \n",
    "\n",
    "**Answer**: it means logically equivalent **no matter** what predicates $P$ and $Q$ are and what the universe is."
   ]
  },
  {
   "cell_type": "markdown",
   "metadata": {
    "slideshow": {
     "slide_type": "fragment"
    }
   },
   "source": [
    "**Proof**:  \n",
    "The first statement means that there exists a certain $x \\in U$ that makes either $P(x)$ or $Q(x)$ true.\n",
    "Let's call this element $x'$, so that $P(x') \\lor Q(x')$ is true.  \n",
    "\n"
   ]
  },
  {
   "cell_type": "markdown",
   "metadata": {
    "slideshow": {
     "slide_type": "fragment"
    }
   },
   "source": [
    "Now $P(x')$ and $Q(x')$ are just two propositions whose disjunction is true.  \n",
    "Hence, one of them must be true. \n",
    "\n",
    "If $P(x')$ is true, then $\\exists x, P(x)$ is true. \n",
    "Else, if $Q(x')$ is true, then $\\exists x, Q(x)$ is true.  \n",
    "\n",
    "That means that the second statement is true."
   ]
  },
  {
   "cell_type": "markdown",
   "metadata": {
    "slideshow": {
     "slide_type": "slide"
    }
   },
   "source": [
    "## Logical Equivalences Involving Quantifiers\n",
    "\n",
    "** DEFINITION**: Statements involving predicate variables and quantifiers are _logically equivalent_ if and only if they have the same truth value no matter what actual predicates are plugged in.\n",
    "\n"
   ]
  },
  {
   "cell_type": "markdown",
   "metadata": {
    "slideshow": {
     "slide_type": "fragment"
    }
   },
   "source": [
    "In the _homework_, you'll show\n",
    "$$\n",
    "\\forall x, (P(x) \\implies Q(x)) \\lor (Q(x) \\implies P(x))\n",
    "$$\n",
    "is logically equivalent to a _tautology_.  \n"
   ]
  },
  {
   "cell_type": "markdown",
   "metadata": {
    "slideshow": {
     "slide_type": "fragment"
    }
   },
   "source": [
    "**EASY**: To do so, it will suffice to prove that $(P \\implies Q ) \\lor (Q \\implies P)$ is a tautology.   \n",
    "\n",
    "**HARD(ER)**: Equivalence when both statements involve quantifiers. As in our example:\n",
    "\n",
    "$$\\exists x, P(x) \\lor Q(x) \\;\\equiv\\; (\\exists x, P(x) ) \\lor (\\exists x, Q(x))$$"
   ]
  },
  {
   "cell_type": "markdown",
   "metadata": {
    "slideshow": {
     "slide_type": "slide"
    }
   },
   "source": [
    "## Equivalence Laws Involving Quantifiers\n",
    "\n",
    "- Distributing Quantifiers\n",
    "\n",
    "- Negating Quantifiers\n",
    "\n",
    "- Nested Quantifiers"
   ]
  },
  {
   "cell_type": "markdown",
   "metadata": {
    "slideshow": {
     "slide_type": "slide"
    }
   },
   "source": [
    "## Question 3: Distributing Quantifiers\n",
    "\n",
    "Which ones of the following equivalences are correct? \n",
    "(WARNING: Multiple Answers)\n",
    "\n",
    "1) $$\\exists x, P(x) \\lor Q(x) \\;\\equiv\\; (\\exists x, P(x) ) \\lor (\\exists x, Q(x))$$   \n",
    "\n",
    "\n",
    "2) $$\\exists x, P(x) \\land Q(x) \\; \\equiv \\; (\\exists x, P(x)) \\land (\\exists x, Q(x)$$  \n",
    "\n",
    "\n",
    "3) $$\\forall x, P(x) \\lor Q(x) \\; \\equiv \\; (\\forall x, P(x)) \\lor (\\forall x, P(x))$$  \n",
    "\n",
    "\n",
    "4) $$\\forall x, P(x) \\land Q(x) \\; \\equiv \\; (\\forall x, P(x) \\land (\\forall x, Q(x))$$  \n",
    " \n",
    "\n"
   ]
  },
  {
   "cell_type": "markdown",
   "metadata": {
    "slideshow": {
     "slide_type": "subslide"
    }
   },
   "source": [
    "**Answer**: \n",
    "1) Correct (it was our example).  \n",
    "\n",
    "2)  Incorrect: $$\\exists x, P(x) \\land Q(x) \\; \\equiv \\; (\\exists x, P(x)) \\land (\\exists x, Q(x)$$  \n",
    "LHS implies RHS, but the converse is false.\n",
    "\n",
    "\n",
    " \n"
   ]
  },
  {
   "cell_type": "markdown",
   "metadata": {
    "slideshow": {
     "slide_type": "fragment"
    }
   },
   "source": [
    "3) Incorrect: $$\\forall x, P(x) \\lor Q(x) \\; \\equiv \\; (\\forall x, P(x)) \\lor (\\forall x, P(x))$$  \n",
    "RHS implies LHS, but the converse is false.\n",
    "\n",
    "4) Correct (can you prove it?)"
   ]
  },
  {
   "cell_type": "markdown",
   "metadata": {
    "slideshow": {
     "slide_type": "slide"
    }
   },
   "source": [
    "## Question 4: Negating Quantifiers\n",
    "\n",
    "Which of the following is logically equivalent to $\\neg (\\forall x, P(x))?$\n",
    "\n",
    "1) $\\forall x, \\neg P(x)$,  \n",
    "\n",
    "2) $\\exists x, \\neg P(x)$,\n",
    "\n",
    "3) $(\\exists x, P(x)) \\land (\\exists y, \\neg P(y))$,\n",
    "\n",
    "4) None of the above.\n",
    "\n",
    "\n",
    "\n"
   ]
  },
  {
   "cell_type": "markdown",
   "metadata": {
    "slideshow": {
     "slide_type": "subslide"
    }
   },
   "source": [
    "** Answer**: 2).\n",
    "\n",
    "By definition, $\\forall x P(x)$ means that $P(x)$ is true for all possible choices of $x \\in U.$ Negating this means that there exists some $x \\in U$ for which $P(x)$ is false. That is:\n",
    "$$\n",
    "\\exists x, \\neg P(x).\n",
    "$$"
   ]
  },
  {
   "cell_type": "markdown",
   "metadata": {
    "slideshow": {
     "slide_type": "fragment"
    }
   },
   "source": [
    "**Takeaway**: Negation turns $\\forall$ into $\\exists.$\n",
    "\n",
    "And **viceversa**! By double negation, letting $\\neg P(x) = Q(x):$\n",
    "$$\n",
    "\\neg ( \\exists x, Q(x))\\equiv \\forall x, \\neg Q(x).\n",
    "$$"
   ]
  },
  {
   "cell_type": "markdown",
   "metadata": {
    "slideshow": {
     "slide_type": "fragment"
    }
   },
   "source": [
    "We can use this to prove the distributive law for universal quantifiers over conjunctions."
   ]
  },
  {
   "cell_type": "markdown",
   "metadata": {
    "slideshow": {
     "slide_type": "slide"
    }
   },
   "source": [
    "## Nested Quantifiers\n",
    "\n",
    "Nested quantifiers can be confusing, but are extremly useful in expressing interesting mathematical properties.\n",
    "\n",
    "For instance, can you figure out the meaning of the following statements over the universe $\\mathbb{R}$?  \n",
    "\n",
    "1) $$\\forall x \\forall y,\\qquad (x  + y = y + x)$$  \n",
    "\n",
    "2) $$\\forall x \\exists y,\\qquad  (x \\cdot y = 1) \\lor (x = 0)$$  \n",
    "\n",
    "3) $$\\forall x, (x < 0) \\implies \\neg(\\exists y, y^2 =x )$$"
   ]
  },
  {
   "cell_type": "markdown",
   "metadata": {
    "slideshow": {
     "slide_type": "fragment"
    }
   },
   "source": [
    "**Important Points:**\n",
    "\n",
    "- You **CANNOT** switch the order of quantifiers of different type.\n",
    "\n",
    "- You can merge/switch quantifiers of the same type."
   ]
  },
  {
   "cell_type": "markdown",
   "metadata": {
    "collapsed": true,
    "slideshow": {
     "slide_type": "slide"
    }
   },
   "source": [
    "## Order of Quantifiers (It Matters! A Lot!)\n",
    "\n",
    "Consider our example:\n",
    "$$\\forall x \\exists y,\\qquad  (x \\cdot y = 1) \\lor (x = 0)$$  \n",
    "\n",
    "This means that all reals except 0 have a multiplicative inverse, which is true.\n",
    "\n",
    "\n",
    "\n"
   ]
  },
  {
   "cell_type": "markdown",
   "metadata": {
    "slideshow": {
     "slide_type": "fragment"
    }
   },
   "source": [
    "What happens when we switch the order of quantifiers?\n",
    "$$\\exists y \\forall x,\\qquad  (x \\cdot y = 1) \\lor (x = 0)$$  \n"
   ]
  },
  {
   "cell_type": "markdown",
   "metadata": {
    "slideshow": {
     "slide_type": "fragment"
    }
   },
   "source": [
    "This means that there exists some fixed real $y$ such that, for all $x \\neq 0,$ $xy=1.$ This is clearly false.\n"
   ]
  },
  {
   "cell_type": "markdown",
   "metadata": {},
   "source": [
    "## Quantifiers of the Same Kind\n",
    "\n",
    "When the quantifiers are of the same type, their order does not matter:\n",
    "$$\n",
    "\\forall x \\forall y, P(x,y) \\equiv \\forall y \\forall x, P(x,y).\n",
    "$$\n",
    "In particular, this just means that for all pairs:\n",
    "$$\n",
    "\\forall (x,y) P(x,y)\n",
    "$$"
   ]
  }
 ],
 "metadata": {
  "anaconda-cloud": {},
  "celltoolbar": "Slideshow",
  "kernelspec": {
   "display_name": "Python [conda root]",
   "language": "python",
   "name": "conda-root-py"
  },
  "language_info": {
   "codemirror_mode": {
    "name": "ipython",
    "version": 3
   },
   "file_extension": ".py",
   "mimetype": "text/x-python",
   "name": "python",
   "nbconvert_exporter": "python",
   "pygments_lexer": "ipython3",
   "version": "3.5.2"
  }
 },
 "nbformat": 4,
 "nbformat_minor": 0
}
