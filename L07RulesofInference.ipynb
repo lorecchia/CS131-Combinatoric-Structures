{
 "cells": [
  {
   "cell_type": "markdown",
   "metadata": {
    "slideshow": {
     "slide_type": "slide"
    }
   },
   "source": [
    "# Lecture 7"
   ]
  },
  {
   "cell_type": "markdown",
   "metadata": {
    "slideshow": {
     "slide_type": "slide"
    }
   },
   "source": [
    "# Announcements\n",
    "\n",
    "- Midterm in class on Thursday: **you must read** the logistic info at\n",
    "   >https://lorecchia.github.io/CS131-Combinatoric-Structures/midterm1info.html\n",
    "    \n",
    "- Highlights:\n",
    "    - use your CS131 ID, not your name;\n",
    "    - bring pen, no pencil;\n",
    "    - no cheatsheet or index cards;  \n",
    "  \n",
    "- Practice midterm and solutions are on Piazza"
   ]
  },
  {
   "cell_type": "markdown",
   "metadata": {
    "slideshow": {
     "slide_type": "slide"
    }
   },
   "source": [
    "## Last Lecture: Equivalences Involving Quantifiers\n",
    "\n",
    "**Distributing Quantifiers**:  \n",
    "\n",
    "1) $\\exists x, P(x) \\lor Q(x) \\;\\equiv\\; (\\exists x, P(x) ) \\lor (\\exists x, Q(x))$;   \n",
    "  \n",
    "2) $\\forall x, P(x) \\land Q(x) \\; \\equiv \\; (\\forall x, P(x) \\land (\\forall x, Q(x))$;   \n",
    " \n",
    "\n",
    "**Negating Quantifiers**: Negation turns $\\forall$ into $\\exists.$  \n",
    "  \n",
    "3) $\\neg (\\forall x P(x)) \\; \\equiv \\; (\\exists x \\neg P(x))$;   \n",
    "    \n",
    "4) $\\neg (\\exists x \\neg P(x)) \\; \\equiv \\; (\\forall x \\neg P(x));$\n",
    "\n"
   ]
  },
  {
   "cell_type": "markdown",
   "metadata": {
    "slideshow": {
     "slide_type": "slide"
    }
   },
   "source": [
    "## Lecture 6 Wrap-Up\n",
    "\n",
    "### Nested Quantifiers\n",
    "\n",
    "Nested quantifiers can be confusing, but are extremly useful in expressing interesting mathematical properties.\n",
    "\n",
    "For instance, can you figure out the meaning of the following statements over the universe $\\mathbb{R}$?  \n",
    "\n",
    "1) $$\\forall x \\forall y,\\qquad (x  + y = y + x)$$  \n",
    "\n",
    "2) $$\\forall x \\exists y,\\qquad  (x \\cdot y = 1) \\lor (x = 0)$$  \n",
    "\n",
    "3) $$\\forall x, (x < 0) \\implies \\neg(\\exists y, y^2 =x )$$"
   ]
  },
  {
   "cell_type": "markdown",
   "metadata": {
    "slideshow": {
     "slide_type": "fragment"
    }
   },
   "source": [
    "**Important Points:**\n",
    "\n",
    "- You **CANNOT** switch the order of quantifiers of different type.\n",
    "\n",
    "- You can merge/switch quantifiers of the same type."
   ]
  },
  {
   "cell_type": "markdown",
   "metadata": {
    "collapsed": true,
    "slideshow": {
     "slide_type": "slide"
    }
   },
   "source": [
    "## Order of Quantifiers (It Matters! A Lot!)\n",
    "\n",
    "Consider our example:\n",
    "$$\\forall x \\exists y,\\qquad  (x \\cdot y = 1) \\lor (x = 0)$$  \n",
    "\n",
    "This means that all reals except 0 have a multiplicative inverse, which is true.\n",
    "\n",
    "\n",
    "\n"
   ]
  },
  {
   "cell_type": "markdown",
   "metadata": {
    "slideshow": {
     "slide_type": "fragment"
    }
   },
   "source": [
    "What happens when we switch the order of quantifiers?\n",
    "$$\\exists y \\forall x,\\qquad  (x \\cdot y = 1) \\lor (x = 0)$$  \n"
   ]
  },
  {
   "cell_type": "markdown",
   "metadata": {
    "slideshow": {
     "slide_type": "fragment"
    }
   },
   "source": [
    "This means that there exists some fixed real $y$ such that, for all $x \\neq 0,$ $xy=1.$ This is clearly false.\n"
   ]
  },
  {
   "cell_type": "markdown",
   "metadata": {
    "slideshow": {
     "slide_type": "slide"
    }
   },
   "source": [
    "## Quantifiers of the Same Kind\n",
    "\n",
    "When the quantifiers are of the same type, their order does not matter:\n",
    "$$\n",
    "\\forall x \\forall y, P(x,y) \\equiv \\forall y \\forall x, P(x,y).\n",
    "$$\n",
    "In particular, this just means that for all pairs:\n",
    "$$\n",
    "\\forall (x,y) P(x,y)\n",
    "$$"
   ]
  },
  {
   "cell_type": "markdown",
   "metadata": {
    "slideshow": {
     "slide_type": "slide"
    }
   },
   "source": [
    "## Review Exercise on Quantifiers\n",
    "\n",
    "**Question**: Consider the following quantified statement over the real numbers. For which choice of sets $A$ and $B$ is it true?  \n",
    "  \n",
    "$$\n",
    "\\forall x \\in A \\forall y \\in A\\; [(x > y) \\implies \\exists z \\in B (x >z) \\land (z > y)]\n",
    "$$\n",
    "\n",
    "Multiple answers are correct:   \n",
    "a) $A = \\mathbb{R},$ $B=\\mathbb{Q}$;   \n",
    "b) $A = \\mathbb{Z},$ $B=\\mathbb{Z}$;   \n",
    "c) $A = \\mathbb{Q},$ $B=\\mathbb{Q}$;   \n",
    "d) $A = \\mathbb{R},$ $B=\\mathbb{R}$.  "
   ]
  },
  {
   "cell_type": "markdown",
   "metadata": {
    "slideshow": {
     "slide_type": "subslide"
    }
   },
   "source": [
    "**Answer**: a, c and d."
   ]
  },
  {
   "cell_type": "markdown",
   "metadata": {
    "slideshow": {
     "slide_type": "slide"
    }
   },
   "source": [
    "## Lecture 7: Rules of Inference\n",
    "\n",
    "\n"
   ]
  },
  {
   "cell_type": "markdown",
   "metadata": {
    "slideshow": {
     "slide_type": "-"
    }
   },
   "source": [
    "\n",
    "Last formal topic in logic. From next week, we'll talk about how to use our understanding of logic to write correct and clear **mathematical proofs.**\n",
    "\n",
    "In order to write correct mathematical proof, we need to understand what a **valid logical argument** is.\n",
    "\n",
    "**Definition**: A (logical) _argument_ is a sequence of statements, ending with a _conclusion_.\n",
    "  \n",
    "  \n",
    "**Definition**: An argument is _valid_ if its conclusion must logically follow from the prececeding statements, which are known as _premises_. \n"
   ]
  },
  {
   "cell_type": "markdown",
   "metadata": {
    "slideshow": {
     "slide_type": "fragment"
    }
   },
   "source": [
    "Equivalently, an argument is valid if and only if it is impossible for the premises to be true and the conclusion to be false, i.e., it is true that the premises __imply_ the conclusion."
   ]
  },
  {
   "cell_type": "markdown",
   "metadata": {
    "slideshow": {
     "slide_type": "slide"
    }
   },
   "source": [
    "## Question: Informal Example of Valid Logical Argument\n",
    "\n",
    "Consider the following premises:\n",
    "1) Mr. Rossi is an American citizen. \n",
    "2) Mr. Rossi is an Italian citizen.\n",
    "3) Every Italian citizen has a European passport.\n",
    "\n",
    "Which of the following conclusions yield a valid logical argument?\n",
    "a) Mr. Rossi is a European citizen.\n",
    "b) There exists American citizens with European passports.\n",
    "c) Every European-passport holder is an American citizen.\n",
    "e) If you have a European passport, then you are an Italian citizen.\n",
    "d) If you are not an Italian citizen, you cannot have a European passport.\n"
   ]
  },
  {
   "cell_type": "markdown",
   "metadata": {
    "slideshow": {
     "slide_type": "subslide"
    }
   },
   "source": [
    "Correct: b.\n",
    "\n",
    "\n",
    "**Notation**:  \n",
    "Mr. Rossi is an American citizen.   \n",
    "Mr. Rossi is an Italian citizen.   \n",
    "Every Italian citizen has a European passport. \n",
    "\n",
    "---\n",
    "$\\therefore$ There exists American citizens with European passports.\n"
   ]
  },
  {
   "cell_type": "markdown",
   "metadata": {
    "slideshow": {
     "slide_type": "slide"
    }
   },
   "source": [
    "## Arguments over Propositions\n",
    "\n",
    "When the statements we are working with are **propositions**, it is particularly easy to check if an argument is valid.\n"
   ]
  },
  {
   "cell_type": "markdown",
   "metadata": {
    "slideshow": {
     "slide_type": "fragment"
    }
   },
   "source": [
    "**Example**:   \n",
    "\\begin{align*}\n",
    "P\\\\\n",
    "Q\\\\\n",
    "\\therefore P \\land Q\n",
    "\\end{align*}\n",
    "\n",
    "\n"
   ]
  },
  {
   "cell_type": "markdown",
   "metadata": {
    "slideshow": {
     "slide_type": "fragment"
    }
   },
   "source": [
    "**Example**:   \n",
    "\\begin{align*}\n",
    "P \\implies Q\\\\\n",
    "Q \\implies R\\\\\n",
    "\\neg R\\\\\n",
    "\\therefore \\neg P\n",
    "\\end{align*}"
   ]
  },
  {
   "cell_type": "markdown",
   "metadata": {
    "slideshow": {
     "slide_type": "slide"
    }
   },
   "source": [
    "## Arguments over Propositions\n",
    "\n",
    "**General Case**:\n",
    "Premises $P_1, P_2, P_3, P_4, \\ldots, P_k$;\n",
    "Conclusion $Q$.\n",
    "\n",
    "**A Quick Rule:** By the definition of valid argument, if the premises are true, the conclusion must be true.\n",
    "Formally:\n",
    "$$\n",
    "(P_1 \\land P_2 \\land P_3 \\ldots P_k) \\implies Q\n",
    "$$\n",
    "is a _tautology_ if and only if the argument is valid."
   ]
  },
  {
   "cell_type": "markdown",
   "metadata": {
    "slideshow": {
     "slide_type": "fragment"
    }
   },
   "source": [
    "**Example**:\n",
    "\\begin{align*}\n",
    "P\\\\\n",
    "Q\\\\\n",
    "\\therefore P \\land Q\n",
    "\\end{align*}\n",
    "\n",
    "**Check**: is $$P \\land Q \\implies P \\land Q$$ a tautology?"
   ]
  },
  {
   "cell_type": "markdown",
   "metadata": {},
   "source": [
    "**Example**:   \n",
    "\\begin{align*}\n",
    "P \\implies Q\\\\\n",
    "Q \\implies R\\\\\n",
    "\\neg R\\\\\n",
    "\\therefore \\neg P\n",
    "\\end{align*}\n",
    "\n",
    "**Check**: is $$(P \\implies Q) \\land (Q \\implies R) \\land (\\neg R) \\implies \\neg P$$ a tautology?"
   ]
  },
  {
   "cell_type": "markdown",
   "metadata": {
    "slideshow": {
     "slide_type": "slide"
    }
   },
   "source": [
    "## Rules of Inference for Propositonal Logic\n",
    "\n",
    "**Question**: how do we check validity of an argument? Do we always need to establish tautology?"
   ]
  },
  {
   "cell_type": "markdown",
   "metadata": {
    "slideshow": {
     "slide_type": "fragment"
    }
   },
   "source": [
    "**Answer**: Just like equivalences allowed us to bypass truth tables, we can build rules that quickly allow us to check the validity of simple arguments. These are called rules of inference.\n"
   ]
  },
  {
   "cell_type": "markdown",
   "metadata": {
    "slideshow": {
     "slide_type": "fragment"
    }
   },
   "source": [
    "### Two simple rules of inference:\n",
    "1) _Modus Ponens_\n",
    "\\begin{align*}\n",
    "P\\\\\n",
    "P \\implies Q\\\\\n",
    "\\therefore Q\n",
    "\\therefore \\neg P\n",
    "\\end{align*}"
   ]
  },
  {
   "cell_type": "markdown",
   "metadata": {
    "slideshow": {
     "slide_type": "fragment"
    }
   },
   "source": [
    "2) _Modus Tollens_\n",
    "\\begin{align*}\n",
    "\\neg Q\\\\\n",
    "P \\implies Q\\\\\n",
    "\\therefore \\neg P\n",
    "\\therefore \\neg P\n",
    "\\end{align*}"
   ]
  },
  {
   "cell_type": "markdown",
   "metadata": {
    "slideshow": {
     "slide_type": "slide"
    }
   },
   "source": [
    "## Other Rules of Inference\n",
    "\n",
    "![Rules of Inference](images/L07/rulesofinf.png)"
   ]
  },
  {
   "cell_type": "markdown",
   "metadata": {},
   "source": [
    "## Rules of Inference involving Quantified Statements\n",
    "\n",
    "![Rules of Inference with Quantifiers](images/L07/qrules.png)"
   ]
  },
  {
   "cell_type": "markdown",
   "metadata": {
    "slideshow": {
     "slide_type": "slide"
    }
   },
   "source": [
    "## Building Proofs\n",
    "\n",
    "Starting with **AXIOMS**, we use valid arguments to give conclusions, which we call **THEOREMS**.\n",
    "\n"
   ]
  },
  {
   "cell_type": "markdown",
   "metadata": {
    "slideshow": {
     "slide_type": "fragment"
    }
   },
   "source": [
    "If the axioms are true, then the theorems are true.\n"
   ]
  },
  {
   "cell_type": "markdown",
   "metadata": {
    "slideshow": {
     "slide_type": "slide"
    }
   },
   "source": [
    "## Philosophical Quiz\n",
    "\n",
    "Which of the following are correct in the contexts of statements over the universe $Z$ endowed with $(+, \\times)$?   \n",
    "a) All true statements can be proved.\n",
    "b) All false statements can be disproved.\n",
    "c) Some statements are neither false nor true.  \n",
    "d) There exist true statements that have no proof or there exists false statements that have proofs.\n"
   ]
  },
  {
   "cell_type": "markdown",
   "metadata": {
    "slideshow": {
     "slide_type": "slide"
    }
   },
   "source": [
    "## Goedel's Incompleteness Theorem\n",
    "\n",
    "![Incompleteness](images/L07/godelincompleteness.jpg)"
   ]
  },
  {
   "cell_type": "markdown",
   "metadata": {
    "slideshow": {
     "slide_type": "fragment"
    }
   },
   "source": [
    "**IDEA**: It is possible to write a statement P whose meaning is:   \n",
    " >   P is not provable."
   ]
  },
  {
   "cell_type": "markdown",
   "metadata": {
    "slideshow": {
     "slide_type": "fragment"
    }
   },
   "source": [
    "What happens if P is true? If P is false?"
   ]
  },
  {
   "cell_type": "code",
   "execution_count": null,
   "metadata": {
    "collapsed": true
   },
   "outputs": [],
   "source": []
  }
 ],
 "metadata": {
  "anaconda-cloud": {},
  "celltoolbar": "Slideshow",
  "kernelspec": {
   "display_name": "Python [conda root]",
   "language": "python",
   "name": "conda-root-py"
  },
  "language_info": {
   "codemirror_mode": {
    "name": "ipython",
    "version": 3
   },
   "file_extension": ".py",
   "mimetype": "text/x-python",
   "name": "python",
   "nbconvert_exporter": "python",
   "pygments_lexer": "ipython3",
   "version": "3.5.2"
  }
 },
 "nbformat": 4,
 "nbformat_minor": 0
}
