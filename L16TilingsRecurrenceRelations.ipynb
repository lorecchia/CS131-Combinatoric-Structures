{
 "cells": [
  {
   "cell_type": "markdown",
   "metadata": {
    "slideshow": {
     "slide_type": "slide"
    }
   },
   "source": [
    "# Lecture 15 Wrap-up: Induction and Tilings"
   ]
  },
  {
   "cell_type": "markdown",
   "metadata": {
    "slideshow": {
     "slide_type": "slide"
    }
   },
   "source": [
    "## Review Question I: Strong Induction\n",
    "\n",
    "Suppose than $P(n)$ is a predicate. Determine for which non-negative integers $n,$ the statement $P(n)$ must be true if    \n",
    "<br>\n",
    "<center>\n",
    "$P(0)$ is true;  \n",
    "for all $n \\geq 0$, $P(n) \\implies P(n+2)$;  \n",
    "</center>\n",
    "\n",
    "  \n",
    "a) all $n$,  \n",
    "b) all odd $n$,  \n",
    "c) all even $n$,  \n",
    "d) $n=0$.  "
   ]
  },
  {
   "cell_type": "markdown",
   "metadata": {
    "slideshow": {
     "slide_type": "slide"
    }
   },
   "source": [
    "## Review Question II: Strong Induction\n",
    "\n",
    "Suppose than $P(n)$ is a predicate. Determine for which non-negative integers $n,$ the statement $P(n)$ must be true if    \n",
    "<br>\n",
    "<center>\n",
    "$P(0) \\land P(1)$ is true;  \n",
    "for all $n \\geq 0$, $(P(n)\\land P(n+1)) \\implies P(n+2)$;  \n",
    "</center>\n",
    "\n",
    "a) all $n,$  \n",
    "b) all even $n,$  \n",
    "c) all odd $n,$  \n",
    "d) $n=0$ and $n=1.$  "
   ]
  },
  {
   "cell_type": "markdown",
   "metadata": {
    "slideshow": {
     "slide_type": "slide"
    }
   },
   "source": [
    "## Review Question III: Strong Induction\n",
    "\n",
    "Suppose than $P(n)$ is a predicate. Determine for which non-negative integers $n,$ the statement $P(n)$ must be true if    \n",
    "<br>\n",
    "<center>\n",
    "$P(0)$ is true;   \n",
    "for all $n \\geq 0,$ $P(n) \\implies P(n+2) \\land P(n+3))$ . \n",
    "</center>\n",
    "\n",
    "a) all $n,$  \n",
    "b) all even $n,$  \n",
    "c) all odd $n,$  \n",
    "d) none of the above."
   ]
  },
  {
   "cell_type": "markdown",
   "metadata": {
    "slideshow": {
     "slide_type": "slide"
    }
   },
   "source": [
    "## Induction: Tromino Tiling\n",
    "\n",
    "\n",
    "A tiling board:\n",
    "![tiling](images/L13/tiling.png)\n"
   ]
  },
  {
   "cell_type": "markdown",
   "metadata": {
    "slideshow": {
     "slide_type": "fragment"
    }
   },
   "source": [
    "A tromino:\n",
    "![tromino](images/L13/tromino.png)"
   ]
  },
  {
   "cell_type": "markdown",
   "metadata": {
    "slideshow": {
     "slide_type": "fragment"
    }
   },
   "source": [
    "**Question**: can you remove a central square from the board and still  tile the board with trominoes?"
   ]
  },
  {
   "cell_type": "markdown",
   "metadata": {
    "slideshow": {
     "slide_type": "slide"
    }
   },
   "source": [
    "## Induction: Tromino Tiling\n",
    "\n",
    "![Tromino](images/L16/tiling.png)\n",
    "\n",
    "**Inductive Hypothesis**: P(n): Tiling exists for board of size $2^n$ with missing central square."
   ]
  },
  {
   "cell_type": "markdown",
   "metadata": {
    "slideshow": {
     "slide_type": "fragment"
    }
   },
   "source": [
    "**Base Case**: $2 \\times 2$ board: OK."
   ]
  },
  {
   "cell_type": "markdown",
   "metadata": {
    "slideshow": {
     "slide_type": "fragment"
    }
   },
   "source": [
    "**Inductive Step**: Prove $P(n+1),$ assuming $P(n).$  \n",
    "\n",
    "Take a $2^{n+1} \\times 2^{n+1}$ board and divide it into $4$ boards of size $2^n \\times 2^n$. Then, we want to apply the Inductive Hypothesis ..."
   ]
  },
  {
   "cell_type": "markdown",
   "metadata": {
    "slideshow": {
     "slide_type": "fragment"
    }
   },
   "source": [
    ".. we are stuck"
   ]
  },
  {
   "cell_type": "markdown",
   "metadata": {
    "slideshow": {
     "slide_type": "slide"
    }
   },
   "source": [
    "## Tromino Tiling: Strengthen the Inductive Hypothesis\n",
    "\n",
    "**Inductive Hypothesis**: P(n): Tiling exists for board of size $2^n$ with missing ~~central~~ square"
   ]
  },
  {
   "cell_type": "markdown",
   "metadata": {
    "slideshow": {
     "slide_type": "fragment"
    }
   },
   "source": [
    "Try again:"
   ]
  },
  {
   "cell_type": "markdown",
   "metadata": {
    "slideshow": {
     "slide_type": "slide"
    }
   },
   "source": [
    "# Lecture 16: Recurrence Relations\n",
    "\n"
   ]
  },
  {
   "cell_type": "markdown",
   "metadata": {},
   "source": [
    "![recurrence](images/L13/recurrence.png)"
   ]
  },
  {
   "cell_type": "markdown",
   "metadata": {
    "slideshow": {
     "slide_type": "fragment"
    }
   },
   "source": [
    "Example from last time:  \n",
    "\n",
    "Fibonacci sequence:\n",
    "$$\n",
    "\\begin{cases}\n",
    "f_1 = 1;\\\\\n",
    "f_2 = 1;\\\\\n",
    "f_{n+1} = f_n + f_{n-1}, \\; n \\geq 2\n",
    "\\end{cases}\n",
    "$$\n"
   ]
  },
  {
   "cell_type": "markdown",
   "metadata": {},
   "source": [
    "## Applications of Recurrence Relations\n",
    "\n",
    "Today:\n",
    "\n",
    "1. Hanoi Towers\n",
    "\n",
    "2. Mergesort\n",
    "\n",
    "3. Population Growth\n",
    "\n",
    "\n",
    "**Ideas**: \n",
    "1. How do we come up with a recurrence relation?\n",
    "2. How de we solve a recurrence?"
   ]
  },
  {
   "cell_type": "markdown",
   "metadata": {},
   "source": []
  }
 ],
 "metadata": {
  "anaconda-cloud": {},
  "celltoolbar": "Slideshow",
  "kernelspec": {
   "display_name": "Python [conda root]",
   "language": "python",
   "name": "conda-root-py"
  },
  "language_info": {
   "codemirror_mode": {
    "name": "ipython",
    "version": 3
   },
   "file_extension": ".py",
   "mimetype": "text/x-python",
   "name": "python",
   "nbconvert_exporter": "python",
   "pygments_lexer": "ipython3",
   "version": "3.5.2"
  },
  "latex_envs": {
   "LaTeX_envs_menu_present": true,
   "autocomplete": true,
   "bibliofile": "biblio.bib",
   "cite_by": "apalike",
   "current_citInitial": 1,
   "eqLabelWithNumbers": true,
   "eqNumInitial": 1,
   "hotkeys": {
    "equation": "Ctrl-E",
    "itemize": "Ctrl-I"
   },
   "labels_anchors": false,
   "latex_user_defs": false,
   "report_style_numbering": false,
   "user_envs_cfg": false
  }
 },
 "nbformat": 4,
 "nbformat_minor": 0
}
