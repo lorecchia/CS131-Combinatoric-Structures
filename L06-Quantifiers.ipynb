{
 "cells": [
  {
   "cell_type": "markdown",
   "metadata": {
    "slideshow": {
     "slide_type": "slide"
    }
   },
   "source": [
    "# Lecture 6"
   ]
  },
  {
   "cell_type": "markdown",
   "metadata": {},
   "source": [
    "## Last Lecture: Quantifiers\n",
    "\n",
    "Universal quantifier: $\\forall$\n",
    "Existential quantifier: $\\exists$\n",
    "\n",
    "![Quantifiers](images/L06/quantifiers.png)\n",
    "\n",
    "\n"
   ]
  },
  {
   "cell_type": "markdown",
   "metadata": {
    "slideshow": {
     "slide_type": "fragment"
    }
   },
   "source": [
    "_Remarks_:  \n",
    "\n",
    "- Quantifiers range over the the _universe_ $U$ (also known as _domain of discourse_).  \n",
    "This is the same universe on which predicates are defined.\n",
    "        \n",
    "- It is extremely important to specify what the universe is when using quantifiers, as different universes will give different truth values. For instance, consider:\n",
    "$$\\forall x, \\; (x^4 \\geq x)$$"
   ]
  },
  {
   "cell_type": "markdown",
   "metadata": {
    "slideshow": {
     "slide_type": "fragment"
    }
   },
   "source": [
    "This is True when $U=\\mathbb{Z}$,  \n",
    "But it is false when $U=\\mathbb{R}$."
   ]
  },
  {
   "cell_type": "markdown",
   "metadata": {
    "slideshow": {
     "slide_type": "fragment"
    }
   },
   "source": [
    "- See Rosen 1.4 for more details about quantifiers, including precedence rules and binding variables."
   ]
  },
  {
   "cell_type": "markdown",
   "metadata": {
    "slideshow": {
     "slide_type": "slide"
    }
   },
   "source": [
    "## Last Lecture: Restricted Quantifiers\n",
    "\n",
    "- Quantification over sets, i.e., quantification with restricted domains (Rosen 1.4):\n",
    "  \n",
    "  Let $U = \\mathbb{Z}$.  \n",
    "  We may want to say that for all non-negative integers $x,$ $$x^3 \\geq x.$$  \n",
    "\n"
   ]
  },
  {
   "cell_type": "markdown",
   "metadata": {
    "slideshow": {
     "slide_type": "fragment"
    }
   },
   "source": [
    "We have a special notation for this. Letting $\\mathbb{Z}_{\\geq 0}$ be the set of nonnegative integers, we write:  \n",
    "  \n",
    "$$\n",
    "\\forall x \\in \\mathbb{Z}_{\\geq 0},\\; x^3 \\geq x.\n",
    "$$\n"
   ]
  },
  {
   "cell_type": "markdown",
   "metadata": {
    "slideshow": {
     "slide_type": "fragment"
    }
   },
   "source": [
    "Note that the quantification is __NOT__ over all integers, but just the set of nonnegative ones.  \n"
   ]
  },
  {
   "cell_type": "markdown",
   "metadata": {
    "slideshow": {
     "slide_type": "fragment"
    }
   },
   "source": [
    "In general, for a subset $S$ of the universe $U$, we write $\\forall x \\in S, P(x)$ to __restrict__ the universal quantification to elements of the subset $S.$ \n",
    "\n",
    "Allowing this notation does not change the expressive power of quantification. Indeed, one can define $\\forall x \\in S, P(x)$ as:\n",
    "$$\n",
    "\\forall x, (x \\in S) \\implies P(x).\n",
    "$$\n",
    "\n",
    "\n",
    "\n"
   ]
  },
  {
   "cell_type": "markdown",
   "metadata": {
    "slideshow": {
     "slide_type": "fragment"
    }
   },
   "source": [
    "__Example__: The formula $\\forall x \\in \\mathbb{Z}_{\\geq 0},\\; x^3 \\geq x$ can be written as:\n",
    "$$\n",
    "\\forall x, (x \\in \\mathbb{Z_{\\geq 0}}) \\implies (x^3 \\geq x)\n",
    "$$"
   ]
  },
  {
   "cell_type": "markdown",
   "metadata": {
    "slideshow": {
     "slide_type": "slide"
    }
   },
   "source": [
    "## Question 1: Restricted Existential Quantifiers\n",
    "\n",
    "In the same way that we restricted the universal quantifier $\\forall$ to a set , we can restrict the existential quantifier. What do you think the notation\n",
    "$$\n",
    "\\exists x \\in S, P(x),\n",
    "$$\n",
    "should correspond to?\n",
    "\n",
    "a. $\\exists x, (x \\in S) \\implies P(x),$  \n",
    "b. $\\exists x, (x \\in S) \\lor P(x),$  \n",
    "c. $\\exists x, (x \\in S) \\land P(x),$  \n",
    "d. $\\exists x, (x \\in S) \\iff P(x).$  \n",
    "e. We cannot express this concept using quantification over the universe.  "
   ]
  },
  {
   "cell_type": "markdown",
   "metadata": {
    "slideshow": {
     "slide_type": "subslide"
    }
   },
   "source": [
    "**Answer**: c.\n",
    "$$\n",
    "\\exists x, (x \\in S) \\land P(x).\n",
    "$$  \n",
    "\n",
    "This formula means that there exists $x$ in the universe such that $x$ belongs to $S$ and $P(x)$ is true. This is exactly the intended meaning of $\\exists x \\in S, P(x).$"
   ]
  },
  {
   "cell_type": "markdown",
   "metadata": {
    "slideshow": {
     "slide_type": "slide"
    }
   },
   "source": [
    "## Expressing Set Concepts Using Quantifiers\n",
    "\n",
    "Using quantifiers, we can write logical formulae to express two important set concepts:\n",
    "\n",
    "1. Containment: $A \\subseteq B$.\n",
    "2. Disjointness: $A \\cap B = \\emptyset.$"
   ]
  },
  {
   "cell_type": "markdown",
   "metadata": {
    "slideshow": {
     "slide_type": "fragment"
    }
   },
   "source": [
    "### Last Lecture: Containment\n",
    "\n",
    "For two sets $A$ and $B,$ the statement about sets\n",
    "$$\n",
    "A \\subseteq B,\n",
    "$$\n",
    "is equivalent to the logical formula\n",
    "$$\n",
    "\\forall x, (x \\in A) \\implies (x \\in B).\n",
    "$$"
   ]
  },
  {
   "cell_type": "markdown",
   "metadata": {
    "slideshow": {
     "slide_type": "slide"
    }
   },
   "source": [
    "## Question 2: Disjointness\n",
    "\n",
    "Let $A$ and $B$ be the truth sets for predicates $A(x)$ and $B(x).$\n",
    "Identify which of the following formulae is equivalent to $A \\cap B = 0.$\n",
    "\n",
    "a. $\\exists x, (x \\notin A) \\land (x \\notin B),$  \n",
    "b. $\\forall x, ( x \\notin A) \\lor (x \\notin B),$  \n",
    "c. $\\forall x, (x \\in A) \\implies (x \\in A \\land x \\in B),$  \n",
    "d. $\\forall x, \\neg(x \\in A) \\land \\neg(x \\in B).$   "
   ]
  },
  {
   "cell_type": "markdown",
   "metadata": {
    "slideshow": {
     "slide_type": "subslide"
    }
   },
   "source": [
    "**Answer**: b."
   ]
  },
  {
   "cell_type": "markdown",
   "metadata": {},
   "source": [
    "## More Advanced Formula Involving Quantifiers\n",
    "\n",
    "\n",
    "\n",
    "\n",
    "To simplify, we need logical equvalences3"
   ]
  },
  {
   "cell_type": "markdown",
   "metadata": {},
   "source": [
    "## Logical Equivalences Involving Quantifiers\n",
    "\n"
   ]
  },
  {
   "cell_type": "markdown",
   "metadata": {},
   "source": [
    "## Negating Quantifiers"
   ]
  },
  {
   "cell_type": "markdown",
   "metadata": {},
   "source": [
    "## Nested Quantifiers"
   ]
  },
  {
   "cell_type": "markdown",
   "metadata": {},
   "source": [
    "# Rules of Inference\n"
   ]
  },
  {
   "cell_type": "code",
   "execution_count": null,
   "metadata": {
    "collapsed": true
   },
   "outputs": [],
   "source": []
  }
 ],
 "metadata": {
  "anaconda-cloud": {},
  "celltoolbar": "Slideshow",
  "kernelspec": {
   "display_name": "Python [conda root]",
   "language": "python",
   "name": "conda-root-py"
  },
  "language_info": {
   "codemirror_mode": {
    "name": "ipython",
    "version": 3
   },
   "file_extension": ".py",
   "mimetype": "text/x-python",
   "name": "python",
   "nbconvert_exporter": "python",
   "pygments_lexer": "ipython3",
   "version": "3.5.2"
  }
 },
 "nbformat": 4,
 "nbformat_minor": 0
}
