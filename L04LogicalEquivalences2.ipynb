{
 "cells": [
  {
   "cell_type": "markdown",
   "metadata": {
    "slideshow": {
     "slide_type": "slide"
    }
   },
   "source": [
    "# Lecture 4"
   ]
  },
  {
   "cell_type": "code",
   "execution_count": 8,
   "metadata": {
    "collapsed": true,
    "slideshow": {
     "slide_type": "skip"
    }
   },
   "outputs": [],
   "source": [
    "%matplotlib inline\n",
    "%config InlineBackend.figure_format='retina'\n",
    "# import libraries\n",
    "import numpy as np\n",
    "import matplotlib as mp\n",
    "import pandas as pd\n",
    "import matplotlib.pyplot as plt\n",
    "import laUtilities as ut\n",
    "import slideUtilities as sl\n",
    "import demoUtilities as dm\n",
    "import prettytable\n",
    "from IPython.display import Image\n",
    "from IPython.display import display_html\n",
    "from IPython.display import display\n",
    "from IPython.display import Math\n",
    "from IPython.display import Latex\n",
    "from truths import Truths\n",
    "#reload(dm)\n",
    "#reload(ut)\n",
    "#print('')"
   ]
  },
  {
   "cell_type": "code",
   "execution_count": 9,
   "metadata": {
    "collapsed": false,
    "slideshow": {
     "slide_type": "skip"
    }
   },
   "outputs": [
    {
     "data": {
      "text/html": [
       "<style>\n",
       " .container.slides .celltoolbar, .container.slides .hide-in-slideshow {\n",
       "    display: None ! important;\n",
       "}\n",
       "</style>"
      ],
      "text/plain": [
       "<IPython.core.display.HTML object>"
      ]
     },
     "metadata": {},
     "output_type": "display_data"
    }
   ],
   "source": [
    "%%html\n",
    "<style>\n",
    " .container.slides .celltoolbar, .container.slides .hide-in-slideshow {\n",
    "    display: None ! important;\n",
    "}\n",
    "</style>"
   ]
  },
  {
   "cell_type": "code",
   "execution_count": null,
   "metadata": {
    "collapsed": true
   },
   "outputs": [],
   "source": []
  },
  {
   "cell_type": "markdown",
   "metadata": {
    "slideshow": {
     "slide_type": "slide"
    }
   },
   "source": [
    "## Logical Equivalences\n",
    "\n",
    "- Useful laws to simplify and evaluate propositions:\n",
    "    - Examples for Disjunction and Conjunctions:\n",
    "        - Associative Laws \n",
    "        - Distribute Laws \n",
    "        - Commutative Laws\n",
    "        \n",
    "__Tip 1__: You do not need to remember the names of the other laws.\n",
    "__Tip 2:__ We write $P \\equiv Q$ to say that $P$ and $Q$ are equivalent propositions. Note that this is slightly different from $P \\iff Q$.      "
   ]
  },
  {
   "cell_type": "markdown",
   "metadata": {
    "slideshow": {
     "slide_type": "subslide"
    }
   },
   "source": [
    "The statement $P \\equiv Q$ tells us that $P \\iff Q$ is a tautology, e.g., $P$ and $Q$ always take the same truth values. However:\n",
    "- $P \\iff Q$ is a valid proposition in our propositional logic\n",
    "- $P \\equiv Q$ is not a proposition. It is something we do outside of the logic system."
   ]
  },
  {
   "cell_type": "markdown",
   "metadata": {
    "slideshow": {
     "slide_type": "fragment"
    }
   },
   "source": [
    "  \n",
    "### Today: \n",
    "\n",
    "1. More equivalences: \n",
    "    - involving $\\lor, \\land$ and $\\neg$: De Morgan's Laws\n",
    "    - involving conditional statements\n",
    "2. Predicates, truth sets:\n",
    "    - set operations\n",
    "    - analogy between set theory and propositional logic\n"
   ]
  },
  {
   "cell_type": "markdown",
   "metadata": {
    "slideshow": {
     "slide_type": "slide"
    }
   },
   "source": [
    "## Practice Question\n",
    "\n",
    "**Question**: Which of the following propositions is logically equivalent to\n",
    "$$\n",
    "\\neg(P \\land(Q \\lor \\neg P)?\n",
    "$$\n",
    "\n",
    "a. $P \\lor Q;$   \n",
    "b. $\\neg P \\lor Q;$  \n",
    "c. $P \\lor \\neg Q;$  \n",
    "d. $\\neg P \\lor \\neg Q;$  \n"
   ]
  },
  {
   "cell_type": "markdown",
   "metadata": {
    "slideshow": {
     "slide_type": "subslide"
    }
   },
   "source": [
    "Answer: d.\n",
    "A truth table gives the solution. Can we develop a law that helps us simplify this kind of statement (negation of disjunction/conjunction?)"
   ]
  },
  {
   "cell_type": "markdown",
   "metadata": {
    "slideshow": {
     "slide_type": "slide"
    }
   },
   "source": [
    "## De Morgan's Laws\n",
    "\n",
    "**Example:**  \n",
    "\n",
    "    Both the Yankees and the Red Sox lost last night.  \n",
    "\n",
    "Its negation is:  \n",
    "\n",
    "    Either the Yankees or the Red Sox won last night."
   ]
  },
  {
   "cell_type": "markdown",
   "metadata": {
    "slideshow": {
     "slide_type": "slide"
    }
   },
   "source": [
    "## De Morgan's Laws\n",
    "\n",
    "- 1st Law: Negation of Conjunction is Disjunction of Negations\n",
    "    $$\\neg (P \\land Q) \\equiv \\neg P \\lor \\neg Q.$$\n",
    "- 2nd Law: Negation of Disjunction is Conjunction of Negations\n",
    "    $$\\neg (P \\lor Q) \\equiv \\neg P \\land \\neg Q.$$\n"
   ]
  },
  {
   "cell_type": "markdown",
   "metadata": {
    "slideshow": {
     "slide_type": "fragment"
    }
   },
   "source": [
    "__Tip__: You don't need to remember which one is 1st or 2nd."
   ]
  },
  {
   "cell_type": "markdown",
   "metadata": {
    "slideshow": {
     "slide_type": "slide"
    }
   },
   "source": [
    "## Verifying  De Morgan's Laws by Truth Table\n",
    "\n",
    "__Idea__: The truth table of the $\\land$ operator is the negation of the truth table of the $\\lor$ operator.\n",
    "\n"
   ]
  },
  {
   "cell_type": "code",
   "execution_count": 10,
   "metadata": {
    "collapsed": false,
    "slideshow": {
     "slide_type": "fragment"
    }
   },
   "outputs": [
    {
     "name": "stdout",
     "output_type": "stream",
     "text": [
      "|---|---|--------------|----------------|\n",
      "| P | Q | not(P and Q) | not P or not Q |\n",
      "|---|---|--------------|----------------|\n",
      "| 0 | 0 |      1       |       1        |\n",
      "| 0 | 1 |      1       |       1        |\n",
      "| 1 | 0 |      1       |       1        |\n",
      "| 1 | 1 |      0       |       0        |\n",
      "|---|---|--------------|----------------|\n"
     ]
    }
   ],
   "source": [
    "a = Truths(['P', 'Q'], ['not(P and Q)','not P or not Q']).__str__();\n",
    "print(a.replace('+','|'));"
   ]
  },
  {
   "cell_type": "markdown",
   "metadata": {},
   "source": [
    "**Exercise**: Can you see how to derive De Morgan's 2nd Law from the 1st Law?"
   ]
  },
  {
   "cell_type": "markdown",
   "metadata": {
    "slideshow": {
     "slide_type": "slide"
    }
   },
   "source": [
    "## Equivalences involving conditional statements\n",
    "\n",
    "This is a _conditional_ statement: $P \\implies Q$  \n",
    "this is its _converse_:  $Q \\implies P$  \n",
    "this is its _inverse_: $\\neg P\\implies \\neg Q$  \n",
    "this is its _contrapositive_: $\\neg Q \\implies \\neg P$  \n",
    "\n"
   ]
  },
  {
   "cell_type": "markdown",
   "metadata": {
    "slideshow": {
     "slide_type": "fragment"
    }
   },
   "source": [
    "## Practice Question\n",
    "\n",
    "Which one of the following statements is logically equivalent to  \n",
    "            > If at least 10 people are there, then the lecture will be given.\n",
    "?\n",
    "        \n",
    "        \n",
    "a. If there are fewer than 10 people, then the lecture will not be given.  \n",
    "b. If the lecture is not given, it means that there were fewer than 10 people there.  \n",
    "c. If the lecture is given, at least 10 people were there.  \n",
    "d. The lecture will be given if and only if at least 10 people are there.  \n",
    "\n"
   ]
  },
  {
   "cell_type": "markdown",
   "metadata": {
    "slideshow": {
     "slide_type": "subslide"
    }
   },
   "source": [
    "b. Contrapositive"
   ]
  },
  {
   "cell_type": "markdown",
   "metadata": {
    "slideshow": {
     "slide_type": "slide"
    }
   },
   "source": [
    "## Equivalence of contrapositive via laws\n",
    "\n",
    "In this case of chain of equivalences is more elegant than a truth table.\n",
    "\n",
    "The following uses the equivalence $P \\implies Q \\equiv \\not P \\lor Q$ and the commutative property of $\\lor$:\n",
    "$$\n",
    "P \\implies Q \\equiv \\neg P \\lor Q \\equiv Q \\lor \\neg P \\equiv \\neg Q \\implies \\neg P.\n",
    "$$"
   ]
  },
  {
   "cell_type": "markdown",
   "metadata": {
    "slideshow": {
     "slide_type": "fragment"
    }
   },
   "source": [
    "**Question**: How about converse and inverse?\n",
    "They are also contrapositive of each other."
   ]
  },
  {
   "cell_type": "markdown",
   "metadata": {
    "slideshow": {
     "slide_type": "fragment"
    }
   },
   "source": [
    "![Conditional Statements](images/cond.png)"
   ]
  },
  {
   "cell_type": "markdown",
   "metadata": {
    "slideshow": {
     "slide_type": "slide"
    }
   },
   "source": [
    "## Practice Question\n",
    "\n",
    "For which of the following statements is the converse true? [Multiple Answers!]\n",
    "\n",
    "a. If $x > 3$ and $y < 2,$ then $x > y.$    \n",
    "b. If $x > y$ then $x - y > 0.$    \n",
    "c. If $x^2 = y^2,$ then $x = y.$  \n",
    "d. If $x > y,$ then $x = y.$  \n",
    "e. If $x \\geq y,$ then $x=y.$  "
   ]
  },
  {
   "cell_type": "markdown",
   "metadata": {
    "slideshow": {
     "slide_type": "subslide"
    }
   },
   "source": [
    "**Answer**: The following:\n",
    "a. the converse is false  \n",
    "b. both statement and converse are true  \n",
    "c. statement is false but converse is true  \n",
    "d. statement and converse are false  \n",
    "e. statement is false but converse is true  "
   ]
  },
  {
   "cell_type": "markdown",
   "metadata": {
    "slideshow": {
     "slide_type": "slide"
    }
   },
   "source": [
    "## Use of Contrapositive\n",
    "\n",
    "Sometimes taking the contrapositive can make the meaning of a statement more obvious. Consider for instance the following:\n",
    "$$\n",
    "x \\leq y \\implies (x \\leq 3 \\lor y \\geq 2)\n",
    "$$\n",
    "With some thought and a bit of case analysis, you should convince yourself that this is true for all real $x$ and $y$.\n",
    "\n",
    "Now, taking the contrapositive (and applying De Morgan's Laws), we obtain the simpler, logically equivalent, implication:\n",
    "$$\n",
    "(x > 3 \\land y < 2) \\implies x > y.\n",
    "$$\n",
    "This is obviously true for all $x,y \\in \\mathbb{R}.$"
   ]
  },
  {
   "cell_type": "markdown",
   "metadata": {
    "slideshow": {
     "slide_type": "slide"
    }
   },
   "source": [
    "### We are done with logical equivalences.\n",
    "\n",
    "Going forward, remember the different ways to show logical equivalence:\n",
    "\n",
    "a. truth table  \n",
    "b. by applying laws (i.e., known logical equivalence)  \n",
    "c. combining both   "
   ]
  },
  {
   "cell_type": "markdown",
   "metadata": {
    "slideshow": {
     "slide_type": "slide"
    }
   },
   "source": [
    "## Beyond propositional variables\n",
    "\n",
    "The propositional logic we covered so far is not very interesting:\n",
    "- we are never looking inside the propositional variables,\n",
    "- does not convey a mathematical meaning.\n",
    "\n",
    "Next, we'll introduce some mathematical structure. For this purpose, I am assuming you are familiar with basic set notation:\n",
    "- $x \\in A$ means $x$ is element of set $A$, i.e., $x$ belongs to A.\n",
    "- $A \\subseteq B$ means that $A$ is a subset of $B.$\n",
    "- $A = \\{ x \\in \\mathbb{R} | x > 0\\}$ defines $A$ as the set of positive real numbers.\n",
    "\n"
   ]
  },
  {
   "cell_type": "markdown",
   "metadata": {},
   "source": [
    "## Predicates\n",
    "\n",
    "To use propositiona logic to talk about mathematical structures, we start by introducing __predicates__:\n",
    "\n",
    "_Definition_: Predicates are propositions that contain variables.\n",
    "\n",
    "__Examples__: \n",
    "- P(x): The integer $x$ is prime.\n",
    "- Q(z): $z \\geq 0.$\n"
   ]
  },
  {
   "cell_type": "markdown",
   "metadata": {
    "slideshow": {
     "slide_type": "fragment"
    }
   },
   "source": [
    "The truth value of these propositions depends on the setting of the variables:\n",
    "    - P(10) is false, but P(11) is true.\n",
    "    - Q(1) is true, but Q(-1) is false.\n",
    "    "
   ]
  },
  {
   "cell_type": "markdown",
   "metadata": {
    "slideshow": {
     "slide_type": "slide"
    }
   },
   "source": [
    "__Idea__: As the notation suggests, you should think of $P(x)$ as a function of $x$:\n",
    "    \n",
    "$P$ takes as input an element $x$ from a _universe_ $U$ and returns a proposition $P(x).$\n",
    "\n",
    "\n"
   ]
  },
  {
   "cell_type": "markdown",
   "metadata": {
    "slideshow": {
     "slide_type": "fragment"
    }
   },
   "source": [
    "__Note__: Be careful that you understand which universe $P(x)$ operates over.\n",
    "   \n",
    "__Examples__: \n",
    "- P(x): The integer $x$ is prime.\n",
    "  Universe $U = \\mathbb{Z}$\n",
    "\n",
    "- Q(z): $x^2 \\leq 1.$\n",
    "  Universe $U = \\mathbb{{R}}$\n",
    "       "
   ]
  },
  {
   "cell_type": "markdown",
   "metadata": {
    "slideshow": {
     "slide_type": "slide"
    }
   },
   "source": [
    "## Truth Sets\n",
    "\n",
    "Given a predicate $P(x)$ over a universe $U$, we can define a corresponding **truth set**, i.e., the set of elements $x$ in $U$ that make $P(x)$ true.\n",
    "\n",
    "**Example**:  \n",
    "- For $P(x)$: \"The integer $x$ is prime\" over the universe of integers, the truth set is exactly the set of prime integers.\n",
    "- For $Q(z)$: \"$x^2 \\leq 1$\" over the universe of reals, the truth set is the interval$[-1,1].$\n"
   ]
  },
  {
   "cell_type": "markdown",
   "metadata": {
    "slideshow": {
     "slide_type": "fragment"
    }
   },
   "source": [
    "**Formal Definition**: The _truth set_ of a predicate $P(x)$ over a universe $U$ is defined as\n",
    "$$\n",
    "\\{ x \\in U | P(x)\\}.\n",
    "$$"
   ]
  },
  {
   "cell_type": "markdown",
   "metadata": {
    "collapsed": true,
    "slideshow": {
     "slide_type": "slide"
    }
   },
   "source": [
    "## Compound Predicates\n",
    "\n",
    "Because predicates map to propositions, it is easy to construct new predicates by combining existing predicates using _logical operators_. \n",
    "\n",
    "**Example**:   \n",
    "P(x): $x \\geq 2.$  \n",
    "Q(x): $x \\leq 3.$\n",
    "\n",
    "Compound proposition: \n",
    "$$\n",
    "P(x) \\land Q(x): x \\geq 2 \\land x \\leq 3.\n",
    "$$\n",
    "\n",
    "**Question:** what is the truth set of the compound proposition? \n",
    "**Answer**: It is the set of reals that satisfy both $P(x)$ **and** $Q(x)$. This set is called the **intersection** of the truth sets of $P(x)$ and $Q(x). $\n",
    "\n"
   ]
  },
  {
   "cell_type": "markdown",
   "metadata": {
    "slideshow": {
     "slide_type": "fragment"
    }
   },
   "source": [
    "**Upshot**: \n",
    "- This is a formal way of introducing set operations using propositional logic. \n",
    "- It also reveals the completely analogous structure of logical connectives and set operations."
   ]
  },
  {
   "cell_type": "markdown",
   "metadata": {},
   "source": [
    "## Logical Connectives and Set Operations\n",
    "\n",
    "- Suppose we have predicates $A(x)$ and $B(x)$ over universe $U$ with truth sets $A$ and $B$ respectively (Figure 1).   \n",
    "\n",
    "- The truth set of $A(x) \\land B(x)$ is the _intersection_ $A \\cap B \\;$ (Figure 2),   \n",
    "  \n",
    "- The truth set of $A(x) \\lor B(x)$ is the _union_ $A \\cup B\\;$ (Figure 3),\n",
    "  \n",
    "- The truth set of $A(x) \\land \\neg B(x)$ is the _difference_ $A \\setminus B\\;$  (Figure 4). \n",
    "\n",
    "\n",
    "\n",
    "![Set Operations](images/L04/setops.png)\n"
   ]
  }
 ],
 "metadata": {
  "anaconda-cloud": {},
  "celltoolbar": "Slideshow",
  "kernelspec": {
   "display_name": "Python [conda root]",
   "language": "python",
   "name": "conda-root-py"
  },
  "language_info": {
   "codemirror_mode": {
    "name": "ipython",
    "version": 3
   },
   "file_extension": ".py",
   "mimetype": "text/x-python",
   "name": "python",
   "nbconvert_exporter": "python",
   "pygments_lexer": "ipython3",
   "version": "3.5.2"
  }
 },
 "nbformat": 4,
 "nbformat_minor": 0
}
