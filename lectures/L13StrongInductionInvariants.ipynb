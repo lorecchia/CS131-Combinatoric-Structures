{
 "cells": [
  {
   "cell_type": "markdown",
   "metadata": {
    "slideshow": {
     "slide_type": "slide"
    }
   },
   "source": [
    "# Lecture 13: Strong Induction and Invariants"
   ]
  },
  {
   "cell_type": "markdown",
   "metadata": {
    "slideshow": {
     "slide_type": "slide"
    }
   },
   "source": [
    "## Midterm 2 Special Office Hours and Updated Schedule\n",
    "\n",
    "* Midterm 2 is on Tuesday during class time. Specific [info on course webpage](https://lorecchia.github.io/CS131-Combinatoric-Structures/midterm2info.html).\n",
    "\n",
    "  \n",
    "* __Special Office Hours__. In the Undegraduate Lab, unless specified otherwise:  \n",
    "    * _Friday_: Jiadong  2-3.30pm; Hannah 3.30pm-5pm.  \n",
    "    * _Monday_: Lorenzo 12-1pm in Lorenzo's office, Sarah 2-4pm.  \n",
    "    * _Tuesday_: Hannah 11-12.30pm.  \n",
    "      \n",
    "      \n",
    "\n",
    "* There will be no office hours nor labs on Tuesday night or Wednesday after the midterm.  \n",
    "  \n",
    "  \n",
    "* Grades will be available by Thursday morning. If you are considering dropping the class based on your grade, you may come and pick up your exam on Thursday morning.\n"
   ]
  },
  {
   "cell_type": "markdown",
   "metadata": {
    "slideshow": {
     "slide_type": "slide"
    }
   },
   "source": [
    "## Recap of Previous Lectures\n",
    "\n",
    "* Principle of Mathematical Induction:\n",
    "\n",
    "![PMI](images/L13/pmi.png)\n"
   ]
  },
  {
   "cell_type": "markdown",
   "metadata": {
    "slideshow": {
     "slide_type": "fragment"
    }
   },
   "source": [
    "* Simple proofs by induction:\n",
    "    * Arithmetic and Geometric Series\n",
    "    * Simple Inequalities\n",
    "    "
   ]
  },
  {
   "cell_type": "markdown",
   "metadata": {
    "slideshow": {
     "slide_type": "fragment"
    }
   },
   "source": [
    "* More advanced proofs by induction:\n",
    "    * Geometric Proofs"
   ]
  },
  {
   "cell_type": "markdown",
   "metadata": {
    "slideshow": {
     "slide_type": "fragment"
    }
   },
   "source": [
    "* Equivalence between Principle of Mathematical Induction and Well-Ordering Principle"
   ]
  },
  {
   "cell_type": "markdown",
   "metadata": {
    "slideshow": {
     "slide_type": "slide"
    }
   },
   "source": [
    "## Importance of Choosing a Strong Inductive Hypothesis\n",
    "\n",
    "<!-- defineinductive hypothesis -->\n",
    "\n",
    "\n",
    "**Example**: Prove the following fundamental theorem.\n",
    "\n",
    "\\begin{theorem}\n",
    "Every integer greater than $1$ is a product of primes.\n",
    "\\end{theorem}\n"
   ]
  },
  {
   "cell_type": "markdown",
   "metadata": {
    "slideshow": {
     "slide_type": "fragment"
    }
   },
   "source": [
    "**Question**: What should we make the inductive hypothesis $P(n)$ be?"
   ]
  },
  {
   "cell_type": "markdown",
   "metadata": {
    "slideshow": {
     "slide_type": "fragment"
    }
   },
   "source": [
    "**Answer**: Natural choice for $n \\geq 2$:\n",
    "\n",
    "\\begin{itemize}\n",
    "\\item P(n)  : $n$ _is a product of primes_\n",
    "\n",
    "\\item Inductive step: $\\forall n, P(n) \\implies P(n+1)$\n",
    "\n",
    "<center>\n",
    "for all $n$, if $n$ is a product of primes then $n+1$ is a product of primes.\n",
    "</center>        \n",
    "\\end{itemize}"
   ]
  },
  {
   "cell_type": "markdown",
   "metadata": {
    "slideshow": {
     "slide_type": "fragment"
    }
   },
   "source": [
    "**Problem**: This seems hard. $P(n)$ tells us very little about $P(n+1)$."
   ]
  },
  {
   "cell_type": "markdown",
   "metadata": {
    "slideshow": {
     "slide_type": "fragment"
    }
   },
   "source": [
    "**Idea**: Change inductive hypothesis"
   ]
  },
  {
   "cell_type": "markdown",
   "metadata": {
    "slideshow": {
     "slide_type": "slide"
    }
   },
   "source": [
    "## Question: Change the Inductive Hypothesis\n",
    "\n",
    "\\begin{theorem}\n",
    "Every integer greater than $1$ is a product of primes.\n",
    "\\end{theorem}\n",
    "\n",
    "Let us use the same notation:  \n",
    " <center> $P(n)$: $n$ is a product of primes. </center>\n",
    "\n",
    "**Idea**: Pick a different inductive hypothesis $Q(n)$. "
   ]
  },
  {
   "cell_type": "markdown",
   "metadata": {
    "slideshow": {
     "slide_type": "fragment"
    }
   },
   "source": [
    "**Question**: Which inductive hypothesis $Q(n)$ is best suited to prove the theorem? \n",
    "\n",
    "\\begin{itemize}\n",
    "\\item for $n \\geq 3,$  \n",
    "$Q(n): P(n) \\land P(n-1)$\n",
    "\n",
    "\\item for $n \\geq 3,$    \n",
    "$Q(n): P(n) \\land P(2) \\land (n \\;\\textrm{odd} \\implies P\\left(\\frac{n+1}{2}\\right))$\n",
    "\n",
    "\\item for $n \\geq 2,$  \n",
    "$Q(n): \\forall k \\leq n, P(k)$\n",
    "\n",
    "\\item for $n \\geq 2,$  \n",
    "$Q(n): P(n) \\land P(2)$\n",
    "\\end{itemize}"
   ]
  },
  {
   "cell_type": "markdown",
   "metadata": {
    "slideshow": {
     "slide_type": "subslide"
    }
   },
   "source": [
    "\n",
    "\n",
    "**Answer**: $Q(n): \\forall k \\leq n, P(k)$\n",
    "\n",
    "**Why does it help**: we can assume that $P(k)$ has been proved for all $k \\leq n$.\n",
    "\n",
    "**Think**: Can you see why this still allows us to apply the Principle of Mathematical Induction?."
   ]
  },
  {
   "cell_type": "markdown",
   "metadata": {
    "slideshow": {
     "slide_type": "slide"
    }
   },
   "source": [
    "## The Proof\n",
    "\n",
    "\\begin{theorem}\n",
    "Every integer greater than $1$ is a product of primes.\n",
    "\\end{theorem}\n",
    "\n",
    "![Proof](images/L13/strongproof.png)\n"
   ]
  },
  {
   "cell_type": "markdown",
   "metadata": {
    "slideshow": {
     "slide_type": "slide"
    }
   },
   "source": [
    "## Strong Induction\n",
    "\n",
    "![Strong PMI](images/L13/strong.png)\n"
   ]
  },
  {
   "cell_type": "markdown",
   "metadata": {
    "slideshow": {
     "slide_type": "slide"
    }
   },
   "source": [
    "## Question: Another Example of Strong Induction\n",
    "\n",
    "**Question**: The country Inductia, whose unit of currency is the Strong, has coins worth 3Sg (3 Strongs) and 5Sg. \n",
    "\n",
    "For which amounts $n$ of Strongs can the Inductians produce exact change?\n",
    "\n",
    "\\begin{itemize}\n",
    "\\item For all $n \\geq 6,$\n",
    "\\item For all $n \\geq 8,$\n",
    "\\item For all $n \\geq 8,$ except multiples of $22$.\n",
    "\\item There are infinitely many $n$ for which they cannot produce change.\n",
    "\\end{itemize} "
   ]
  },
  {
   "cell_type": "markdown",
   "metadata": {
    "slideshow": {
     "slide_type": "slide"
    }
   },
   "source": [
    "## Another Example of Strong Induction\n",
    "\n",
    "**Question**: The country Inductia, whose unit of currency is the Strong, has coins worth 3Sg (3 Strongs) and 5Sg. Prove that the Inductians can collect coins to make change for any number that is at least 8 Strongs.\n",
    "\n",
    "**Proof** by strong induction"
   ]
  },
  {
   "cell_type": "markdown",
   "metadata": {
    "slideshow": {
     "slide_type": "slide"
    }
   },
   "source": [
    "## Different Ways of Changing the Inductive Hypothesis\n",
    "\n",
    "* Making the inductive hypothesis stronger has pros/cons:\n",
    "    * PRO: stronger assumption you can rely on\n",
    "    * CON: need to show something stronger\n"
   ]
  },
  {
   "cell_type": "markdown",
   "metadata": {
    "slideshow": {
     "slide_type": "fragment"
    }
   },
   "source": [
    "**NOTE**: \n",
    "Sometimes choosing the right way to strengthen the hypothesis is crucial to solve a problem.\n"
   ]
  },
  {
   "cell_type": "markdown",
   "metadata": {
    "slideshow": {
     "slide_type": "slide"
    }
   },
   "source": [
    "## Example: Tromino Tiling\n",
    "\n",
    "A tiling board with a special square, marked B:\n",
    "![tiling](images/L13/tilingb.png)\n"
   ]
  },
  {
   "cell_type": "markdown",
   "metadata": {
    "slideshow": {
     "slide_type": "fragment"
    }
   },
   "source": [
    "A tromino:\n",
    "![tromino](images/L13/tromino.png)"
   ]
  },
  {
   "cell_type": "markdown",
   "metadata": {
    "slideshow": {
     "slide_type": "fragment"
    }
   },
   "source": [
<<<<<<< HEAD
    "**Question**: can you remove a central square from the board and still  tile the board with trominoes?"
=======
    "**Question**: can you tile the board with trominoes, leaving out the special square?\n"
   ]
  },
  {
   "cell_type": "markdown",
   "metadata": {
    "collapsed": true,
    "slideshow": {
     "slide_type": "slide"
    }
   },
   "source": [
    "## Tromino Tiling\n",
    "\n",
    "You are encouraged to check out the applet at the following website:\n",
    "http://www.cut-the-knot.org/Curriculum/Geometry/Tromino.shtml\n",
    "This may require you to enable Java on your browser."
>>>>>>> origin/master
   ]
  }
 ],
 "metadata": {
  "anaconda-cloud": {},
  "celltoolbar": "Slideshow",
  "kernelspec": {
   "display_name": "Python [conda root]",
   "language": "python",
   "name": "conda-root-py"
  },
  "language_info": {
   "codemirror_mode": {
    "name": "ipython",
    "version": 3
   },
   "file_extension": ".py",
   "mimetype": "text/x-python",
   "name": "python",
   "nbconvert_exporter": "python",
   "pygments_lexer": "ipython3",
   "version": "3.5.2"
  },
  "latex_envs": {
   "LaTeX_envs_menu_present": true,
   "autocomplete": true,
   "bibliofile": "biblio.bib",
   "cite_by": "apalike",
   "current_citInitial": 1,
   "eqLabelWithNumbers": true,
   "eqNumInitial": 1,
   "hotkeys": {
    "equation": "Ctrl-E",
    "itemize": "Ctrl-I"
   },
   "labels_anchors": false,
   "latex_user_defs": false,
   "report_style_numbering": false,
   "user_envs_cfg": false
  }
 },
 "nbformat": 4,
 "nbformat_minor": 0
}
