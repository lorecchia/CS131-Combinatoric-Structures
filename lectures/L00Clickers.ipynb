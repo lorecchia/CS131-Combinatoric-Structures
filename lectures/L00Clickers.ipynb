{
 "cells": [
  {
   "cell_type": "markdown",
   "metadata": {
    "nbpresent": {
     "id": "68f4aa08-60eb-488e-b645-9b441196587a"
    }
   },
   "source": [
    "# Peer Instruction in CS 132"
   ]
  },
  {
   "cell_type": "code",
   "execution_count": 6,
   "metadata": {
    "collapsed": false,
    "internals": {},
    "nbpresent": {
     "id": "ffa3b051-b2b3-4f15-a618-808d45fa3eb7"
    },
    "slideshow": {
     "slide_type": "skip"
    }
   },
   "outputs": [
    {
     "ename": "ImportError",
     "evalue": "No module named 'laUtilities'",
     "output_type": "error",
     "traceback": [
      "\u001b[0;31m---------------------------------------------------------------------------\u001b[0m",
      "\u001b[0;31mImportError\u001b[0m                               Traceback (most recent call last)",
      "\u001b[0;32m<ipython-input-6-652940f4afc5>\u001b[0m in \u001b[0;36m<module>\u001b[0;34m()\u001b[0m\n\u001b[1;32m      6\u001b[0m \u001b[0;32mimport\u001b[0m \u001b[0mpandas\u001b[0m \u001b[0;32mas\u001b[0m \u001b[0mpd\u001b[0m\u001b[0;34m\u001b[0m\u001b[0m\n\u001b[1;32m      7\u001b[0m \u001b[0;32mimport\u001b[0m \u001b[0mmatplotlib\u001b[0m\u001b[0;34m.\u001b[0m\u001b[0mpyplot\u001b[0m \u001b[0;32mas\u001b[0m \u001b[0mplt\u001b[0m\u001b[0;34m\u001b[0m\u001b[0m\n\u001b[0;32m----> 8\u001b[0;31m \u001b[0;32mimport\u001b[0m \u001b[0mlaUtilities\u001b[0m \u001b[0;32mas\u001b[0m \u001b[0mut\u001b[0m\u001b[0;34m\u001b[0m\u001b[0m\n\u001b[0m\u001b[1;32m      9\u001b[0m \u001b[0;32mimport\u001b[0m \u001b[0mslideUtilities\u001b[0m \u001b[0;32mas\u001b[0m \u001b[0msl\u001b[0m\u001b[0;34m\u001b[0m\u001b[0m\n\u001b[1;32m     10\u001b[0m \u001b[0;32mimport\u001b[0m \u001b[0mdemoUtilities\u001b[0m \u001b[0;32mas\u001b[0m \u001b[0mdm\u001b[0m\u001b[0;34m\u001b[0m\u001b[0m\n",
      "\u001b[0;31mImportError\u001b[0m: No module named 'laUtilities'"
     ]
    }
   ],
   "source": [
    "%matplotlib inline\n",
    "%config InlineBackend.figure_format='retina'\n",
    "# import libraries\n",
    "import numpy as np\n",
    "import matplotlib as mp\n",
    "import pandas as pd\n",
    "import matplotlib.pyplot as plt\n",
    "import laUtilities as ut\n",
    "import slideUtilities as sl\n",
    "import demoUtilities as dm\n",
    "import pandas as pd\n",
    "from importlib import reload\n",
    "from datetime import datetime\n",
    "from IPython.display import Image\n",
    "from IPython.display import display_html\n",
    "from IPython.display import display\n",
    "from IPython.display import Math\n",
    "from IPython.display import Latex\n",
    "from IPython.display import HTML\n",
    "reload(sl)\n",
    "print('')"
   ]
  },
  {
   "cell_type": "code",
   "execution_count": null,
   "metadata": {
    "collapsed": false,
    "internals": {
     "slide_helper": "subslide_end"
    },
    "nbpresent": {
     "id": "6b835334-e7eb-41c7-953c-7e69e90b45cc"
    },
    "slide_helper": "slide_end",
    "slideshow": {
     "slide_type": "skip"
    }
   },
   "outputs": [],
   "source": [
    "%%html\n",
    "<style>\n",
    " .container.slides .celltoolbar, .container.slides .hide-in-slideshow {\n",
    "    display: None ! important;\n",
    "}\n",
    "</style>"
   ]
  },
  {
   "cell_type": "markdown",
   "metadata": {
    "nbpresent": {
     "id": "4bcdb1aa-0bce-4e61-9712-a568853f4dd4"
    },
    "slideshow": {
     "slide_type": "skip"
    }
   },
   "source": [
    "%Set up useful MathJax (Latex) macros.\n",
    "%See http://docs.mathjax.org/en/latest/tex.html#defining-tex-macros\n",
    "%These are for use in the slideshow\n",
    "$\\newcommand{\\mat}[1]{\\left[\\begin{array}#1\\end{array}\\right]}$\n",
    "$\\newcommand{\\vx}{{\\mathbf x}}$\n",
    "$\\newcommand{\\hx}{\\hat{\\mathbf x}}$\n",
    "$\\newcommand{\\vbt}{{\\mathbf\\beta}}$\n",
    "$\\newcommand{\\vy}{{\\mathbf y}}$\n",
    "$\\newcommand{\\vz}{{\\mathbf z}}$\n",
    "$\\newcommand{\\R}{{\\mathbb{R}}}$\n",
    "$\\newcommand{\\vu}{{\\mathbf u}}$\n",
    "$\\newcommand{\\vv}{{\\mathbf v}}$\n",
    "$\\newcommand{\\vw}{{\\mathbf w}}$\n",
    "$\\newcommand{\\col}{{\\operatorname{Col}}}$\n",
    "$\\newcommand{\\nul}{{\\operatorname{Nul}}}$\n",
    "$\\newcommand{\\vb}{{\\mathbf b}}$\n",
    "$\\newcommand{\\va}{{\\mathbf a}}$\n",
    "$\\newcommand{\\ve}{{\\mathbf e}}$\n",
    "$\\newcommand{\\setb}{{\\mathcal{B}}}$\n",
    "$\\newcommand{\\rank}{{\\operatorname{rank}}}$\n",
    "$\\newcommand{\\vp}{{\\mathbf p}}$"
   ]
  },
  {
   "cell_type": "raw",
   "metadata": {
    "nbpresent": {
     "id": "b194aafa-a859-4dc5-83ec-579d1edd34b1"
    },
    "slideshow": {
     "slide_type": "skip"
    }
   },
   "source": [
    "\\newcommand{\\mat}[1]{\\left[\\begin{array}#1\\end{array}\\right]}\n",
    "\\newcommand{\\vx}{{\\mathbf x}}\n",
    "\\newcommand{\\hx}{\\hat{\\mathbf x}}\n",
    "\\newcommand{\\vbt}{{\\mathbf\\beta}}\n",
    "\\newcommand{\\vy}{{\\mathbf y}}\n",
    "\\newcommand{\\vz}{{\\mathbf z}}\n",
    "\\newcommand{\\vb}{{\\mathbf b}}\n",
    "\\newcommand{\\vu}{{\\mathbf u}}\n",
    "\\newcommand{\\vv}{{\\mathbf v}}\n",
    "\\newcommand{\\vw}{{\\mathbf w}}\n",
    "\\newcommand{\\va}{{\\mathbf a}}\n",
    "\\newcommand{\\ve}{{\\mathbf e}}\n",
    "\\newcommand{\\vp}{{\\mathbf p}}\n",
    "\\newcommand{\\R}{{\\mathbb{R}}}\n",
    "\\newcommand{\\col}{{\\operatorname{Col}}}\n",
    "\\newcommand{\\nul}{{\\operatorname{Nul}}}\n",
    "\\newcommand{\\rank}{{\\operatorname{rank}}}\n",
    "\\newcommand{\\setb}{{\\mathcal{B}}}"
   ]
  },
  {
   "cell_type": "markdown",
   "metadata": {
    "internals": {
     "slide_type": "subslide"
    },
    "nbpresent": {
     "id": "507801f6-40d2-4b1e-a579-1c879ff6ff17"
    },
    "slideshow": {
     "slide_type": "slide"
    }
   },
   "source": [
    "## Traditional Lecture Classes"
   ]
  },
  {
   "cell_type": "markdown",
   "metadata": {
    "internals": {},
    "nbpresent": {
     "id": "8eebc75e-6058-4e0b-bca6-4c24346adda3"
    },
    "slideshow": {
     "slide_type": "-"
    }
   },
   "source": [
    "* The instructor summarizes what you need to know.\n",
    "* Readings are assigned, but may not actually be done!"
   ]
  },
  {
   "cell_type": "markdown",
   "metadata": {
    "internals": {
     "frag_number": 5
    },
    "nbpresent": {
     "id": "fef3f07d-041e-4bf3-bfcc-0806e33b5f3a"
    },
    "slideshow": {
     "slide_type": "fragment"
    }
   },
   "source": [
    "* Dates back to before the printing press."
   ]
  },
  {
   "cell_type": "code",
   "execution_count": null,
   "metadata": {
    "collapsed": false,
    "internals": {
     "frag_helper": "fragment_end",
     "frag_number": 5,
     "slide_helper": "subslide_end"
    },
    "nbpresent": {
     "id": "13f38580-fcad-4d49-a25a-78d75f53611a"
    },
    "slide_helper": "slide_end",
    "slideshow": {
     "slide_type": "-"
    }
   },
   "outputs": [],
   "source": [
    "# image credit: Dave Sullivan\n",
    "sl.hide_code_in_slideshow()\n",
    "display(Image(\"images/Traditional-Lecture.png\", width=400))"
   ]
  },
  {
   "cell_type": "markdown",
   "metadata": {
    "internals": {
     "frag_helper": "fragment_end",
     "frag_number": 5,
     "slide_helper": "subslide_end",
     "slide_type": "subslide"
    },
    "nbpresent": {
     "id": "5b03ecd3-62ce-4f7d-8e5a-d566e18944cb"
    },
    "slide_helper": "slide_end",
    "slideshow": {
     "slide_type": "slide"
    }
   },
   "source": [
    "> __Lecture:__ The process of transferring notes from the teacher to the student without passing through the minds of either."
   ]
  },
  {
   "cell_type": "markdown",
   "metadata": {
    "internals": {
     "frag_helper": "fragment_end",
     "frag_number": 5,
     "slide_type": "subslide"
    },
    "nbpresent": {
     "id": "54261d45-6713-42a3-9fb5-cd4272c2100d"
    },
    "slideshow": {
     "slide_type": "slide"
    }
   },
   "source": [
    "## Limits of the Traditional Approach"
   ]
  },
  {
   "cell_type": "markdown",
   "metadata": {
    "internals": {
     "frag_helper": "fragment_end",
     "frag_number": 5,
     "slide_helper": "subslide_end"
    },
    "nbpresent": {
     "id": "3f38704f-6a82-4bf5-8779-8ca2acd766a7"
    },
    "slide_helper": "slide_end",
    "slideshow": {
     "slide_type": "-"
    }
   },
   "source": [
    "* You get little or no immediate feedback\n",
    "* In reality, little is actually learned from passive listening.\n",
    "    * You need to actively engage with the material\n",
    "* Homework provides active engagement, but ...\n",
    "* After college, you'll need to continue learning on your own.\n",
    "    * Should get good now at learning from a textbook."
   ]
  },
  {
   "cell_type": "markdown",
   "metadata": {
    "internals": {
     "frag_helper": "fragment_end",
     "frag_number": 5,
     "slide_type": "subslide"
    },
    "nbpresent": {
     "id": "1a94b0e7-5c3b-4d13-9cd4-6193f3081158"
    },
    "slideshow": {
     "slide_type": "slide"
    }
   },
   "source": [
    "## Lectures in this Class"
   ]
  },
  {
   "cell_type": "markdown",
   "metadata": {
    "internals": {
     "frag_helper": "fragment_end",
     "frag_number": 5,
     "slide_helper": "subslide_end"
    },
    "nbpresent": {
     "id": "09a87fc9-ff12-4549-a541-07cd62efbe9e"
    },
    "slide_helper": "slide_end",
    "slideshow": {
     "slide_type": "-"
    }
   },
   "source": [
    "* Based on an approach called _peer instruction_\n",
    "    * Developed by Eric Mazur at Harvard\n",
    "* Basic process:\n",
    "    1. Question posed (possibly after a short intro)\n",
    "    2. Solo vote (no discussion yet)\n",
    "    3. Small-group discussions (in teams of 3)\n",
    "        * explain your thinking to each other\n",
    "        * come to a consensus\n",
    "    4. Group vote\n",
    "        * each person in the group enters the same answer\n",
    "    5. Class-wide discussion\n",
    "        * Why is the correct answer correct?\n",
    "        * Why are the wrong answers wrong?\n",
    "        * Possibly some clarification by me"
   ]
  },
  {
   "cell_type": "markdown",
   "metadata": {
    "internals": {
     "frag_helper": "fragment_end",
     "frag_number": 5,
     "slide_type": "subslide"
    },
    "nbpresent": {
     "id": "243ab9ed-8ccf-4966-ac7f-d1fad2665979"
    },
    "slideshow": {
     "slide_type": "slide"
    }
   },
   "source": [
    "## Benefits of Peer Instruction"
   ]
  },
  {
   "cell_type": "markdown",
   "metadata": {
    "internals": {
     "frag_helper": "fragment_end",
     "frag_number": 5
    },
    "nbpresent": {
     "id": "15fabd78-8193-44d8-b4cf-12f13e50c5c2"
    },
    "slideshow": {
     "slide_type": "-"
    }
   },
   "source": [
    "* It promotes active engagement.\n",
    "* You get immediate feedback about your understanding.\n",
    "* I get immediate feedback about your understanding!"
   ]
  },
  {
   "cell_type": "markdown",
   "metadata": {
    "internals": {
     "frag_helper": "fragment_end",
     "frag_number": 5
    },
    "nbpresent": {
     "id": "635e62db-0d40-4f98-8633-bac9d8bcc0e7"
    },
    "slideshow": {
     "slide_type": "fragment"
    }
   },
   "source": [
    "But the real reason is:\n",
    "\n",
    "* It promotes increased learning.\n",
    "    * Explaining concepts to others benefits you!"
   ]
  },
  {
   "cell_type": "code",
   "execution_count": null,
   "metadata": {
    "collapsed": false,
    "internals": {
     "frag_helper": "fragment_end",
     "frag_number": 5
    },
    "nbpresent": {
     "id": "9e9d2047-e004-4e46-85cc-6dab1bb6f2ee"
    },
    "slideshow": {
     "slide_type": "-"
    }
   },
   "outputs": [],
   "source": [
    "sl.hide_code_in_slideshow()\n",
    "display(Image(\"images/PI-Benefits-Chart-Mazur.png\", width=550))"
   ]
  },
  {
   "cell_type": "markdown",
   "metadata": {
    "internals": {
     "frag_helper": "fragment_end",
     "frag_number": 5,
     "slide_helper": "subslide_end"
    },
    "nbpresent": {
     "id": "20d4d6ac-8430-4af1-a514-6639e0fea022"
    },
    "slide_helper": "slide_end",
    "slideshow": {
     "slide_type": "-"
    }
   },
   "source": [
    "> Crouch, C., Mazur, E. _Peer Instruction: Ten years of experience and results._\n"
   ]
  },
  {
   "cell_type": "markdown",
   "metadata": {
    "internals": {
     "frag_helper": "fragment_end",
     "frag_number": 5,
     "slide_type": "subslide"
    },
    "nbpresent": {
     "id": "154b9c2f-09b6-489d-871f-fcef6ba7adb8"
    },
    "slideshow": {
     "slide_type": "slide"
    }
   },
   "source": [
    "## Drawback of Peer Instruction"
   ]
  },
  {
   "cell_type": "markdown",
   "metadata": {
    "internals": {
     "frag_helper": "fragment_end",
     "frag_number": 5
    },
    "nbpresent": {
     "id": "50ee00ca-7bfe-4a0a-9abd-a6fae16b175e"
    },
    "slideshow": {
     "slide_type": "-"
    }
   },
   "source": [
    "Less time to catch up on sleep"
   ]
  },
  {
   "cell_type": "code",
   "execution_count": null,
   "metadata": {
    "collapsed": false,
    "internals": {
     "frag_helper": "fragment_end",
     "frag_number": 5
    },
    "nbpresent": {
     "id": "18787f0a-bbf2-4e90-954a-b77bff0a8701"
    },
    "slideshow": {
     "slide_type": "-"
    }
   },
   "outputs": [],
   "source": [
    "# image credit: Dave Sullivan\n",
    "sl.hide_code_in_slideshow()\n",
    "display(Image(\"images/Sleeping-Students.png\", width=450))"
   ]
  }
 ],
 "metadata": {
  "celltoolbar": "Slideshow",
  "kernelspec": {
   "display_name": "Python [conda root]",
   "language": "python",
   "name": "conda-root-py"
  },
  "language_info": {
   "codemirror_mode": {
    "name": "ipython",
    "version": 3
   },
   "file_extension": ".py",
   "mimetype": "text/x-python",
   "name": "python",
   "nbconvert_exporter": "python",
   "pygments_lexer": "ipython3",
   "version": "3.5.2"
  },
  "nbpresent": {
   "slides": {
    "43732e96-55a1-4b97-8a31-5fbfd512e57d": {
     "id": "43732e96-55a1-4b97-8a31-5fbfd512e57d",
     "prev": "c05fcb9a-0698-45aa-906c-61a5510f4a4a",
     "regions": {
      "1e186e39-304f-4541-9c18-b07da5379dde": {
       "attrs": {
        "height": 0.8,
        "width": 0.8,
        "x": 0.1,
        "y": 0.1
       },
       "content": {
        "cell": "5b03ecd3-62ce-4f7d-8e5a-d566e18944cb",
        "part": "whole"
       },
       "id": "1e186e39-304f-4541-9c18-b07da5379dde"
      }
     }
    },
    "61468400-3154-4a0e-b69c-fd79018bff98": {
     "id": "61468400-3154-4a0e-b69c-fd79018bff98",
     "prev": null,
     "regions": {
      "1106a908-2611-4daa-ad91-0a236483eddb": {
       "attrs": {
        "height": 0.8,
        "width": 0.8,
        "x": 0.1,
        "y": 0.1
       },
       "content": {
        "cell": "68f4aa08-60eb-488e-b645-9b441196587a",
        "part": "whole"
       },
       "id": "1106a908-2611-4daa-ad91-0a236483eddb"
      }
     }
    },
    "7dc09610-c152-4e63-ba4c-a5e869a0518c": {
     "id": "7dc09610-c152-4e63-ba4c-a5e869a0518c",
     "prev": "dbd79960-3de3-4699-9bc1-826cfd4a7e66",
     "regions": {
      "25d0d182-3857-44d9-86bd-2636b0c55a4e": {
       "attrs": {
        "height": 0.4,
        "width": 0.8,
        "x": 0.1,
        "y": 0.5
       },
       "content": {
        "cell": "18787f0a-bbf2-4e90-954a-b77bff0a8701",
        "part": "whole"
       },
       "id": "25d0d182-3857-44d9-86bd-2636b0c55a4e"
      },
      "63711226-bc50-40eb-9336-e5df329545f7": {
       "attrs": {
        "height": 0.8,
        "width": 0.8,
        "x": 0.1,
        "y": 0.1
       },
       "content": {
        "cell": "154b9c2f-09b6-489d-871f-fcef6ba7adb8",
        "part": "whole"
       },
       "id": "63711226-bc50-40eb-9336-e5df329545f7"
      },
      "d0e72fae-2456-4efd-8429-9715c2b13e29": {
       "attrs": {
        "height": 0.4,
        "width": 0.8,
        "x": 0.1,
        "y": 0.5
       },
       "content": {
        "cell": "50ee00ca-7bfe-4a0a-9abd-a6fae16b175e",
        "part": "whole"
       },
       "id": "d0e72fae-2456-4efd-8429-9715c2b13e29"
      }
     }
    },
    "a0df3672-254f-4409-aacf-b0fa47810293": {
     "id": "a0df3672-254f-4409-aacf-b0fa47810293",
     "prev": "cbe6ba84-a725-4d90-8c7b-8e0777ef298e",
     "regions": {
      "a6668bcc-e00b-4bbe-a062-8dd2ad428148": {
       "attrs": {
        "height": 0.8,
        "width": 0.8,
        "x": 0.1,
        "y": 0.1
       },
       "content": {
        "cell": "1a94b0e7-5c3b-4d13-9cd4-6193f3081158",
        "part": "whole"
       },
       "id": "a6668bcc-e00b-4bbe-a062-8dd2ad428148"
      },
      "cadce80c-4252-4c5f-b2f0-11f7c1613d30": {
       "attrs": {
        "height": 0.4,
        "width": 0.8,
        "x": 0.1,
        "y": 0.5
       },
       "content": {
        "cell": "09a87fc9-ff12-4549-a541-07cd62efbe9e",
        "part": "whole"
       },
       "id": "cadce80c-4252-4c5f-b2f0-11f7c1613d30"
      }
     }
    },
    "c05fcb9a-0698-45aa-906c-61a5510f4a4a": {
     "id": "c05fcb9a-0698-45aa-906c-61a5510f4a4a",
     "prev": "61468400-3154-4a0e-b69c-fd79018bff98",
     "regions": {
      "0639d19f-2202-44d8-b8c5-8787da3039b4": {
       "attrs": {
        "height": 0.4,
        "width": 0.8,
        "x": 0.1,
        "y": 0.5
       },
       "content": {
        "cell": "8eebc75e-6058-4e0b-bca6-4c24346adda3",
        "part": "whole"
       },
       "id": "0639d19f-2202-44d8-b8c5-8787da3039b4"
      },
      "ae110793-db2d-460d-8af0-6b994a90fd90": {
       "attrs": {
        "height": 0.4,
        "width": 0.8,
        "x": 0.1,
        "y": 0.5
       },
       "content": {
        "cell": "13f38580-fcad-4d49-a25a-78d75f53611a",
        "part": "whole"
       },
       "id": "ae110793-db2d-460d-8af0-6b994a90fd90"
      },
      "e4d1ef6c-2c91-4304-aa5d-2c4b5e358f0c": {
       "attrs": {
        "height": 0.4,
        "width": 0.8,
        "x": 0.1,
        "y": 0.5
       },
       "content": {
        "cell": "fef3f07d-041e-4bf3-bfcc-0806e33b5f3a",
        "part": "whole"
       },
       "id": "e4d1ef6c-2c91-4304-aa5d-2c4b5e358f0c"
      },
      "e58b14a6-5c9f-47c1-bbc1-b49704a8e3e1": {
       "attrs": {
        "height": 0.8,
        "width": 0.8,
        "x": 0.1,
        "y": 0.1
       },
       "content": {
        "cell": "507801f6-40d2-4b1e-a579-1c879ff6ff17",
        "part": "whole"
       },
       "id": "e58b14a6-5c9f-47c1-bbc1-b49704a8e3e1"
      }
     }
    },
    "cbe6ba84-a725-4d90-8c7b-8e0777ef298e": {
     "id": "cbe6ba84-a725-4d90-8c7b-8e0777ef298e",
     "prev": "43732e96-55a1-4b97-8a31-5fbfd512e57d",
     "regions": {
      "662533ed-8195-42b7-83c7-ba8bc7c9bba3": {
       "attrs": {
        "height": 0.4,
        "width": 0.8,
        "x": 0.1,
        "y": 0.5
       },
       "content": {
        "cell": "3f38704f-6a82-4bf5-8779-8ca2acd766a7",
        "part": "whole"
       },
       "id": "662533ed-8195-42b7-83c7-ba8bc7c9bba3"
      },
      "d31a9517-5b44-41dc-9088-76dfc1a8fbc0": {
       "attrs": {
        "height": 0.8,
        "width": 0.8,
        "x": 0.1,
        "y": 0.1
       },
       "content": {
        "cell": "54261d45-6713-42a3-9fb5-cd4272c2100d",
        "part": "whole"
       },
       "id": "d31a9517-5b44-41dc-9088-76dfc1a8fbc0"
      }
     }
    },
    "dbd79960-3de3-4699-9bc1-826cfd4a7e66": {
     "id": "dbd79960-3de3-4699-9bc1-826cfd4a7e66",
     "prev": "a0df3672-254f-4409-aacf-b0fa47810293",
     "regions": {
      "0739a598-bbd7-4220-9bc7-6a211a541e58": {
       "attrs": {
        "height": 0.4,
        "width": 0.8,
        "x": 0.1,
        "y": 0.5
       },
       "content": {
        "cell": "635e62db-0d40-4f98-8633-bac9d8bcc0e7",
        "part": "whole"
       },
       "id": "0739a598-bbd7-4220-9bc7-6a211a541e58"
      },
      "0825ec07-1c8c-441a-baab-6d73a663d315": {
       "attrs": {
        "height": 0.8,
        "width": 0.8,
        "x": 0.1,
        "y": 0.1
       },
       "content": {
        "cell": "243ab9ed-8ccf-4966-ac7f-d1fad2665979",
        "part": "whole"
       },
       "id": "0825ec07-1c8c-441a-baab-6d73a663d315"
      },
      "69bb9241-7f79-4a92-a96f-75bf90ee0b2f": {
       "attrs": {
        "height": 0.4,
        "width": 0.8,
        "x": 0.1,
        "y": 0.5
       },
       "content": {
        "cell": "15fabd78-8193-44d8-b4cf-12f13e50c5c2",
        "part": "whole"
       },
       "id": "69bb9241-7f79-4a92-a96f-75bf90ee0b2f"
      },
      "6b23bb52-1d02-4144-a537-87d63f743077": {
       "attrs": {
        "height": 0.4,
        "width": 0.8,
        "x": 0.1,
        "y": 0.5
       },
       "content": {
        "cell": "20d4d6ac-8430-4af1-a514-6639e0fea022",
        "part": "whole"
       },
       "id": "6b23bb52-1d02-4144-a537-87d63f743077"
      },
      "b2e3d2fb-122a-467b-ae99-5ae2592ed4fe": {
       "attrs": {
        "height": 0.4,
        "width": 0.8,
        "x": 0.1,
        "y": 0.5
       },
       "content": {
        "cell": "9e9d2047-e004-4e46-85cc-6dab1bb6f2ee",
        "part": "whole"
       },
       "id": "b2e3d2fb-122a-467b-ae99-5ae2592ed4fe"
      }
     }
    }
   },
   "themes": {}
  }
 },
 "nbformat": 4,
 "nbformat_minor": 0
}
