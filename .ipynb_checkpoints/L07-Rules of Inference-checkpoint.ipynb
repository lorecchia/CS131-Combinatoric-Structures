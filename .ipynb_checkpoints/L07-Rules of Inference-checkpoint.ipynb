{
 "cells": [
  {
   "cell_type": "markdown",
   "metadata": {
    "slideshow": {
     "slide_type": "slide"
    }
   },
   "source": [
    "# Lecture 7"
   ]
  },
  {
   "cell_type": "markdown",
   "metadata": {
    "slideshow": {
     "slide_type": "slide"
    }
   },
   "source": [
    "# Announcements\n",
    "\n",
    "- Midterm in class on Thursday: **you must read** the logistic info at\n",
    "   >https://lorecchia.github.io/CS131-Combinatoric-Structures/midterm1info.html\n",
    "    \n",
    "- Highlights:\n",
    "    - use your CS131 ID, not your name;\n",
    "    - bring pen, no pencil;\n",
    "    - no cheatsheet or index cards;  \n",
    "  \n",
    "- Practice midterm and solutions are on Piazza"
   ]
  },
  {
   "cell_type": "markdown",
   "metadata": {
    "slideshow": {
     "slide_type": "slide"
    }
   },
   "source": [
    "## Last Lecture: Equivalences Involving Quantifiers\n",
    "\n",
    "\n",
    "1) $$\\exists x, P(x) \\lor Q(x) \\;\\equiv\\; (\\exists x, P(x) ) \\lor (\\exists x, Q(x))$$   \n",
    "\n",
    "\n",
    "2) $$\\exists x, P(x) \\land Q(x) \\; \\equiv \\; (\\exists x, P(x)) \\land (\\exists x, Q(x)$$  \n",
    "\n",
    "\n",
    "3) $$\\forall x, P(x) \\lor Q(x) \\; \\equiv \\; (\\forall x, P(x)) \\lor (\\forall x, Q(x))$$  \n",
    "\n",
    "\n",
    "4) $$\\forall x, P(x) \\land Q(x) \\; \\equiv \\; (\\forall x, P(x) \\land (\\forall x, Q(x))$$  \n",
    " \n",
    "\n",
    "**Takeaway**: Negation turns $\\forall$ into $\\exists.$\n",
    "\n",
    "And **viceversa**! By double negation, letting $\\neg P(x) = Q(x):$\n",
    "$$\n",
    "\\neg ( \\exists x, Q(x))\\equiv \\forall x, \\neg Q(x).\n",
    "$$"
   ]
  },
  {
   "cell_type": "markdown",
   "metadata": {
    "slideshow": {
     "slide_type": "fragment"
    }
   },
   "source": [
    "We can use this to prove the distributive law for universal quantifiers over conjunctions."
   ]
  },
  {
   "cell_type": "markdown",
   "metadata": {
    "slideshow": {
     "slide_type": "slide"
    }
   },
   "source": [
    "## Lecture 6 Wrap-Up\n",
    "\n",
    "### Nested Quantifiers\n",
    "\n",
    "Nested quantifiers can be confusing, but are extremly useful in expressing interesting mathematical properties.\n",
    "\n",
    "For instance, can you figure out the meaning of the following statements over the universe $\\mathbb{R}$?  \n",
    "\n",
    "1) $$\\forall x \\forall y,\\qquad (x  + y = y + x)$$  \n",
    "\n",
    "2) $$\\forall x \\exists y,\\qquad  (x \\cdot y = 1) \\lor (x = 0)$$  \n",
    "\n",
    "3) $$\\forall x, (x < 0) \\implies \\neg(\\exists y, y^2 =x )$$"
   ]
  },
  {
   "cell_type": "markdown",
   "metadata": {
    "slideshow": {
     "slide_type": "fragment"
    }
   },
   "source": [
    "**Important Points:**\n",
    "\n",
    "- You **CANNOT** switch the order of quantifiers of different type.\n",
    "\n",
    "- You can merge/switch quantifiers of the same type."
   ]
  },
  {
   "cell_type": "markdown",
   "metadata": {
    "collapsed": true,
    "slideshow": {
     "slide_type": "slide"
    }
   },
   "source": [
    "## Order of Quantifiers (It Matters! A Lot!)\n",
    "\n",
    "Consider our example:\n",
    "$$\\forall x \\exists y,\\qquad  (x \\cdot y = 1) \\lor (x = 0)$$  \n",
    "\n",
    "This means that all reals except 0 have a multiplicative inverse, which is true.\n",
    "\n",
    "\n",
    "\n"
   ]
  },
  {
   "cell_type": "markdown",
   "metadata": {
    "slideshow": {
     "slide_type": "fragment"
    }
   },
   "source": [
    "What happens when we switch the order of quantifiers?\n",
    "$$\\exists y \\forall x,\\qquad  (x \\cdot y = 1) \\lor (x = 0)$$  \n"
   ]
  },
  {
   "cell_type": "markdown",
   "metadata": {
    "slideshow": {
     "slide_type": "fragment"
    }
   },
   "source": [
    "This means that there exists some fixed real $y$ such that, for all $x \\neq 0,$ $xy=1.$ This is clearly false.\n"
   ]
  },
  {
   "cell_type": "markdown",
   "metadata": {
    "slideshow": {
     "slide_type": "slide"
    }
   },
   "source": [
    "## Quantifiers of the Same Kind\n",
    "\n",
    "When the quantifiers are of the same type, their order does not matter:\n",
    "$$\n",
    "\\forall x \\forall y, P(x,y) \\equiv \\forall y \\forall x, P(x,y).\n",
    "$$\n",
    "In particular, this just means that for all pairs:\n",
    "$$\n",
    "\\forall (x,y) P(x,y)\n",
    "$$"
   ]
  },
  {
   "cell_type": "markdown",
   "metadata": {
    "slideshow": {
     "slide_type": "slide"
    }
   },
   "source": [
    "## Review Exercises on Quantifiers\n",
    "\n",
    "\n",
    "\n",
    "\n"
   ]
  },
  {
   "cell_type": "markdown",
   "metadata": {},
   "source": [
    "## Lecture 7: Rules of Inference\n",
    "\n",
    "\n"
   ]
  },
  {
   "cell_type": "markdown",
   "metadata": {},
   "source": [
    "\n",
    "Last formal topic in logic. From next week, we'll talk about how to use our understanding of logic to write correct and clear **mathematical proofs.**\n"
   ]
  }
 ],
 "metadata": {
  "anaconda-cloud": {},
  "celltoolbar": "Slideshow",
  "kernelspec": {
   "display_name": "Python [conda root]",
   "language": "python",
   "name": "conda-root-py"
  },
  "language_info": {
   "codemirror_mode": {
    "name": "ipython",
    "version": 3
   },
   "file_extension": ".py",
   "mimetype": "text/x-python",
   "name": "python",
   "nbconvert_exporter": "python",
   "pygments_lexer": "ipython3",
   "version": "3.5.2"
  }
 },
 "nbformat": 4,
 "nbformat_minor": 0
}
