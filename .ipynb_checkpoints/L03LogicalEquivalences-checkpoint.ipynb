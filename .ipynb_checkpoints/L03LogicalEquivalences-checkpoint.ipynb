{
 "cells": [
  {
   "cell_type": "markdown",
   "metadata": {},
   "source": [
    "# Logical Equivalences"
   ]
  },
  {
   "cell_type": "markdown",
   "metadata": {
    "slideshow": {
     "slide_type": "notes"
    }
   },
   "source": [
    "Lecture Summary:\n",
    "\n",
    "1. Recap of last lecture: propositions, basic operators, (not, and ,or), truth tables.\n",
    "2. Recap of last lecture: conditional statements: implication, equivalence \n",
    "filling in large truth tables, examples\n",
    "\n",
    "number of operatoprs+tautology\n",
    "\n",
    "reading: english vs implication,\n",
    "\n",
    "precedence of operators\n",
    "examples\n",
    "\n",
    "\n",
    "More examples please: on the board\n",
    "More questions: 4\n",
    "\n",
    "logical equivalences:\n",
    "converse, contrapositive, inverse etc.\n",
    "- show equivalences\n",
    "\n",
    "other equivalences\n",
    "list \n",
    "examples\n",
    "use, fasteer than truthtable\n",
    "example de morgan's\n",
    "\n",
    "Analogies with set theory\n",
    "propositional functions\n",
    "sets, truth sets\n",
    "\n",
    "Reading on sets: Rosen 2.1 and 2.2\n",
    "\n"
   ]
  },
  {
   "cell_type": "markdown",
   "metadata": {
    "slideshow": {
     "slide_type": "slide"
    }
   },
   "source": [
    "## Trick Question"
   ]
  },
  {
   "cell_type": "markdown",
   "metadata": {
    "slideshow": {
     "slide_type": "fragment"
    }
   },
   "source": [
    "How many T's are there in the truth table for the compound proposition:\n",
    "$$\n",
    "[(\\neg P) \\lor Q] \\iff [P \\implies Q] \n",
    "$$\n",
    "\n",
    "a. 0  \n",
    "b. 1  \n",
    "c. 2  \n",
    "d. 3  \n",
    "e. 4  "
   ]
  },
  {
   "cell_type": "markdown",
   "metadata": {
    "slideshow": {
     "slide_type": "subslide"
    }
   },
   "source": [
    "Solution on board\n"
   ]
  },
  {
   "cell_type": "markdown",
   "metadata": {
    "slideshow": {
     "slide_type": "notes"
    }
   },
   "source": [
    "Talk more about conditional statemetns and the way we talk about them:\n",
    " - translating from Engish \n",
    " “if p, then q”\n",
    "“if p, q”\n",
    "“p is sufficient for q”\n",
    "“q if p”\n",
    "“q when p”\n",
    "“a necessary condition for p is q” “q unless ¬p”\n",
    "“p implies q”\n",
    "“p only if q”\n",
    "“a sufficient condition for q is p” “q whenever p”\n",
    "“q is necessary for p”\n",
    "“q follows from p”\n",
    "\n",
    "- another way to understand implication\n",
    "\n",
    "\n",
    "Next, given P \\implies Q there are 3 other related possible ways to link them:\n",
    "Converse \n",
    "Inverse\n",
    "Contrapositive"
   ]
  },
  {
   "cell_type": "markdown",
   "metadata": {
    "slideshow": {
     "slide_type": "slide"
    }
   },
   "source": [
    "## Take a step back\n",
    "\n",
    "What we have done today ...\n",
    "\n",
    "- Introduced propositions: statements that are either True or False.\n",
    "- Introduced logical operators: these can be applied to propositions to form __new__ propositions.\n",
    "\n",
    "**Question**: what's the point?"
   ]
  },
  {
   "cell_type": "markdown",
   "metadata": {
    "slideshow": {
     "slide_type": "slide"
    }
   },
   "source": [
    "### Logic\n",
    "Understand (and compute) the possible truth values of compound propositions, some of which may be useful :)"
   ]
  },
  {
   "cell_type": "code",
   "execution_count": 11,
   "metadata": {
    "collapsed": false,
    "slideshow": {
     "slide_type": "fragment"
    }
   },
   "outputs": [
    {
     "data": {
      "text/html": [
       "<div id=\"5a90b35a9111d4ae\"></div>\n",
       "    <script type=\"text/javascript\">\n",
       "        $(function(){\n",
       "            var p = $(\"#5a90b35a9111d4ae\");\n",
       "            if (p.length==0) return;\n",
       "\n",
       "            while (!p.hasClass(\"cell\")) {\n",
       "                p=p.parent();\n",
       "\n",
       "                if (p.prop(\"tagName\") ==\"body\") return;\n",
       "            }\n",
       "            var cell = p;\n",
       "            cell.find(\".input\").addClass(\"hide-in-slideshow\")\n",
       "        });\n",
       "    </script>"
      ]
     },
     "metadata": {},
     "output_type": "display_data"
    },
    {
     "data": {
      "image/png": "[encoded data removed]",
      "text/plain": [
       "<IPython.core.display.Image object>"
      ]
     },
     "metadata": {
      "image/png": {
       "width": 350
      }
     },
     "output_type": "display_data"
    }
   ],
   "source": [
    "# image credit: Kenneth Rosen \"Discrete Mathematics and Its Applications 7th ed\"\n",
    "sl.hide_code_in_slideshow()\n",
    "display(Image(\"images/L02/circuit.png\", width=350))"
   ]
  },
  {
   "cell_type": "markdown",
   "metadata": {
    "slideshow": {
     "slide_type": "slide"
    }
   },
   "source": [
    "## Mathematical Proofs"
   ]
  },
  {
   "cell_type": "markdown",
   "metadata": {
    "slideshow": {
     "slide_type": "-"
    }
   },
   "source": [
    "In mathematical proofs (and logical deduction in general), we start with some assumptions (i.e., premises) and derive some theses (i.e., conclusions).\n",
    "\n",
    "A MATHEMATICAL PROOF:  \n",
    "__ASSUMPTION__ $P \\implies P_1 \\implies P_2 \\implies P_3 \\implies P_4 \\implies C$ __THESIS__\n",
    "\n",
    "To complete the proof, we must verify that all the implications are valid (i.e., true). That means, we must check that indeed:\n",
    "- $P \\implies P_1$,\n",
    "- $P_1 \\implies P_2$,\n",
    "- $P_2 \\implies P_3$,\n",
    "- $P_3 \\implies P_4$,\n",
    "...\n",
    "Each of these steps may require a mathematical proof itself.\n"
   ]
  },
  {
   "cell_type": "markdown",
   "metadata": {
    "slideshow": {
     "slide_type": "subslide"
    }
   },
   "source": [
    "Where does this stop?\n",
    "\n",
    "- Axioms"
   ]
  }
 ],
 "metadata": {
  "anaconda-cloud": {},
  "celltoolbar": "Slideshow",
  "kernelspec": {
   "display_name": "Python [conda root]",
   "language": "python",
   "name": "conda-root-py"
  },
  "language_info": {
   "codemirror_mode": {
    "name": "ipython",
    "version": 3
   },
   "file_extension": ".py",
   "mimetype": "text/x-python",
   "name": "python",
   "nbconvert_exporter": "python",
   "pygments_lexer": "ipython3",
   "version": "3.5.2"
  },
  "livereveal": {
   "scroll": "True"
  }
 },
 "nbformat": 4,
 "nbformat_minor": 0
}
