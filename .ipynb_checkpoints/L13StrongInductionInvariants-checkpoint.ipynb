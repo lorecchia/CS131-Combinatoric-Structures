{
 "cells": [
  {
   "cell_type": "markdown",
   "metadata": {
    "slideshow": {
     "slide_type": "slide"
    }
   },
   "source": [
    "# Lecture 13: Strong Induction and Invariants"
   ]
  },
  {
   "cell_type": "markdown",
   "metadata": {
    "slideshow": {
     "slide_type": "slide"
    }
   },
   "source": [
    "## Midterm 2 Special Office Hours and Updated Schedule\n",
    "\n",
    "* Midterm 2 is on Tuesday during class time. Specific [info on course webpage](https://lorecchia.github.io/CS131-Combinatoric-Structures/midterm2info.html).\n",
    "\n",
    "  \n",
    "* __Special Office Hours__. In the Undegraduate Lab, unless specified otherwise:  \n",
    "    * _Friday_: Jiadong  2-3.30pm; Hannah 3.30pm-5pm.  \n",
    "    * _Monday_: Lorenzo 12-1pm in Lorenzo's office, Sarah 2-4pm.  \n",
    "    * _Tuesday_: Hannah 11-12.30pm.  \n",
    "      \n",
    "      \n",
    "\n",
    "* There will be no office hours nor labs on Tuesday night or Wednesday after the midterm.  \n",
    "  \n",
    "  \n",
    "* Grades will be available by Thursday morning. If you are considering dropping the class based on your grade, you may come and pick up your exam on Thursday morning.\n"
   ]
  },
  {
   "cell_type": "markdown",
   "metadata": {
    "slideshow": {
     "slide_type": "slide"
    }
   },
   "source": [
    "## Recap of Previous Lectures\n",
    "\n",
    "* Principle of Mathematical Induction:\n",
    "\n",
    "![PMI](images/L13/pmi.png)\n"
   ]
  },
  {
   "cell_type": "markdown",
   "metadata": {
    "slideshow": {
     "slide_type": "fragment"
    }
   },
   "source": [
    "* Simple proofs by induction:\n",
    "    * Arithmetic and Geometric Series\n",
    "    * Simple Inequalities\n",
    "    "
   ]
  },
  {
   "cell_type": "markdown",
   "metadata": {
    "slideshow": {
     "slide_type": "fragment"
    }
   },
   "source": [
    "* More advanced proofs by induction:\n",
    "    * Geometric Proofs"
   ]
  },
  {
   "cell_type": "markdown",
   "metadata": {
    "slideshow": {
     "slide_type": "fragment"
    }
   },
   "source": [
    "* Equivalence between Principle of Mathematical Induction and Well-Ordering Principle"
   ]
  },
  {
   "cell_type": "markdown",
   "metadata": {
    "slideshow": {
     "slide_type": "slide"
    }
   },
   "source": [
    "## Importance of Choosing a Strong Inductive Hypothesis\n",
    "\n",
    "<!-- defineinductive hypothesis -->\n",
    "\n",
    "\n",
    "**Example**: Prove the following fundamental theorem.\n",
    "\n",
    "\\begin{theorem}\n",
    "Every integer greater than $1$ is a product of primes.\n",
    "\\end{theorem}\n"
   ]
  },
  {
   "cell_type": "markdown",
   "metadata": {
    "slideshow": {
     "slide_type": "fragment"
    }
   },
   "source": [
    "**Question**: What should we make the inductive hypothesis $P(n)$ be?"
   ]
  },
  {
   "cell_type": "markdown",
   "metadata": {
    "slideshow": {
     "slide_type": "fragment"
    }
   },
   "source": [
    "**Answer**: Natural choice for $n \\geq 2$:\n",
    "\n",
    "\\begin{itemize}\n",
    "\\item P(n)  : $n$ _is a product of primes_\n",
    "\n",
    "\\item Inductive step: $\\forall n, P(n) \\implies P(n+1)$\n",
    "\n",
    "<center>\n",
    "for all $n$, if $n$ is a product of primes then $n+1$ is a product of primes.\n",
    "</center>        \n",
    "\\end{itemize}"
   ]
  },
  {
   "cell_type": "markdown",
   "metadata": {
    "slideshow": {
     "slide_type": "fragment"
    }
   },
   "source": [
    "**Problem**: This seems hard. $P(n)$ tells us very little about $P(n+1)$."
   ]
  },
  {
   "cell_type": "markdown",
   "metadata": {
    "slideshow": {
     "slide_type": "fragment"
    }
   },
   "source": [
    "**Idea**: Change inductive hypothesis"
   ]
  },
  {
   "cell_type": "markdown",
   "metadata": {
    "slideshow": {
     "slide_type": "slide"
    }
   },
   "source": [
    "## Question: Change the Inductive Hypothesis\n",
    "\n",
    "\\begin{theorem}\n",
    "Every integer greater than $1$ is a product of primes.\n",
    "\\end{theorem}\n",
    "\n",
    "Let us use the same notation:  \n",
    " <center> $P(n)$: $n$ is a product of primes. </center>\n",
    "\n",
    "**Idea**: Pick a different inductive hypothesis $Q(n)$. "
   ]
  },
  {
   "cell_type": "markdown",
   "metadata": {
    "slideshow": {
     "slide_type": "fragment"
    }
   },
   "source": [
    "\n",
    "**Question**: Which inductive hypothesis $Q(n)$ is best suited to prove the theorem? \n",
    "\n",
    "\\begin{itemize}\n",
    "\\item for $n \\geq 3,$  \n",
    "$Q(n): P(n) \\land P(n-1)$\n",
    "\n",
    "\\item for $n \\geq 3,$    \n",
    "$Q(n): P(n) \\land P(2) \\land (n \\;\\textrm{odd} \\implies P\\left(\\frac{n+1}{2}\\right)$\n",
    "\\end{itemize}"
   ]
  },
  {
   "cell_type": "markdown",
   "metadata": {
    "slideshow": {
     "slide_type": "slide"
    }
   },
   "source": [
    "## Back to Work: Logical Arguments and Rules of Inferences\n"
   ]
  },
  {
   "cell_type": "markdown",
   "metadata": {
    "slideshow": {
     "slide_type": "-"
    }
   },
   "source": [
    "\n",
    "Last formal topic in logic. From next week, we'll talk about how to use our understanding of logic to write correct and clear **mathematical proofs.**\n",
    "\n",
    "In order to write correct mathematical proof, we need to understand what a **valid logical argument** is.\n",
    "\n",
    "**Definition**: A (logical) _argument_ is a sequence of statements, ending with a _conclusion_.\n",
    "  \n",
    "  \n",
    "**Definition**: An argument is _valid_ if its conclusion must logically follow from the prececeding statements, which are known as _premises_. \n"
   ]
  },
  {
   "cell_type": "markdown",
   "metadata": {
    "slideshow": {
     "slide_type": "fragment"
    }
   },
   "source": [
    "Equivalently, an argument is valid if and only if it is impossible for the premises to be true and the conclusion to be false, i.e., it is true that the premises __imply_ the conclusion.\n",
    "\n",
    "For propositions, we have:\n",
    "Premises: P_1, P_2, P_3,...., P_m\n",
    "Conclusion: Q\n",
    "This is a valid argument if and only if:\n",
    "$$\n",
    "P_1 \\land P_2 \\land \\ldots \\land P_m \\implies Q\n",
    "$$\n",
    "is a **tautology.**"
   ]
  },
  {
   "cell_type": "markdown",
   "metadata": {
    "slideshow": {
     "slide_type": "slide"
    }
   },
   "source": [
    "## Rules of Inference \n",
    "\n",
    "**What are they?**: Logica shortcuts: Simple rules that allow us to _generate a conclusion from a set of premises_ to form a valid argument.\n"
   ]
  },
  {
   "cell_type": "markdown",
   "metadata": {
    "slideshow": {
     "slide_type": "fragment"
    }
   },
   "source": [
    "### Two simple rules of inference:\n",
    "1) _Modus Ponens_\n",
    "\\begin{align*}\n",
    "P\\\\\n",
    "P \\implies Q\\\\\n",
    "\\therefore Q\n",
    "\\end{align*}"
   ]
  },
  {
   "cell_type": "markdown",
   "metadata": {
    "slideshow": {
     "slide_type": "fragment"
    }
   },
   "source": [
    "2) _Modus Tollens_\n",
    "\\begin{align*}\n",
    "\\neg Q\\\\\n",
    "P \\implies Q\\\\\n",
    "\\therefore \\neg P\n",
    "\\end{align*}"
   ]
  },
  {
   "cell_type": "markdown",
   "metadata": {
    "slideshow": {
     "slide_type": "slide"
    }
   },
   "source": [
    "## Rules of Inference\n",
    "\n",
    "![Rules of Inference](images/L07/rulesofinf.png)"
   ]
  },
  {
   "cell_type": "markdown",
   "metadata": {
    "slideshow": {
     "slide_type": "slide"
    }
   },
   "source": [
    "## Application of Rules of Inference\n",
    "\n",
    "**Premises you may know**:  \n",
    "1) No one, who is going to a party, ever fails to brush his or her hair.  \n",
    "$$ \\forall x, P(x) \\implies B(x)$$\n",
    "2) No one looks fascinating, if he or she is untidy.  \n",
    "$$ \\forall x, U(x) \\implies \\neg F(x)$$\n",
    "3) Everyone who has brushed his or her hair looks fascinating.  \n",
    "$$ \\forall x, B(x)\\implies F(x)$$\n",
    "4) A person is always untidy if he or she has no self-command.  \n",
    "$$\\forall x, N(x) \\implies U(x)$$\n"
   ]
  },
  {
   "cell_type": "markdown",
   "metadata": {
    "slideshow": {
     "slide_type": "fragment"
    }
   },
   "source": [
    "**Additional premise**:\n",
    "5) Everyone is going to a party.  \n",
    "$$\\forall x, P(x)$$"
   ]
  },
  {
   "cell_type": "markdown",
   "metadata": {
    "slideshow": {
     "slide_type": "slide"
    }
   },
   "source": [
    "## Building an argument:\n",
    "\n",
    "**Premises:**  Take $\\land$ of premises to form single premise\n",
    "$$\n",
    "\\left( \\forall x, P(x) \\implies B(x)\\right) \\; \\land \\; \\left(\\forall  x, U(x) \\implies \\neg F(x)\\right)  \n",
    "\\; \\land \\; \\left(\\forall x, B(x)\\implies F(x)\\right)   \n",
    "\\; \\land \\; \\left(\\forall x, N(x) \\implies U(x)\\right) \\; \\land \\; (\\forall x, P(x))\n",
    "$$"
   ]
  },
  {
   "cell_type": "markdown",
   "metadata": {
    "slideshow": {
     "slide_type": "fragment"
    }
   },
   "source": [
    "**Apply equivalences**: Take quantifier out  \n",
    "  \n",
    "$$\n",
    "\\forall x, [\\left( P(x) \\implies B(x)\\right) \\; \\land \\; \\left( U(x) \\implies \\neg F(x)\\right)  \n",
    "\\; \\land \\; \\left( B(x)\\implies F(x)\\right)   \n",
    "\\; \\land \\; \\left( N(x) \\implies U(x)\\right) \\; \\land \\; P(x)]\n",
    "$$"
   ]
  },
  {
   "cell_type": "markdown",
   "metadata": {
    "slideshow": {
     "slide_type": "fragment"
    }
   },
   "source": [
    "**Apply Rule of Inference**: _Simplification_\n",
    "\\begin{align*}\n",
    "P \\land Q\\\\\n",
    "\\therefore P\n",
    "\\end{align*}\n",
    "\n",
    "Simplification allows us to keep only two terms in the conjunction:\n",
    "$$\n",
    "\\forall x, [(P(x) \\implies  B(x)) \\; \\land \\; P(x)]\n",
    "$$"
   ]
  },
  {
   "cell_type": "markdown",
   "metadata": {
    "slideshow": {
     "slide_type": "fragment"
    }
   },
   "source": [
    "**Argument Over?**: We already finished the argument. We applied simplication to obtain: \n",
    "$$\n",
    "\\left( \\forall x, P(x) \\implies B(x)\\right) \\; \\land \\; \\left(\\forall  x, U(x) \\implies \\neg F(x)\\right)  \n",
    "\\; \\land \\; \\left(\\forall x, B(x)\\implies F(x)\\right)   \n",
    "\\; \\land \\; \\left(\\forall x, N(x) \\implies U(x)\\right) \\; \\land \\; (\\forall x, P(x))\\\\\n",
    "\\therefore \n",
    "\\forall x, [(P(x) \\implies  B(x)) \\; \\land \\; P(x)]\n",
    "$$"
   ]
  },
  {
   "cell_type": "markdown",
   "metadata": {
    "slideshow": {
     "slide_type": "fragment"
    }
   },
   "source": [
    "**Note:** This was not a very interesting argument. To get more interesting conclusions, we _keep the argument going by including our conclusion as a new premise_. "
   ]
  },
  {
   "cell_type": "markdown",
   "metadata": {
    "slideshow": {
     "slide_type": "slide"
    }
   },
   "source": [
    "## Applying Modus Ponens\n",
    "\n",
    "**Premise:** \n",
    "$$\n",
    "\\forall x, [(P(x) \\implies  B(x)) \\; \\land \\; P(x)]\n",
    "$$\n",
    "\n",
    "**Apply Modus Ponens**: \n",
    "\\begin{align*}\n",
    "P\\\\\n",
    "P \\implies B\\\\\n",
    "\\therefore B\n",
    "\\end{align*}\n",
    "\n",
    "**Conclusion**:\n",
    "$$\n",
    "\\forall x, B(x)\n",
    "$$"
   ]
  },
  {
   "cell_type": "markdown",
   "metadata": {
    "slideshow": {
     "slide_type": "slide"
    }
   },
   "source": [
    "## Keep the argument going\n",
    "\n",
    "We have a growing set of available premises we can use.  \n",
    "The original premises:\n",
    "1) \n",
    "$$ \\forall x, P(x) \\implies B(x)$$\n",
    "2)\n",
    "$$ \\forall x, U(x) \\implies \\neg F(x)$$\n",
    "3)\n",
    "$$ \\forall x, B(x)\\implies F(x)$$\n",
    "4)\n",
    "$$\\forall x, N(x) \\implies U(x)$$\n",
    "5)\n",
    "$$\n",
    "\\forall x, P(x)\n",
    "$$"
   ]
  },
  {
   "cell_type": "markdown",
   "metadata": {
    "slideshow": {
     "slide_type": "fragment"
    }
   },
   "source": [
    "And the conclusions to our previous arguments, which we can now use as premises:  \n",
    "6)\n",
    "$$\n",
    "\\forall x, [(P(x) \\implies  B(x)) \\; \\land \\; P(x)]\n",
    "$$\n",
    "7)\n",
    "$$\n",
    "\\forall x, B(x)\n",
    "$$"
   ]
  },
  {
   "cell_type": "markdown",
   "metadata": {
    "slideshow": {
     "slide_type": "fragment"
    }
   },
   "source": [
    "**Let's make another step:**\n",
    "\n",
    "**Premises:** 3 and 7\n",
    "$$ \\forall x, B(x) \\land  B(x) \\implies F(x)$$"
   ]
  },
  {
   "cell_type": "markdown",
   "metadata": {
    "slideshow": {
     "slide_type": "fragment"
    }
   },
   "source": [
    "**Conclusion**:\n",
    "$$\\therefore \\forall x, F(x)$$\n",
    "by modus ponens again."
   ]
  },
  {
   "cell_type": "markdown",
   "metadata": {},
   "source": [
    "## Question: Apply Modus Tollens\n",
    "\n",
    "**Recall**: _Modus Tollens_\n",
    "\\begin{align*}\n",
    "\\neg Q\\\\\n",
    "P \\implies Q\\\\\n",
    "\\therefore \\neg P\n",
    "\\end{align*}\n",
    "\n",
    "**Question**: To which of the following two premises should we apply modus tollens to conclude that\n",
    "$$\n",
    "\\forall x, \\neg U(x)?\n",
    "$$\n",
    "\n",
    "**Premises:** Click two  \n",
    "1) \n",
    "$$ \\forall x, P(x) \\implies B(x)$$\n",
    "2)\n",
    "$$ \\forall x, U(x) \\implies \\neg F(x)$$\n",
    "3)\n",
    "$$ \\forall x, B(x)\\implies F(x)$$\n",
    "4)\n",
    "$$\\forall x, N(x) \\implies U(x)$$\n",
    "5)\n",
    "$$\n",
    "\\forall x, P(x)\n",
    "$$\n",
    "6)\n",
    "$$\n",
    "\\forall x, B(x)\n",
    "$$\n",
    "7)\n",
    "$$\n",
    "\\forall x, F(x)\n",
    "$$\n"
   ]
  },
  {
   "cell_type": "markdown",
   "metadata": {
    "slideshow": {
     "slide_type": "subslide"
    }
   },
   "source": [
    "**Answer**: 2 and 7."
   ]
  },
  {
   "cell_type": "markdown",
   "metadata": {
    "slideshow": {
     "slide_type": "slide"
    }
   },
   "source": [
    "## Other Rules of Inference\n",
    "\n",
    "![Rules of Inference](images/L07/rulesofinf.png)"
   ]
  },
  {
   "cell_type": "markdown",
   "metadata": {
    "slideshow": {
     "slide_type": "slide"
    }
   },
   "source": [
    "## Hypothetical Syllogism\n",
    "\n",
    "**Premises:**\n",
    "$$\n",
    "P \\implies Q  \\\\\n",
    "Q \\implies R \\\\\n",
    "$$\n",
    "**Conclusion**: \n",
    "$$\n",
    "\\therefore P \\implies R\n",
    "$$\n"
   ]
  },
  {
   "cell_type": "markdown",
   "metadata": {
    "slideshow": {
     "slide_type": "slide"
    }
   },
   "source": [
    "## Application of Hypothetical Syllogism\n",
    "\n",
    "Hypothetical syllogism is useful in cases when we have a number of implications:\n",
    "1) \n",
    "$$ \\forall x, P(x) \\implies B(x)$$\n",
    "2)\n",
    "$$ \\forall x, U(x) \\implies \\neg F(x) \\equiv \\forall x, F(X) \\implies \\neg U(x)$$ by contrapositive\n",
    "3)\n",
    "$$ \\forall x, B(x)\\implies F(x)$$\n",
    "4)\n",
    "$$\\forall x, N(x) \\implies U(x) \\equiv \\forall x, \\neg U(x)  \\implies \\neg N(x)$$\n",
    "\n"
   ]
  },
  {
   "cell_type": "markdown",
   "metadata": {
    "slideshow": {
     "slide_type": "fragment"
    }
   },
   "source": [
    "By repeatedly applying hypothetical conclusions, we can get the following conclusions:\n",
    "$$\n",
    "\\therefore P(x) \\implies F(x)\\\\\n",
    "\\therefore P(x) \\implies \\neg U(x)\\\\\n",
    "\\therefore P(x) \\implies \\neg N(x)\\\\\n",
    "$$"
   ]
  },
  {
   "cell_type": "markdown",
   "metadata": {
    "slideshow": {
     "slide_type": "slide"
    }
   },
   "source": [
    "## Rules of Inference involving Quantified Statements\n",
    "\n",
    "![Rules of Inference with Quantifiers](images/L07/qrules.png)"
   ]
  },
  {
   "cell_type": "markdown",
   "metadata": {
    "slideshow": {
     "slide_type": "slide"
    }
   },
   "source": [
    "## Example\n",
    "\n",
    "Recall our usual premises:\n",
    "\n",
    "1) \n",
    "$$ \\forall x, P(x) \\implies B(x)$$  \n",
    "2)\n",
    "$$\\forall x, F(x) \\implies \\neg U(x)$$   \n",
    "3)\n",
    "$$ \\forall x, B(x)\\implies F(x)$$  \n",
    "4)\n",
    "$$ \\forall x, \\neg U(x)  \\implies \\neg N(x)$$  "
   ]
  },
  {
   "cell_type": "markdown",
   "metadata": {
    "slideshow": {
     "slide_type": "fragment"
    }
   },
   "source": [
    "Suppose we have the additional premise:\n",
    "$$\n",
    "P(\\mbox{John})\n",
    "$$\n",
    "stating that John is going to a party.\n"
   ]
  },
  {
   "cell_type": "markdown",
   "metadata": {},
   "source": [
    "Using **universal instantiation**, we can turn our premises into the conclusions:\n",
    "\n",
    "1) \n",
    "$$  P(\\mbox{John}) \\implies B(\\mbox{John})$$  \n",
    "2)\n",
    "$$F(\\mbox{John}) \\implies \\neg U(\\mbox{John})$$   \n",
    "3)\n",
    "$$  B(\\mbox{John})\\implies F(\\mbox{John})$$  \n",
    "4)\n",
    "$$ \\neg U(\\mbox{John})  \\implies \\neg N(\\mbox{John})$$  "
   ]
  },
  {
   "cell_type": "markdown",
   "metadata": {},
   "source": [
    "Now, by using hypothetical syllogism, we conclude that:\n",
    "$$\n",
    "\\therefore P(\\mbox{John}) \\implies \\neg N(\\mbox{John})\n",
    "$$\n",
    "  \n",
    "Finally, using $P(\\mbox{John})$ together with the previous statement and applying modus ponens, we have:\n",
    "$$\n",
    "\\therefore \\neg N(\\mbox{John})\n",
    "$$"
   ]
  },
  {
   "cell_type": "markdown",
   "metadata": {
    "slideshow": {
     "slide_type": "slide"
    }
   },
   "source": [
    "## Introduction to Proofs\n",
    "\n",
    "**Definition**: A proof is a valid argument that establishes the truth of a statement.\n",
    "\n",
    "**Informal Proofs**: In math, CS,  and other disciplines, we generally use __informal proofs__.  \n",
    "    1) More than one rule of inference are often used in a step.   \n",
    "    2) Steps may be skipped.  \n",
    "    3) The rules of inference used are not explicitly stated. \n",
    "    4) Easier for to understand and to explain to people. \n",
    "    5) But it is also easier to introduce errors. \n",
    "\n",
    "**Importance**: Proofs have many practical applications:\n",
    "    1) verification that computer programs and algorithms are correct \n",
    "    2) establishing that operating systems are secure \n",
    "    3) enabling programs to make inferences in artificial intelligence \n",
    "    4) showing properties of algorithms\n",
    "\n"
   ]
  },
  {
   "cell_type": "markdown",
   "metadata": {
    "slideshow": {
     "slide_type": "slide"
    }
   },
   "source": [
    "## Definitions\n",
    "\n",
    "* A **theorem** is a statement that can be proved to be true starting from the premises:  \n",
    "    1) definitions  \n",
    "    2) other theorems  \n",
    "    3) **axioms** (statements which are given as true, aka postulates)   \n",
    "   \n",
    "* A **lemma** is a ‘helping theorem’ or a result which is needed to prove a theorem.  \n",
    "  \n",
    "* A **corollary**  is a result which follows directly from a theorem.\n",
    "\n",
    "\n"
   ]
  },
  {
   "cell_type": "markdown",
   "metadata": {
    "slideshow": {
     "slide_type": "slide"
    }
   },
   "source": [
    "## Example of an informal proof\n",
    "\n",
    "**Theorem:** If $x \\geq y$, where $x$ and $y$ are positive real numbers, then $x^2 \\geq y^2$.\n"
   ]
  },
  {
   "cell_type": "markdown",
   "metadata": {
    "slideshow": {
     "slide_type": "slide"
    }
   },
   "source": [
    "## What are the axioms?\n",
    "\n",
    "Peano-Dedekind axioms from Wikipedia:\n",
    "https://en.wikipedia.org/wiki/Peano_axioms\n",
    "\n",
    "Zermelo-Fraenkel axioms from Wikipedia:\n",
    "https://en.wikipedia.org/wiki/Zermelo%E2%80%93Fraenkel_set_theory"
   ]
  },
  {
   "cell_type": "markdown",
   "metadata": {
    "slideshow": {
     "slide_type": "slide"
    }
   },
   "source": [
    "## Goedel's Incompleteness Theorem\n",
    "\n",
    "![Incompleteness](images/L07/godelincompleteness.jpg)"
   ]
  },
  {
   "cell_type": "markdown",
   "metadata": {
    "slideshow": {
     "slide_type": "fragment"
    }
   },
   "source": [
    "**IDEA**: It is possible to write a statement P whose meaning is:   \n",
    " >   P is not provable."
   ]
  },
  {
   "cell_type": "markdown",
   "metadata": {
    "slideshow": {
     "slide_type": "fragment"
    }
   },
   "source": [
    "What happens if P is true? If P is false?"
   ]
  },
  {
   "cell_type": "code",
   "execution_count": null,
   "metadata": {
    "collapsed": true
   },
   "outputs": [],
   "source": []
  }
 ],
 "metadata": {
  "anaconda-cloud": {},
  "celltoolbar": "Slideshow",
  "kernelspec": {
   "display_name": "Python [conda root]",
   "language": "python",
   "name": "conda-root-py"
  },
  "language_info": {
   "codemirror_mode": {
    "name": "ipython",
    "version": 3
   },
   "file_extension": ".py",
   "mimetype": "text/x-python",
   "name": "python",
   "nbconvert_exporter": "python",
   "pygments_lexer": "ipython3",
   "version": "3.5.2"
  },
  "latex_envs": {
   "LaTeX_envs_menu_present": true,
   "autocomplete": true,
   "bibliofile": "biblio.bib",
   "cite_by": "apalike",
   "current_citInitial": 1,
   "eqLabelWithNumbers": true,
   "eqNumInitial": 1,
   "hotkeys": {
    "equation": "Ctrl-E",
    "itemize": "Ctrl-I"
   },
   "labels_anchors": false,
   "latex_user_defs": false,
   "report_style_numbering": false,
   "user_envs_cfg": false
  }
 },
 "nbformat": 4,
 "nbformat_minor": 0
}
