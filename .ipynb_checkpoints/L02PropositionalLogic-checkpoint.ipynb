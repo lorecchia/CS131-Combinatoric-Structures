{
 "cells": [
  {
   "cell_type": "raw",
   "metadata": {
    "internals": {
     "slide_type": "subslide"
    },
    "slideshow": {
     "slide_type": "slide"
    }
   },
   "source": [
    "# Propositional Logic"
   ]
  },
  {
   "cell_type": "code",
   "execution_count": 1,
   "metadata": {
    "collapsed": false,
    "internals": {},
    "scrolled": false,
    "slideshow": {
     "slide_type": "skip"
    }
   },
   "outputs": [],
   "source": [
    "%matplotlib inline\n",
    "%config InlineBackend.figure_format='retina'\n",
    "# import libraries\n",
    "import numpy as np\n",
    "import matplotlib as mp\n",
    "import pandas as pd\n",
    "import matplotlib.pyplot as plt\n",
    "import laUtilities as ut\n",
    "import slideUtilities as sl\n",
    "import demoUtilities as dm\n",
    "from IPython.display import Image\n",
    "from IPython.display import display_html\n",
    "from IPython.display import display\n",
    "from IPython.display import Math\n",
    "from IPython.display import Latex\n",
    "#reload(dm)\n",
    "#reload(ut)\n",
    "#print('')"
   ]
  },
  {
   "cell_type": "code",
   "execution_count": 3,
   "metadata": {
    "collapsed": false,
    "internals": {},
    "slideshow": {
     "slide_type": "skip"
    }
   },
   "outputs": [
    {
     "data": {
      "text/html": [
       "<style>\n",
       " .container.slides .celltoolbar, .container.slides .hide-in-slideshow {\n",
       "    display: None ! important;\n",
       "}\n",
       "</style>"
      ],
      "text/plain": [
       "<IPython.core.display.HTML object>"
      ]
     },
     "metadata": {},
     "output_type": "display_data"
    }
   ],
   "source": [
    "%%html\n",
    "<style>\n",
    " .container.slides .celltoolbar, .container.slides .hide-in-slideshow {\n",
    "    display: None ! important;\n",
    "}\n",
    "</style>"
   ]
  },
  {
   "cell_type": "markdown",
   "metadata": {
    "slideshow": {
     "slide_type": "skip"
    }
   },
   "source": [
    "Inspired from the Introduction of \"How To Prove It\" by Daniel J. Velleman.\n",
    "Question 1: modification of Exercise 7a) in chapter 1.1 of HTPI"
   ]
  },
  {
   "cell_type": "markdown",
   "metadata": {},
   "source": [
    "In our first meeting, we talked briefly about puzzles. Let's start with one today."
   ]
  },
  {
   "cell_type": "markdown",
   "metadata": {
    "slideshow": {
     "slide_type": "fragment"
    }
   },
   "source": [
    "**Question 1**: Jane and Pete won't both win the math prize. Pete will win the math prize or the chemistry prize. If Jane does not win the math prize, Pete will win the chemistry prize. Based on these _premises_, which one of the following _conclusions_ is true?\n",
    "\n",
    "a. Neither Jane nor Pete will win the chemistry prize.\n",
    "b. Pete will win the chemistry prize.\n",
    "c. Jane and Pete will both win the chemistry prize.\n",
    "d. Jane will win the math prize."
   ]
  },
  {
   "cell_type": "code",
   "execution_count": null,
   "metadata": {
    "collapsed": true,
    "slideshow": {
     "slide_type": "skip"
    }
   },
   "outputs": [],
   "source": [
    "%%% Correct answer is b. Pete will win the chemistry prize\n",
    "    "
   ]
  },
  {
   "cell_type": "markdown",
   "metadata": {
    "slideshow": {
     "slide_type": "subslide"
    }
   },
   "source": [
    "**Answer**: b.   \n",
    "\n",
    "- PREMISE 1: Jane and Pete won't both win the math prize.  \n",
    "- PREMISE 2: Pete will win the math prize or the chemistry prize.\n",
    "- PREMISE 3: If Jane does not win the math prize, Pete will win the chemistry prize.\n",
    "\n",
    "__ARGUMENT:__\n",
    "- If Jane does win the math prize, Peter won't by Premise 1. \n",
    "    -Then, By Premise 2, Pete will win the chemistry prize.\n",
    "- Else, if Jane does not win the math prize, by Premise 3, Pete will win the chemistry prize.\n",
    "- Hence, Pete will win the chemistry prize."
   ]
  },
  {
   "cell_type": "markdown",
   "metadata": {
    "slideshow": {
     "slide_type": "fragment"
    }
   },
   "source": [
    "_PROPOSITIONAL LOGIC_: How do we formally reason about problems like this?\n"
   ]
  },
  {
   "cell_type": "markdown",
   "metadata": {
    "slideshow": {
     "slide_type": "slide"
    }
   },
   "source": [
    "## Propositions\n",
    "\n",
    "Notice that the context of our problem (Jane, Pete, prizes, etc.) did not really matter to the solution. What mattered was the logical connections between the different statements. Indeed, we could replace each statement with a __variable__, while preserving the struture of the problem:\n",
    "\n",
    "- variable $P$: Pete will win the math prize.\n",
    "- variable $Q$: Pete will win the chemistry prize.\n",
    "- variable $R$: Jane will win the math prize."
   ]
  },
  {
   "cell_type": "markdown",
   "metadata": {
    "slideshow": {
     "slide_type": "fragment"
    }
   },
   "source": [
    "Then, the premises can be thought of as:\n",
    "\n",
    "Premise 1: Jane and Pete won't both win the math prize.  \n",
    "               <center> NOT( $R$ AND $P$)</center>\n",
    "                \n",
    "               \n",
    "Premise 2: Pete will win the math prize or the chemistry prize.  \n",
    "                <center> $P$ OR $Q$ </center> \n",
    "Premise 3: If Jane does not win the math prize, Pete will win the chemistry prize.  \n",
    "                <center> (NOT $R$ ) IMPLIES $Q$ </center>"
   ]
  },
  {
   "cell_type": "markdown",
   "metadata": {
    "slideshow": {
     "slide_type": "fragment"
    }
   },
   "source": [
    "Let's play around and try a few values.\n",
    "\n",
    "| $n$       | Is $n$ prime?   | $2^n - {1}$ | Is $2^n - 1$ prime?   |\n",
    "| --------- | --------------- | ----------- | --------------------- |\n",
    "| $2$         |      **yes**      |  3          |         ** yes **          |\n",
    "| $3$ | **yes ** | 7 | **yes** |\n",
    "| $4$ | **no**  | 15 | **no** |\n",
    "| $5$ | **yes** | 31 | **yes** | \n",
    "| $6$ | **no**  | 63 | **no** |\n",
    "| $7$ | ** yes** | 127 | **yes** |\n",
    "| $8$ | **no** | 255 | **no** |\n",
    "| $9$ | **no** | 511 | **no** |\n",
    "| $10$ | **no** | 1023 | **no** |\n"
   ]
  },
  {
   "cell_type": "markdown",
   "metadata": {
    "slideshow": {
     "slide_type": "fragment"
    }
   },
   "source": [
    "So far so good, right?"
   ]
  },
  {
   "cell_type": "markdown",
   "metadata": {
    "slideshow": {
     "slide_type": "fragment"
    }
   },
   "source": [
    "- We haven't proved or disproved any of the conjectures.\n",
    "- We only know that both are true for $n \\leq 10$."
   ]
  },
  {
   "cell_type": "markdown",
   "metadata": {
    "slideshow": {
     "slide_type": "slide"
    }
   },
   "source": [
    "Let's go one more.\n",
    "\n",
    "| $n$       | Is $n$ prime?   | $2^n - {1}$ | Is $2^n - 1$ prime?   |\n",
    "| --------- | --------------- | ----------- | --------------------- |\n",
    "| 11        |     **yes**     |     2047    |           ??          |"
   ]
  },
  {
   "cell_type": "markdown",
   "metadata": {
    "slideshow": {
     "slide_type": "fragment"
    }
   },
   "source": [
    "No, 2047 is not prime (i.e., it is composite):\n",
    "    $$\n",
    "    2047 = 23\\cdot 89\n",
    "    $$"
   ]
  },
  {
   "cell_type": "markdown",
   "metadata": {
    "slideshow": {
     "slide_type": "fragment"
    }
   },
   "source": [
    "- Question: Which conjecture have we disproved?"
   ]
  },
  {
   "cell_type": "markdown",
   "metadata": {
    "slideshow": {
     "slide_type": "fragment"
    }
   },
   "source": [
    "Whenever we disprove something, we also prove something else. For instance, we have the following _theorem_:\n",
    "** Theorem 1 ** Conjecture 1 is false.\n",
    "\n",
    "**Proof**: \n",
    "* Take $n$ = 11. \n",
    "    - We have $n > 1$ and $n$ is prime.\n",
    "* However, $2^n - 1 = 2047$ is not prime, \n",
    "    - because $2047 = 23 \\cdot 89$."
   ]
  },
  {
   "cell_type": "markdown",
   "metadata": {
    "slideshow": {
     "slide_type": "fragment"
    }
   },
   "source": [
    "- This very simple proof is a proof by _counterexample_. \n",
    "- It just required exhibiting a number ($n = 11$) for which Conjecture 1 was false."
   ]
  },
  {
   "cell_type": "markdown",
   "metadata": {
    "slideshow": {
     "slide_type": "slide"
    }
   },
   "source": [
    "## A More Interesting Proof"
   ]
  },
  {
   "cell_type": "markdown",
   "metadata": {
    "slideshow": {
     "slide_type": "-"
    }
   },
   "source": [
    "**Conjecture 2**:  Suppose $n$ is an integer larger than $1$ and $n$ is **not** prime.  Then, $2^n - 1$ is **not** prime.\n",
    "\n",
    "- We still do not know much about the truth of Conjecture 2. \n",
    "- I will now show you a proof that Conjecture 2 is true.\n",
    "- This will require more effort, as I need to show that something is true _for all_ values of $n$."
   ]
  },
  {
   "cell_type": "markdown",
   "metadata": {
    "slideshow": {
     "slide_type": "fragment"
    }
   },
   "source": [
    "**Proof of Conjecture 2**:\n",
    "* Since $n$ is not prime, there are positive integers $a,b \\geq 1$ such that\n",
    "$$ n = a \\cdot b $$.\n",
    "\n",
    "* Define:\n",
    "    $$ x = 2^b - 1$$\n",
    "    \n",
    "    $$ y = 1+ 2^b + 2^{2b} + \\cdots + 2^{(a-1)b}$$\n",
    "\n",
    "* Then:\n",
    "$$ xy = (2^b - 1) \\cdot (1+ 2^b + 2^{2b} + \\cdots + 2^{(a-1)b}) $$"
   ]
  },
  {
   "cell_type": "markdown",
   "metadata": {
    "slideshow": {
     "slide_type": "fragment"
    }
   },
   "source": [
    "$$ = [2^b + 2^{2b} + 2^{3b} + \\cdots + 2^{ab}] - [1+ 2^b + 2^{2b} + \\cdots + 2^{(a-1)b}]$$"
   ]
  },
  {
   "cell_type": "markdown",
   "metadata": {
    "slideshow": {
     "slide_type": "fragment"
    }
   },
   "source": [
    "$$ = 2^{ab} - 1 = 2^n - 1$$.\n",
    "\n",
    "Hence, $2^n - 1$ is not prime as $2^{n} - 1 = xy$. \n",
    "\n"
   ]
  },
  {
   "cell_type": "markdown",
   "metadata": {
    "slideshow": {
     "slide_type": "fragment"
    }
   },
   "source": [
    "**GOALS FOR THE FIRST PART OF THIS CLASS**:\n",
    "1. Learn to understand proofs\n",
    "2. Learn to write proofs\n",
    "3. Learn to **FIND** proofs"
   ]
  }
 ],
 "metadata": {
  "anaconda-cloud": {},
  "celltoolbar": "Slideshow",
  "kernelspec": {
   "display_name": "Python [conda root]",
   "language": "python",
   "name": "conda-root-py"
  },
  "language_info": {
   "codemirror_mode": {
    "name": "ipython",
    "version": 3
   },
   "file_extension": ".py",
   "mimetype": "text/x-python",
   "name": "python",
   "nbconvert_exporter": "python",
   "pygments_lexer": "ipython3",
   "version": "3.5.2"
  },
  "livereveal": {
   "scroll": "True"
  }
 },
 "nbformat": 4,
 "nbformat_minor": 0
}
