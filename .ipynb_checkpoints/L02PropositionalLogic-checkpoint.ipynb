{
 "cells": [
  {
   "cell_type": "raw",
   "metadata": {
    "internals": {
     "slide_type": "subslide"
    },
    "slideshow": {
     "slide_type": "slide"
    }
   },
   "source": [
    "# Propositional Logic"
   ]
  },
  {
   "cell_type": "code",
   "execution_count": 2,
   "metadata": {
    "collapsed": false,
    "internals": {},
    "scrolled": false,
    "slideshow": {
     "slide_type": "skip"
    }
   },
   "outputs": [],
   "source": [
    "%matplotlib inline\n",
    "%config InlineBackend.figure_format='retina'\n",
    "# import libraries\n",
    "import numpy as np\n",
    "import matplotlib as mp\n",
    "import pandas as pd\n",
    "import matplotlib.pyplot as plt\n",
    "import laUtilities as ut\n",
    "import slideUtilities as sl\n",
    "import demoUtilities as dm\n",
    "import prettytable\n",
    "from IPython.display import Image\n",
    "from IPython.display import display_html\n",
    "from IPython.display import display\n",
    "from IPython.display import Math\n",
    "from IPython.display import Latex\n",
    "from truths import Truths\n",
    "#reload(dm)\n",
    "#reload(ut)\n",
    "#print('')"
   ]
  },
  {
   "cell_type": "code",
   "execution_count": 3,
   "metadata": {
    "collapsed": false,
    "internals": {},
    "slideshow": {
     "slide_type": "skip"
    }
   },
   "outputs": [
    {
     "data": {
      "text/html": [
       "<style>\n",
       " .container.slides .celltoolbar, .container.slides .hide-in-slideshow {\n",
       "    display: None ! important;\n",
       "}\n",
       "</style>"
      ],
      "text/plain": [
       "<IPython.core.display.HTML object>"
      ]
     },
     "metadata": {},
     "output_type": "display_data"
    }
   ],
   "source": [
    "%%html\n",
    "<style>\n",
    " .container.slides .celltoolbar, .container.slides .hide-in-slideshow {\n",
    "    display: None ! important;\n",
    "}\n",
    "</style>"
   ]
  },
  {
   "cell_type": "markdown",
   "metadata": {
    "slideshow": {
     "slide_type": "skip"
    }
   },
   "source": [
    "Inspired from the Introduction of \"How To Prove It\" by Daniel J. Velleman.\n",
    "Question 1: modification of Exercise 7a) in chapter 1.1 of HTPI"
   ]
  },
  {
   "cell_type": "markdown",
   "metadata": {},
   "source": [
    "In our first meeting, we talked briefly about puzzles. Let's start with one today."
   ]
  },
  {
   "cell_type": "markdown",
   "metadata": {
    "slideshow": {
     "slide_type": "fragment"
    }
   },
   "source": [
    "**Question 1**: Jane and Pete won't both win the math prize. Pete will win the math prize or the chemistry prize. If Jane does not win the math prize, Pete will win the chemistry prize. Based on these _premises_, which one of the following _conclusions_ is true?\n",
    "\n",
    "a. Neither Jane nor Pete will win the chemistry prize.\n",
    "b. Pete will win the chemistry prize.\n",
    "c. Jane and Pete will both win the chemistry prize.\n",
    "d. Jane will win the math prize."
   ]
  },
  {
   "cell_type": "code",
   "execution_count": null,
   "metadata": {
    "collapsed": true,
    "slideshow": {
     "slide_type": "skip"
    }
   },
   "outputs": [],
   "source": [
    "%%% Correct answer is b. Pete will win the chemistry prize\n",
    "    "
   ]
  },
  {
   "cell_type": "markdown",
   "metadata": {
    "slideshow": {
     "slide_type": "subslide"
    }
   },
   "source": [
    "**Answer**: b.   \n",
    "\n",
    "- PREMISE 1: Jane and Pete won't both win the math prize.  \n",
    "- PREMISE 2: Pete will win the math prize or the chemistry prize.\n",
    "- PREMISE 3: If Jane does not win the math prize, Pete will win the chemistry prize.\n",
    "\n",
    "__ARGUMENT:__\n",
    "- If Jane does win the math prize, Peter won't by Premise 1. \n",
    "    -Then, By Premise 2, Pete will win the chemistry prize.\n",
    "- Else, if Jane does not win the math prize, by Premise 3, Pete will win the chemistry prize.\n",
    "- Hence, Pete will win the chemistry prize."
   ]
  },
  {
   "cell_type": "markdown",
   "metadata": {
    "slideshow": {
     "slide_type": "fragment"
    }
   },
   "source": [
    "_PROPOSITIONAL LOGIC_: How do we formally reason about problems like this?\n"
   ]
  },
  {
   "cell_type": "markdown",
   "metadata": {
    "slideshow": {
     "slide_type": "slide"
    }
   },
   "source": [
    "## Propositional Logic\n",
    "\n",
    "Notice that the context of our problem (Jane, Pete, prizes, etc.) did not really matter to the solution. What mattered was the logical connections between the different statements. Indeed, we could replace each statement with a __variable__, while preserving the struture of the problem:\n",
    "\n",
    "- variable $P$: Pete will win the math prize.\n",
    "- variable $Q$: Pete will win the chemistry prize.\n",
    "- variable $R$: Jane will win the math prize.\n",
    "\n"
   ]
  },
  {
   "cell_type": "markdown",
   "metadata": {
    "slideshow": {
     "slide_type": "fragment"
    }
   },
   "source": [
    "**NOTE**: A _proposition_ is a declarative sentence that is either _true_(T) or _false_(F), but not both.\n",
    "New propositions, called _compound propositions_, are formed from existing propositions using _logical operators_.\n",
    "\n",
    "In our case, $P,Q$ and $R$ are _propositional variables_, each representing the corresponding proposition on the right."
   ]
  },
  {
   "cell_type": "markdown",
   "metadata": {
    "slideshow": {
     "slide_type": "fragment"
    }
   },
   "source": [
    "The premises of our puzzle are propositions formed by combining the propositions $P,Q$ and $R$ using _logical operators_ (aka logical connectives). Next, we will introduce some of the basic such operators"
   ]
  },
  {
   "cell_type": "markdown",
   "metadata": {
    "slideshow": {
     "slide_type": "slide"
    }
   },
   "source": [
    "## Common Logical Operators\n",
    "\n",
    "The most common logical operators are _negation_(NOT), _disjunction_(OR), _conjunction_(AND) and _implication_(IMPLIES). They are denoted as follows:\n",
    "\n",
    "Symbol | Meaning | Arity  \n",
    "-------|---------|---------\n",
    "$\\neg$ | NOT | unary\n",
    "$\\lor$ | OR  | binary\n",
    "$\\land$ | AND | binary\n"
   ]
  },
  {
   "cell_type": "markdown",
   "metadata": {
    "slideshow": {
     "slide_type": "slide"
    }
   },
   "source": [
    "\n",
    "##  Negation (NOT)\n",
    "\n",
    "**Notation:** Given a proposition $P$, the negation of $P$ is denoted $\\neg P$.\n",
    "\n",
    "To properly define the negation operator, we need to define the truth value of $\\neg P$ as a function of the truth value of $P$. For this purpose, we use a **TRUTH TABLE**:"
   ]
  },
  {
   "cell_type": "code",
   "execution_count": 5,
   "metadata": {
    "collapsed": false,
    "slideshow": {
     "slide_type": "fragment"
    }
   },
   "outputs": [
    {
     "data": {
      "text/html": [
       "<div id=\"69e908618dae7e80\"></div>\n",
       "    <script type=\"text/javascript\">\n",
       "        $(function(){\n",
       "            var p = $(\"#69e908618dae7e80\");\n",
       "            if (p.length==0) return;\n",
       "\n",
       "            while (!p.hasClass(\"cell\")) {\n",
       "                p=p.parent();\n",
       "\n",
       "                if (p.prop(\"tagName\") ==\"body\") return;\n",
       "            }\n",
       "            var cell = p;\n",
       "            cell.find(\".input\").addClass(\"hide-in-slideshow\")\n",
       "        });\n",
       "    </script>"
      ]
     },
     "metadata": {},
     "output_type": "display_data"
    },
    {
     "data": {
      "image/png": "[encoded data removed]",
      "text/plain": [
       "<IPython.core.display.Image object>"
      ]
     },
     "metadata": {
      "image/png": {
       "width": 350
      }
     },
     "output_type": "display_data"
    }
   ],
   "source": [
    "# image credit: Kenneth Rosen \"Discrete Mathematics and Its Applications 7th ed\"\n",
    "sl.hide_code_in_slideshow()\n",
    "display(Image(\"images/L02/truthtable-negation.png\", width=350))"
   ]
  },
  {
   "cell_type": "markdown",
   "metadata": {
    "slideshow": {
     "slide_type": "fragment"
    }
   },
   "source": [
    "**Example**: \n",
    "- $P$: Pete will win the math prize.\n",
    "- $\\neg P$: Pete will not win the math prize."
   ]
  },
  {
   "cell_type": "markdown",
   "metadata": {
    "slideshow": {
     "slide_type": "slide"
    }
   },
   "source": [
    "## Disjunction (OR)\n",
    "\n",
    "**Notation**: Given propositions $P$ and $Q$, their disjunction is denoted $P \\lor Q$.\n",
    "\n",
    "**Truth Table**:\n"
   ]
  },
  {
   "cell_type": "code",
   "execution_count": 6,
   "metadata": {
    "collapsed": false,
    "slideshow": {
     "slide_type": "fragment"
    }
   },
   "outputs": [
    {
     "data": {
      "text/html": [
       "<div id=\"f4a047752d32a606\"></div>\n",
       "    <script type=\"text/javascript\">\n",
       "        $(function(){\n",
       "            var p = $(\"#f4a047752d32a606\");\n",
       "            if (p.length==0) return;\n",
       "\n",
       "            while (!p.hasClass(\"cell\")) {\n",
       "                p=p.parent();\n",
       "\n",
       "                if (p.prop(\"tagName\") ==\"body\") return;\n",
       "            }\n",
       "            var cell = p;\n",
       "            cell.find(\".input\").addClass(\"hide-in-slideshow\")\n",
       "        });\n",
       "    </script>"
      ]
     },
     "metadata": {},
     "output_type": "display_data"
    },
    {
     "data": {
      "image/png": "[encoded data removed]",
      "text/plain": [
       "<IPython.core.display.Image object>"
      ]
     },
     "metadata": {
      "image/png": {
       "width": 350
      }
     },
     "output_type": "display_data"
    }
   ],
   "source": [
    "# image credit: Kenneth Rosen \"Discrete Mathematics and Its Applications 7th ed\"\n",
    "sl.hide_code_in_slideshow()\n",
    "display(Image(\"images/L02/truthtable-disjunction.png\", width=350))"
   ]
  },
  {
   "cell_type": "markdown",
   "metadata": {
    "slideshow": {
     "slide_type": "fragment"
    }
   },
   "source": [
    "**Example**:\n",
    "\n",
    "- $P$: Pete will win the math prize.\n",
    "- $Q$: Pete will win the chemistry prize.\n",
    "\n",
    "- Pete will win the math prize or the chemistry prize: $P \\lor Q$."
   ]
  },
  {
   "cell_type": "markdown",
   "metadata": {
    "slideshow": {
     "slide_type": "slide"
    }
   },
   "source": [
    "## Conjunction (AND)\n",
    "\n",
    "**Notation**: Given propositions $P$ and $Q$, their conjunction is denoted $P \\lor Q$.\n",
    "\n",
    "**Truth Table**:\n"
   ]
  },
  {
   "cell_type": "code",
   "execution_count": 8,
   "metadata": {
    "collapsed": false,
    "slideshow": {
     "slide_type": "fragment"
    }
   },
   "outputs": [
    {
     "data": {
      "text/html": [
       "<div id=\"bddb9b0c48efdacb\"></div>\n",
       "    <script type=\"text/javascript\">\n",
       "        $(function(){\n",
       "            var p = $(\"#bddb9b0c48efdacb\");\n",
       "            if (p.length==0) return;\n",
       "\n",
       "            while (!p.hasClass(\"cell\")) {\n",
       "                p=p.parent();\n",
       "\n",
       "                if (p.prop(\"tagName\") ==\"body\") return;\n",
       "            }\n",
       "            var cell = p;\n",
       "            cell.find(\".input\").addClass(\"hide-in-slideshow\")\n",
       "        });\n",
       "    </script>"
      ]
     },
     "metadata": {},
     "output_type": "display_data"
    },
    {
     "data": {
      "image/png": "[encoded data removed]",
      "text/plain": [
       "<IPython.core.display.Image object>"
      ]
     },
     "metadata": {
      "image/png": {
       "width": 350
      }
     },
     "output_type": "display_data"
    }
   ],
   "source": [
    "# image credit: Kenneth Rosen \"Discrete Mathematics and Its Applications 7th ed\"\n",
    "sl.hide_code_in_slideshow()\n",
    "display(Image(\"images/L02/truthtable-conjunction.png\", width=350))"
   ]
  },
  {
   "cell_type": "markdown",
   "metadata": {
    "slideshow": {
     "slide_type": "fragment"
    }
   },
   "source": [
    "**Example**:\n",
    "\n",
    "- $P$: Pete will win the math prize.\n",
    "- $R$: Pete will win the math prize.\n",
    "\n",
    "- Jane and Pete will both win the math prize: $R \\land P$."
   ]
  },
  {
   "cell_type": "markdown",
   "metadata": {
    "slideshow": {
     "slide_type": "slide"
    }
   },
   "source": [
    "## Back To Our Puzzle"
   ]
  },
  {
   "cell_type": "markdown",
   "metadata": {
    "slideshow": {
     "slide_type": "fragment"
    }
   },
   "source": [
    "**VARIABLES**:\n",
    "$P$: Pete will win the math prize.  \n",
    "$Q$: Pete will win the chemistry prize.  \n",
    "$R$: Jane will win the math prize.  \n",
    "\n",
    "PREMISE 1: Jane and Pete won't both win the math prize.\n",
    "$$\\qquad \\neg ( R \\land P)$$\n",
    "\n",
    "PREMISE 2: Pete will win the math prize or the chemistry prize.\n",
    "$$\\qquad P \\lor Q$$\n",
    "\n",
    "PREMISE 3: If Jane does not win the math prize, Pete will win the chemistry prize.  \n",
    "    <span style=\"color:red\">How do we express this?</span>"
   ]
  },
  {
   "cell_type": "markdown",
   "metadata": {
    "slideshow": {
     "slide_type": "slide"
    }
   },
   "source": [
    "## What do you think?\n",
    "\n",
    "**Question**: Let $S$ and $T$ be given propositions. We want to build a truth table for the (English) proposition\n",
    "$$\\qquad \\mbox{if } S \\mbox{, then } T$$.\n",
    "\n",
    "Which of the following truth tables should we use?\n",
    "\n",
    "\n",
    "| Propositon $S$ | Proposition $T$ ||    Answer a)     |   Answer b)   |  Answer  c)   |    Answer   d)       |\n",
    "|---|---||------------|---------|---------|----------------|\n",
    "| F | F ||     T      |    F    |    F    |       T        |\n",
    "| F | T ||     T      |    T    |    F    |       T        |\n",
    "| T | F ||     F      |    F    |    F    |       T        |\n",
    "| T | T ||     T      |    T    |    T    |       F        |\n"
   ]
  },
  {
   "cell_type": "markdown",
   "metadata": {
    "slideshow": {
     "slide_type": "subslide"
    }
   },
   "source": [
    "The correct answer is a).\n",
    "\n",
    "\n",
    "| Proposition $S$ | Proposition $T$ | If $S$ then $T$ |\n",
    "|---|---|------------|\n",
    "| F | F |     T      |\n",
    "| F | T |     T      |\n",
    "| T | F |     F      |\n",
    "| T | T |     T      |b\n",
    "\n",
    "**Think**: What's the reason behind the first two rows? "
   ]
  },
  {
   "cell_type": "markdown",
   "metadata": {},
   "source": [
    "## Another Logical Connective: Implication"
   ]
  },
  {
   "cell_type": "markdown",
   "metadata": {
    "slideshow": {
     "slide_type": "slide"
    }
   },
   "source": [
    "**Notation**: Given propositions $P$ and $Q$, the implication $P$ implies $Q$ is denoted by $P \\implies Q$.\n",
    "\n",
    "**Truth Table**:\n",
    "\n"
   ]
  },
  {
   "cell_type": "code",
   "execution_count": 27,
   "metadata": {
    "collapsed": false,
    "scrolled": true,
    "slideshow": {
     "slide_type": "fragment"
    }
   },
   "outputs": [
    {
     "data": {
      "text/html": [
       "<div id=\"7fec6240d0532c55\"></div>\n",
       "    <script type=\"text/javascript\">\n",
       "        $(function(){\n",
       "            var p = $(\"#7fec6240d0532c55\");\n",
       "            if (p.length==0) return;\n",
       "\n",
       "            while (!p.hasClass(\"cell\")) {\n",
       "                p=p.parent();\n",
       "\n",
       "                if (p.prop(\"tagName\") ==\"body\") return;\n",
       "            }\n",
       "            var cell = p;\n",
       "            cell.find(\".input\").addClass(\"hide-in-slideshow\")\n",
       "        });\n",
       "    </script>"
      ]
     },
     "metadata": {},
     "output_type": "display_data"
    },
    {
     "data": {
      "image/png": "[encoded data removed]",
      "text/plain": [
       "<IPython.core.display.Image object>"
      ]
     },
     "metadata": {
      "image/png": {
       "width": 350
      }
     },
     "output_type": "display_data"
    }
   ],
   "source": [
    "# image credit: Kenneth Rosen \"Discrete Mathematics and Its Applications 7th ed\"\n",
    "sl.hide_code_in_slideshow()\n",
    "display(Image(\"images/L02/truthtable-implication.png\", width=350))"
   ]
  },
  {
   "cell_type": "markdown",
   "metadata": {
    "slideshow": {
     "slide_type": "fragment"
    }
   },
   "source": [
    "**Example**:\n",
    "\n",
    "$R$: Jane will win the math prize.  \n",
    "$Q$: Pete will win the chemistry prize.\n",
    "\n",
    "If Jane does not win the math prize, Pete will win the chemistry prize.\n",
    " $$ \\qquad (\\neg R) \\implies Q$$"
   ]
  },
  {
   "cell_type": "markdown",
   "metadata": {},
   "source": [
    "### Looking ahead ..."
   ]
  },
  {
   "cell_type": "code",
   "execution_count": 27,
   "metadata": {
    "collapsed": false,
    "scrolled": true,
    "slideshow": {
     "slide_type": "fragment"
    }
   },
   "outputs": [
    {
     "data": {
      "text/html": [
       "<div id=\"7fec6240d0532c55\"></div>\n",
       "    <script type=\"text/javascript\">\n",
       "        $(function(){\n",
       "            var p = $(\"#7fec6240d0532c55\");\n",
       "            if (p.length==0) return;\n",
       "\n",
       "            while (!p.hasClass(\"cell\")) {\n",
       "                p=p.parent();\n",
       "\n",
       "                if (p.prop(\"tagName\") ==\"body\") return;\n",
       "            }\n",
       "            var cell = p;\n",
       "            cell.find(\".input\").addClass(\"hide-in-slideshow\")\n",
       "        });\n",
       "    </script>"
      ]
     },
     "metadata": {},
     "output_type": "display_data"
    },
    {
     "data": {
      "image/png": "[encoded data removed]",
      "text/plain": [
       "<IPython.core.display.Image object>"
      ]
     },
     "metadata": {
      "image/png": {
       "width": 350
      }
     },
     "output_type": "display_data"
    }
   ],
   "source": [
    "# image credit: Kenneth Rosen \"Discrete Mathematics and Its Applications 7th ed\"\n",
    "sl.hide_code_in_slideshow()\n",
    "display(Image(\"images/L02/truthtable-implication.png\", width=350))"
   ]
  },
  {
   "cell_type": "markdown",
   "metadata": {
    "slideshow": {
     "slide_type": "slide"
    }
   },
   "source": [
    "Notice that there is a different way fo getting the same truth table:\n",
    "\n",
    "| Proposition P | Proposition Q | (not P) or Q |\n",
    "|---|---|------------|\n",
    "| T | T |     T      |\n",
    "| T | F |     F      |\n",
    "| F | T |     T      |\n",
    "| F | F |     T      |\n",
    "\n",
    "\n",
    "\n",
    "\n",
    "We say that $P \\implies Q$ and $(\\neg P) \\lor Q$ are _logically equivalent_."
   ]
  },
  {
   "cell_type": "markdown",
   "metadata": {
    "slideshow": {
     "slide_type": "slide"
    }
   },
   "source": [
    "## A Formal Solution to Our Puzzle"
   ]
  },
  {
   "cell_type": "markdown",
   "metadata": {},
   "source": [
    "Recall our __notation__:\n",
    "- variable $P$: Pete will win the math prize.\n",
    "- variable $Q$: Pete will win the chemistry prize.\n",
    "- variable $R$: Jane will win the math prize.\n",
    "\n",
    "PUZZLE:  \n",
    "- PREMISE 1: Jane and Pete won't both win the math prize.  \n",
    "$$\\qquad \\neg (R \\land P)$$\n",
    "- PREMISE 2: Pete will win the math prize or the chemistry prize.  \n",
    "$$\\qquad P \\lor Q $$\n",
    "- PREMISE 3: If Jane does not win the math prize, Pete will win the chemistry prize.\n",
    "$$\\qquad (\\neg R) \\implies Q$$\n",
    "- CONCLUSION: Pete will win the chemistry prize.\n",
    "$$\\qquad R$"
   ]
  },
  {
   "cell_type": "markdown",
   "metadata": {
    "slideshow": {
     "slide_type": "notes"
    }
   },
   "source": [
    "Solution on the blackboard."
   ]
  },
  {
   "cell_type": "code",
   "execution_count": 29,
   "metadata": {
    "collapsed": true,
    "slideshow": {
     "slide_type": "slide"
    }
   },
   "outputs": [
    {
     "name": "stdout",
     "output_type": "stream",
     "text": [
      "|---|---|---|--------------|--------|--------|\n",
      "| P | Q | R | not(R and P) | P or Q | R or Q |\n",
      "|---|---|---|--------------|--------|--------|\n",
      "| 0 | 0 | 0 |      1       |   0    |   0    |\n",
      "| 0 | 0 | 1 |      1       |   0    |   1    |\n",
      "| 0 | 1 | 0 |      1       |   1    |   1    |\n",
      "| 0 | 1 | 1 |      1       |   1    |   1    |\n",
      "| 1 | 0 | 0 |      1       |   1    |   0    |\n",
      "| 1 | 0 | 1 |      0       |   1    |   1    |\n",
      "| 1 | 1 | 0 |      1       |   1    |   1    |\n",
      "| 1 | 1 | 1 |      0       |   1    |   1    |\n",
      "|---|---|---|--------------|--------|--------|\n"
     ]
    }
   ],
   "source": [
    "a = Truths(['P', 'Q', 'R'], ['not(R and P)','P or Q', 'R or Q']).__str__();\n",
    "print(a.replace('+','|'));"
   ]
  },
  {
   "cell_type": "markdown",
   "metadata": {
    "slideshow": {
     "slide_type": "fragment"
    }
   },
   "source": [
    "## Other Important Logical Connectives"
   ]
  },
  {
   "cell_type": "markdown",
   "metadata": {
    "slideshow": {
     "slide_type": "slide"
    }
   },
   "source": [
    "Let's go one more.\n",
    "\n",
    "| $n$       | Is $n$ prime?   | $2^n - {1}$ | Is $2^n - 1$ prime?   |\n",
    "| --------- | --------------- | ----------- | --------------------- |\n",
    "| 11        |     **yes**     |     2047    |           ??          |"
   ]
  },
  {
   "cell_type": "markdown",
   "metadata": {
    "slideshow": {
     "slide_type": "fragment"
    }
   },
   "source": [
    "No, 2047 is not prime (i.e., it is composite):\n",
    "    $$\n",
    "    2047 = 23\\cdot 89\n",
    "    $$"
   ]
  },
  {
   "cell_type": "markdown",
   "metadata": {
    "slideshow": {
     "slide_type": "fragment"
    }
   },
   "source": [
    "- Question: Which conjecture have we disproved?"
   ]
  },
  {
   "cell_type": "markdown",
   "metadata": {
    "slideshow": {
     "slide_type": "fragment"
    }
   },
   "source": [
    "Whenever we disprove something, we also prove something else. For instance, we have the following _theorem_:\n",
    "** Theorem 1 ** Conjecture 1 is false.\n",
    "\n",
    "**Proof**: \n",
    "* Take $n$ = 11. \n",
    "    - We have $n > 1$ and $n$ is prime.\n",
    "* However, $2^n - 1 = 2047$ is not prime, \n",
    "    - because $2047 = 23 \\cdot 89$."
   ]
  },
  {
   "cell_type": "markdown",
   "metadata": {
    "slideshow": {
     "slide_type": "fragment"
    }
   },
   "source": [
    "- This very simple proof is a proof by _counterexample_. \n",
    "- It just required exhibiting a number ($n = 11$) for which Conjecture 1 was false."
   ]
  },
  {
   "cell_type": "markdown",
   "metadata": {
    "slideshow": {
     "slide_type": "slide"
    }
   },
   "source": [
    "## A More Interesting Proof"
   ]
  },
  {
   "cell_type": "markdown",
   "metadata": {
    "slideshow": {
     "slide_type": "-"
    }
   },
   "source": [
    "**Conjecture 2**:  Suppose $n$ is an integer larger than $1$ and $n$ is **not** prime.  Then, $2^n - 1$ is **not** prime.\n",
    "\n",
    "- We still do not know much about the truth of Conjecture 2. \n",
    "- I will now show you a proof that Conjecture 2 is true.\n",
    "- This will require more effort, as I need to show that something is true _for all_ values of $n$."
   ]
  },
  {
   "cell_type": "markdown",
   "metadata": {
    "slideshow": {
     "slide_type": "fragment"
    }
   },
   "source": [
    "**Proof of Conjecture 2**:\n",
    "* Since $n$ is not prime, there are positive integers $a,b \\geq 1$ such that\n",
    "$$ n = a \\cdot b $$.\n",
    "\n",
    "* Define:\n",
    "    $$ x = 2^b - 1$$\n",
    "    \n",
    "    $$ y = 1+ 2^b + 2^{2b} + \\cdots + 2^{(a-1)b}$$\n",
    "\n",
    "* Then:\n",
    "$$ xy = (2^b - 1) \\cdot (1+ 2^b + 2^{2b} + \\cdots + 2^{(a-1)b}) $$"
   ]
  },
  {
   "cell_type": "markdown",
   "metadata": {
    "slideshow": {
     "slide_type": "fragment"
    }
   },
   "source": [
    "$$ = [2^b + 2^{2b} + 2^{3b} + \\cdots + 2^{ab}] - [1+ 2^b + 2^{2b} + \\cdots + 2^{(a-1)b}]$$"
   ]
  },
  {
   "cell_type": "markdown",
   "metadata": {
    "slideshow": {
     "slide_type": "fragment"
    }
   },
   "source": [
    "$$ = 2^{ab} - 1 = 2^n - 1$$.\n",
    "\n",
    "Hence, $2^n - 1$ is not prime as $2^{n} - 1 = xy$. \n",
    "\n"
   ]
  },
  {
   "cell_type": "markdown",
   "metadata": {
    "slideshow": {
     "slide_type": "fragment"
    }
   },
   "source": [
    "**GOALS FOR THE FIRST PART OF THIS CLASS**:\n",
    "1. Learn to understand proofs\n",
    "2. Learn to write proofs\n",
    "3. Learn to **FIND** proofs"
   ]
  }
 ],
 "metadata": {
  "anaconda-cloud": {},
  "celltoolbar": "Slideshow",
  "kernelspec": {
   "display_name": "Python [conda root]",
   "language": "python",
   "name": "conda-root-py"
  },
  "language_info": {
   "codemirror_mode": {
    "name": "ipython",
    "version": 3
   },
   "file_extension": ".py",
   "mimetype": "text/x-python",
   "name": "python",
   "nbconvert_exporter": "python",
   "pygments_lexer": "ipython3",
   "version": "3.5.2"
  },
  "livereveal": {
   "scroll": "True"
  }
 },
 "nbformat": 4,
 "nbformat_minor": 0
}
